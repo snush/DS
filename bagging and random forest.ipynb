{
  "nbformat": 4,
  "nbformat_minor": 0,
  "metadata": {
    "colab": {
      "name": "bagging_and_random_forest.ipynb",
      "provenance": []
    },
    "kernelspec": {
      "name": "python3",
      "display_name": "Python 3"
    },
    "language_info": {
      "name": "python"
    }
  },
  "cells": [
    {
      "cell_type": "code",
      "source": [
        "from sklearn import datasets\n",
        "from sklearn.model_selection import cross_val_score\n",
        "from sklearn.tree import DecisionTreeClassifier\n",
        "\n",
        "X = datasets.load_digits()['data']\n",
        "y = datasets.load_digits()['target']\n",
        "\n",
        "tr_clf = DecisionTreeClassifier(random_state=0)\n",
        "cross_val_score(tr_clf, X, y, cv=10).mean()"
      ],
      "metadata": {
        "colab": {
          "base_uri": "https://localhost:8080/"
        },
        "id": "MtI1WOuMvPDq",
        "outputId": "9581c21a-3866-4b76-8198-5d4d809008b4"
      },
      "execution_count": null,
      "outputs": [
        {
          "output_type": "execute_result",
          "data": {
            "text/plain": [
              "0.8241247672253259"
            ]
          },
          "metadata": {},
          "execution_count": 2
        }
      ]
    },
    {
      "cell_type": "code",
      "source": [
        "with open('answer1.txt', 'w') as f:\n",
        "  f.write('0.8241247672253259')"
      ],
      "metadata": {
        "id": "bd0Ns2DgwjDX"
      },
      "execution_count": null,
      "outputs": []
    },
    {
      "cell_type": "code",
      "source": [
        "from sklearn.ensemble import BaggingClassifier\n",
        "\n",
        "bgg_clf = BaggingClassifier(tr_clf, n_estimators=100)\n",
        "bgg_clf.fit(X, y)\n",
        "cross_val_score(bgg_clf, X, y, cv=10).mean()"
      ],
      "metadata": {
        "colab": {
          "base_uri": "https://localhost:8080/"
        },
        "id": "7uilhH92ylEx",
        "outputId": "395938ad-f95d-49cd-9a3f-098d2ac20e39"
      },
      "execution_count": null,
      "outputs": [
        {
          "output_type": "execute_result",
          "data": {
            "text/plain": [
              "0.9231688392302917"
            ]
          },
          "metadata": {},
          "execution_count": 8
        }
      ]
    },
    {
      "cell_type": "code",
      "source": [
        "with open('answer2.txt', 'w') as f:\n",
        "  f.write('0.9242768466790814')"
      ],
      "metadata": {
        "id": "_n76K7mn2Oyt"
      },
      "execution_count": null,
      "outputs": []
    },
    {
      "cell_type": "code",
      "source": [
        "from sklearn.ensemble import BaggingClassifier\n",
        "\n",
        "bgg_clf = BaggingClassifier(tr_clf, n_estimators=100, max_features=8)\n",
        "bgg_clf.fit(X, y)\n",
        "cross_val_score(bgg_clf, X, y, cv=10).mean()"
      ],
      "metadata": {
        "colab": {
          "base_uri": "https://localhost:8080/"
        },
        "id": "HVV6dACJ3u13",
        "outputId": "52277dc8-78d3-4f72-fdc7-2f330089e47e"
      },
      "execution_count": null,
      "outputs": [
        {
          "output_type": "execute_result",
          "data": {
            "text/plain": [
              "0.927653631284916"
            ]
          },
          "metadata": {},
          "execution_count": 9
        }
      ]
    },
    {
      "cell_type": "code",
      "source": [
        "with open('answer3.txt', 'w') as f:\n",
        "  f.write('0.9321229050279328')"
      ],
      "metadata": {
        "id": "kyW-i2_44AEj"
      },
      "execution_count": null,
      "outputs": []
    },
    {
      "cell_type": "code",
      "source": [
        "tr_clf_max = DecisionTreeClassifier(random_state=0, max_features=8)\n",
        "cross_val_score(tr_clf, X, y, cv=10).mean()"
      ],
      "metadata": {
        "colab": {
          "base_uri": "https://localhost:8080/"
        },
        "id": "6ioHWhO47DHT",
        "outputId": "9dbea3cf-7145-4a23-967c-f3a91ef1ca5e"
      },
      "execution_count": null,
      "outputs": [
        {
          "output_type": "execute_result",
          "data": {
            "text/plain": [
              "0.8241247672253259"
            ]
          },
          "metadata": {},
          "execution_count": 11
        }
      ]
    },
    {
      "cell_type": "code",
      "source": [
        "bgg_clf = BaggingClassifier(tr_clf_max, n_estimators=100)\n",
        "bgg_clf.fit(X, y)\n",
        "cross_val_score(bgg_clf, X, y, cv=10).mean()"
      ],
      "metadata": {
        "colab": {
          "base_uri": "https://localhost:8080/"
        },
        "id": "2LQgV6Ws7Mz-",
        "outputId": "5816a595-72f6-4e34-ab85-98ece5afef3c"
      },
      "execution_count": null,
      "outputs": [
        {
          "output_type": "execute_result",
          "data": {
            "text/plain": [
              "0.9532464307883302"
            ]
          },
          "metadata": {},
          "execution_count": 12
        }
      ]
    },
    {
      "cell_type": "code",
      "source": [
        "with open('answer4.txt', 'w') as f:\n",
        "  f.write('0.9521353196772191')"
      ],
      "metadata": {
        "id": "QCOKaAOd7hOg"
      },
      "execution_count": null,
      "outputs": []
    },
    {
      "cell_type": "code",
      "source": [
        "from sklearn.ensemble import RandomForestClassifier\n",
        "\n",
        "rf_clf = RandomForestClassifier(n_estimators=100, max_depth=30, max_features=8, random_state=0)\n",
        "rf_clf.fit(X, y)\n",
        "cross_val_score(rf_clf, X, y, cv=10).mean()"
      ],
      "metadata": {
        "colab": {
          "base_uri": "https://localhost:8080/"
        },
        "id": "T6qFYYhR75N7",
        "outputId": "88b48ce8-48b9-4c0c-ce3b-5ac767558843"
      },
      "execution_count": null,
      "outputs": [
        {
          "output_type": "execute_result",
          "data": {
            "text/plain": [
              "0.9476939788950961"
            ]
          },
          "metadata": {},
          "execution_count": 46
        }
      ]
    },
    {
      "cell_type": "code",
      "source": [
        "with open('answer5.txt', 'w') as f:\n",
        "  f.write('2 3 4 7')"
      ],
      "metadata": {
        "id": "NqujWJIX-ptJ"
      },
      "execution_count": null,
      "outputs": []
    },
    {
      "cell_type": "code",
      "source": [
        "from sklearn import datasets\n",
        "from sklearn.model_selection import cross_val_score\n",
        "from sklearn.naive_bayes import BernoulliNB, MultinomialNB, GaussianNB\n",
        "\n",
        "X_1 = datasets.load_digits()['data']\n",
        "y_1 = datasets.load_digits()['target']\n",
        "\n",
        "X_2 = datasets.load_breast_cancer()['data']\n",
        "y_2 = datasets.load_breast_cancer()['target']\n",
        "\n",
        "bern_clf= BernoulliNB()\n",
        "bern_clf.fit(X_1, y_1)\n",
        "print(cross_val_score(bern_clf, X_1, y_1).mean())\n",
        "\n",
        "bern_clf.fit(X_2, y_2)\n",
        "print(cross_val_score(bern_clf, X_2, y_2).mean())\n",
        "\n",
        "mult_clf = MultinomialNB()\n",
        "mult_clf.fit(X_1, y_1)\n",
        "print(cross_val_score(mult_clf, X_1, y_1).mean())\n",
        "\n",
        "mult_clf.fit(X_2, y_2)\n",
        "print(cross_val_score(mult_clf, X_2, y_2).mean())\n",
        "\n",
        "gauss_clf = GaussianNB()\n",
        "gauss_clf.fit(X_1, y_1)\n",
        "print(cross_val_score(gauss_clf, X_1, y_1).mean())\n",
        "\n",
        "gauss_clf.fit(X_2, y_2)\n",
        "print(cross_val_score(gauss_clf, X_2, y_2).mean())"
      ],
      "metadata": {
        "colab": {
          "base_uri": "https://localhost:8080/"
        },
        "id": "MATZi_ZhBheT",
        "outputId": "2b38eae4-2a25-4452-d0c1-f4d9f1553d22"
      },
      "execution_count": null,
      "outputs": [
        {
          "output_type": "stream",
          "name": "stdout",
          "text": [
            "0.8241736304549674\n",
            "0.6274181027790716\n",
            "0.8703497369235531\n",
            "0.8963204471355379\n",
            "0.8069281956050759\n",
            "0.9385188635305075\n"
          ]
        }
      ]
    },
    {
      "cell_type": "code",
      "source": [
        "with open('answer1.txt', 'w') as f:\n",
        "  f.write('0.9367794486215537')"
      ],
      "metadata": {
        "id": "mO3B7gRUE1Nr"
      },
      "execution_count": null,
      "outputs": []
    },
    {
      "cell_type": "code",
      "source": [
        "with open('answer2.txt', 'w') as f:\n",
        "  f.write('0.8797858472998138')"
      ],
      "metadata": {
        "id": "bjliB7RQE8wr"
      },
      "execution_count": null,
      "outputs": []
    },
    {
      "cell_type": "code",
      "source": [
        "with open('answer3.txt', 'w') as f:\n",
        "  f.write('3 4')"
      ],
      "metadata": {
        "id": "6F0oJin-FNUx"
      },
      "execution_count": null,
      "outputs": []
    },
    {
      "cell_type": "code",
      "source": [
        "from sklearn.model_selection import train_test_split\n",
        "\n",
        "X = datasets.load_digits()['data']\n",
        "y = datasets.load_digits()['target']\n",
        "\n",
        "X_train, X_test, y_train, y_test = train_test_split(X, y, test_size=0.25, shuffle = False)"
      ],
      "metadata": {
        "id": "guMFXocVPjsM"
      },
      "execution_count": null,
      "outputs": []
    },
    {
      "cell_type": "code",
      "source": [
        "import numpy as np\n",
        "\n",
        "def euclidian_metric(x, y):\n",
        "    return np.sqrt(np.sum((x - y)**2))"
      ],
      "metadata": {
        "id": "9DtWB83fX8eV"
      },
      "execution_count": null,
      "outputs": []
    },
    {
      "cell_type": "code",
      "source": [
        "from sklearn.neighbors import KNeighborsClassifier\n",
        "\n",
        "for i in range(1, 51):\n",
        "  clf = KNeighborsClassifier(n_neighbors=i)\n",
        "  clf.fit(X_train, y_train)"
      ],
      "metadata": {
        "id": "zYo68YunXVjM"
      },
      "execution_count": null,
      "outputs": []
    },
    {
      "cell_type": "code",
      "source": [
        ""
      ],
      "metadata": {
        "id": "liMPK5f_ZVFT"
      },
      "execution_count": null,
      "outputs": []
    },
    {
      "cell_type": "code",
      "source": [
        "knn = []\n",
        "for test_value in X_test:\n",
        "    ind_min_metric = 0\n",
        "    min_metric = euclidian_metric(test_value, X_train[0])\n",
        "    \n",
        "    for index, train_value in enumerate(X_train):\n",
        "        metric = euclidian_metric(test_value, train_value)\n",
        "        if metric < min_metric:\n",
        "            min_metric = metric\n",
        "            ind_min_metric = index\n",
        "    knn.append(y_train[ind_min_metric])"
      ],
      "metadata": {
        "id": "tzXHu8zgYgp-"
      },
      "execution_count": null,
      "outputs": []
    },
    {
      "cell_type": "code",
      "source": [
        "1 - accuracy_score(y_test, knn)"
      ],
      "metadata": {
        "colab": {
          "base_uri": "https://localhost:8080/"
        },
        "id": "rh5XbFe7YzqI",
        "outputId": "ba8e36f0-9fa8-4351-9f22-ed160967d985"
      },
      "execution_count": null,
      "outputs": [
        {
          "output_type": "execute_result",
          "data": {
            "text/plain": [
              "0.0377777777777778"
            ]
          },
          "metadata": {},
          "execution_count": 107
        }
      ]
    },
    {
      "cell_type": "code",
      "source": [
        "with open('answer1.txt', 'w') as f:\n",
        "  f.write('0.037777777777777778')"
      ],
      "metadata": {
        "id": "D1T-J3jra3in"
      },
      "execution_count": null,
      "outputs": []
    },
    {
      "cell_type": "code",
      "source": [
        "0.037777777777777778"
      ],
      "metadata": {
        "colab": {
          "base_uri": "https://localhost:8080/"
        },
        "id": "C2gnYqf4aSUP",
        "outputId": "7a7e7bfc-5a55-421b-a5bc-f6f8fe7b9365"
      },
      "execution_count": null,
      "outputs": [
        {
          "output_type": "execute_result",
          "data": {
            "text/plain": [
              "0.2782415136338301"
            ]
          },
          "metadata": {},
          "execution_count": 97
        }
      ]
    },
    {
      "cell_type": "code",
      "source": [
        "from sklearn.metrics import accuracy_score\n",
        "\n",
        "clf = RandomForestClassifier(n_estimators=1000)\n",
        "clf.fit(X_train, y_train)\n",
        "predictions = clf.predict(X_test)\n",
        "\n",
        "answer = accuracy_score(y_test, predictions)\n",
        "1 - answer"
      ],
      "metadata": {
        "colab": {
          "base_uri": "https://localhost:8080/"
        },
        "id": "9opBZ3o7V-XN",
        "outputId": "df0f7c43-2295-4e25-93a9-64c3599df269"
      },
      "execution_count": null,
      "outputs": [
        {
          "output_type": "execute_result",
          "data": {
            "text/plain": [
              "0.06888888888888889"
            ]
          },
          "metadata": {},
          "execution_count": 109
        }
      ]
    },
    {
      "cell_type": "code",
      "source": [
        "with open('answer2.txt', 'w') as f:\n",
        "  f.write('0.06888888888888889')"
      ],
      "metadata": {
        "id": "NBsjiabRckNL"
      },
      "execution_count": null,
      "outputs": []
    }
  ]
}