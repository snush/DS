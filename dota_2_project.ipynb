{
  "cells": [
    {
      "cell_type": "markdown",
      "metadata": {
        "id": "msDEV6-xymfE"
      },
      "source": [
        "# Финальное задание"
      ]
    },
    {
      "cell_type": "markdown",
      "metadata": {
        "id": "RrvhLBhKymfM"
      },
      "source": [
        "## Предметная область: Игра Dota 2\n",
        "\n",
        "[Dota 2](https://ru.wikipedia.org/wiki/Dota_2) — многопользовательская компьютерная игра жанра [MOBA](https://ru.wikipedia.org/wiki/MOBA). Игроки играют между собой матчи. В каждом матче участвует две команды, 5 человек в каждой. Одна команда играет за светлую сторону (The Radiant), другая — за тёмную (The Dire). Цель каждой команды — уничтожить главное здание базы противника (трон).\n",
        "\n",
        "Существуют [разные режимы игры](http://dota2.gamepedia.com/Game_modes/ru), мы будем рассматривать режим [Captain's Mode](http://dota2.gamepedia.com/Game_modes/ru#Captain.27s_Mode), в формате которого происходит большая часть киберспортивных мероприятий по Dota 2.\n",
        "\n",
        "### Как проходит матч\n",
        "\n",
        "#### 1. Игроки выбирают героев\n",
        "\n",
        "Всего в игре чуть более 100 различных героев (персонажей). В начале игры, команды в определенном порядке выбирают героев себе и запрещают выбирать определенных героев противнику (баны). Каждый игрок будет управлять одним героем, в рамках одного матча не может быть несколько одинаковых героев.  Герои различаются между собой своими характеристиками и способностями. От комбинации выбранных героев во многом зависит успех команды.\n",
        "\n",
        "![](http://imgur.com/XFr4HYE.jpg)\n",
        "\n",
        "#### 2. Основная часть\n",
        "\n",
        "Игроки могут получать золото и опыт за убийство чужих героев или прочих юнитов. Накопленный опыт влияет на уровень героя, который в свою очередь позволяет улучшать способности. За накопленное золото игроки покупают предметы, которые улучшают характеристики героев или дают им новые способности.\n",
        "\n",
        "После смерти герой отправляется в \"таверну\" и возрождается только по прошествии некоторого времени, таким образом команда на некоторое время теряет игрока, однако игрок может досрочно выкупить героя из таверны за определенную сумму золота.\n",
        "\n",
        "В течение игры команды развивают своих героев, обороняют свою часть поля и нападают на вражескую.\n",
        "\n",
        "![](http://imgur.com/5b0SlQb.jpg)\n",
        "\n",
        "#### 3. Конец игры\n",
        "\n",
        "Игра заканчивается, когда одна из команд разрушет определенное число \"башен\" противника и уничтожает трон.\n",
        "\n",
        "![](http://imgur.com/Du79Kzf.jpg)"
      ]
    },
    {
      "cell_type": "markdown",
      "metadata": {
        "id": "9MlAfxUxymfQ"
      },
      "source": [
        "## Задача: предсказание победы по данным о первых 5 минутах игры\n",
        "\n",
        "По первым 5 минутам игры предсказать, какая из команд победит: Radiant или Dire?"
      ]
    },
    {
      "cell_type": "markdown",
      "metadata": {
        "id": "ASt8lA_0ymfS"
      },
      "source": [
        "## Набор данных\n",
        "\n",
        "Набор данных с матчами записан в файле `matches.jsonlines.bz2`.\n",
        "В каталоге `dictionaries` приведены расшифровки идентификаторов, которые присутствуют в записях матчей."
      ]
    },
    {
      "cell_type": "markdown",
      "metadata": {
        "id": "sbFTHnFOymfU"
      },
      "source": [
        "#### Чтение информации о матчах\n",
        "\n",
        "Информация о матчах записана в сжатом текстовом файле `matches.jsonlines.bz2`, каждая строчка которого содержит объект в формате [JSON](https://ru.wikipedia.org/wiki/JSON). Запись в формате JSON преобразуется в python-объект при помощи стандартного модуля `json`. Пример чтения матчей:"
      ]
    },
    {
      "cell_type": "code",
      "execution_count": null,
      "metadata": {
        "collapsed": true,
        "id": "Q_FeHazIymfV"
      },
      "outputs": [],
      "source": [
        "import json\n",
        "import bz2\n",
        "\n",
        "with bz2.BZ2File('./matches.jsonlines.bz2') as matches_file:\n",
        "    for line in matches_file:\n",
        "        match = json.loads(line)\n",
        "        \n",
        "        # Обработка матча\n",
        "        break"
      ]
    },
    {
      "cell_type": "markdown",
      "metadata": {
        "id": "mlAgzsmNymfZ"
      },
      "source": [
        "#### Описание полей в записи матча\n",
        "\n",
        "```python\n",
        "{\n",
        "    \"match_id\": 247,            # идентификатор матча\n",
        "    \"start_time\": 1430514316,   # дата/время начала матча, unixtime\n",
        "    \"lobby_type\": 0,            # тип комнаты, в которой собираются игроки \n",
        "                                #   (расшифровка в dictionaries/lobbies.csv)\n",
        " \n",
        "    # стадия выбора героев\n",
        "    \"picks_bans\": [\n",
        "        {\n",
        "            \"order\": 0,       # порядковый номер действия\n",
        "            \"is_pick\": false, # true если команда выбирает героя, false — если банит\n",
        "            \"team\": 1,        # команда, совершающая действие (0 — Radiant, 1 — Dire)\n",
        "            \"hero_id\": 95     # герой, связанный с действием \n",
        "                              #    (расшифровка в dictionaries/heroes.csv)\n",
        "        }, \n",
        "        ...\n",
        "    ],\n",
        "\n",
        "    # информация про каждого игрока, список ровно из 10 элементов\n",
        "    # игроки с индексами от 0 до 4 — из команды Radiant, от 5 до 9 — Dire\n",
        "    \"players\": [ \n",
        "        { \n",
        "        \n",
        "            # герой игрока (расшифровка в dictionaries/heroes.csv)\n",
        "            \"hero_id\": 67,  \n",
        "\n",
        "            # временные ряды (отсчеты указаны в поле \"times\")\n",
        "            \"xp_t\": [0, 13, 115, 177, 335, ...],   # опыт\n",
        "            \"gold_t\": [0, 99, 243, 343, 499, ...], # золото + стоимость всех купленных вещей (net worth)\n",
        "            \"lh_t\": [0, 0, 2, 2, 2, ...],          # количество убитых юнитов (не героев) противника\n",
        "\n",
        "            # список событий: улучшение способностей героя\n",
        "            \"ability_upgrades\": [\n",
        "                {\n",
        "                    \"time\": 51,      # игровое время\n",
        "                    \"level\": 1,      # уровень игрока, на котором произошло улучшение\n",
        "                    \"ability\": 5334  # способность, которая была улучшена \n",
        "                                     # (расшифровка в dictionaries/abilities.csv)\n",
        "                }, \n",
        "                ...\n",
        "            ],\n",
        "\n",
        "            # список событий: убийства\n",
        "            \"kills_log\": [\n",
        "                {\n",
        "                    \"time\": 831,    # игровое время\n",
        "                    \"player\": 7,    # индекс игрока, чей герой был убит \n",
        "                                    #   (не заполнено, если был убит не герой)\n",
        "                    \"unit\": \"npc_dota_hero_viper\" # тип убитого юнита\n",
        "                }, \n",
        "                ...\n",
        "            ],\n",
        "\n",
        "            # список событий: покупка предметов\n",
        "            \"purchase_log\": [\n",
        "                {\n",
        "                    \"time\": -73,     # игровое время\n",
        "                                     #   точка отсчета игрового времени (ноль) начинается через\n",
        "                                     #   несколько минут после фактического начала матча, поэтому\n",
        "                                     #   время некоторых событий может быть отрицательным\n",
        "                    \"item_id\": 44    # купленный предмер (расшифровка в dictionaries/items.csv)\n",
        "                }, \n",
        "                ...\n",
        "            ]\n",
        "\n",
        "            # список событий: выкуп героя из таверны\n",
        "            \"buyback_log\": [\n",
        "                {\"time\": 2507},\n",
        "                ...\n",
        "            ],\n",
        "\n",
        "            # список событий: установка героем \"наблюдателей\", позволяющих команде \n",
        "            # следить за чатью игрового поля на некотором расстоянии от точки установки\n",
        "            \"obs_log\": [\n",
        "                {\n",
        "                    \"time\": 1711,    # игровое время установки\n",
        "                    \"xy\": [111, 130] # координаты игрового поля\n",
        "                }, \n",
        "                ...\n",
        "            ],\n",
        "            \"sen_log\": [], # аналогично полю obs_log, другой тип \"наблюдателя\"\n",
        "\n",
        "        },\n",
        "        ...\n",
        "    ],\n",
        "    \n",
        "    # отсчеты игрового времени, в которые вычисляются значения временных рядов\n",
        "    \"times\": [0, 60, 120, 180, ...],\n",
        "\n",
        "    # ключевые события игры\n",
        "    \"objectives\": [\n",
        "        {\n",
        "            \"time\": 198,           # время события\n",
        "            \"type\": \"firstblood\",  # тип события\n",
        "            \"player1\": 6,          # параметры события, могут содержать\n",
        "            \"player2\": 1           #   индексы игроков (player), \n",
        "                                   #   номер команды (team, 0 — Radiant, 1 — Dire)\n",
        "        }, \n",
        "        {\n",
        "            \"time\": 765, \n",
        "            \"type\": \"tower_kill\", \n",
        "            \"player\": 7, \n",
        "            \"team\": 1\n",
        "        }, \n",
        "        ...\n",
        "    ]\n",
        "    \n",
        "    # итог матча (отсутствует в тестовых матчах)\n",
        "    \"finish\": {\n",
        "        \"duration\": 2980,             # длительность в секундах\n",
        "        \"radiant_win\": false,         # true, если победила команда Radiant\n",
        "        \"tower_status_radiant\": 0,    # состояние башен у команд к концу игры\n",
        "        \"tower_status_dire\": 1972,    #   (см. описание битовой маски)\n",
        "        \"barracks_status_dire\": 63,   # состояние бараков у команд к концу игры\n",
        "        \"barracks_status_radiant\": 0  #   (см. описание битовой маски)\n",
        "    }\n",
        "}\n",
        "```"
      ]
    },
    {
      "cell_type": "markdown",
      "metadata": {
        "id": "Ry02dxqgymfc"
      },
      "source": [
        "#### Описание полей состояния башен и бараков\n",
        "\n",
        "Состояние башен к концу игры задается целым числом, закодировано в битах:\n",
        "\n",
        "```\n",
        "┌─┬─┬─┬─┬─────────────────────── Not used.\n",
        "│ │ │ │ │ ┌───────────────────── Ancient Bottom\n",
        "│ │ │ │ │ │ ┌─────────────────── Ancient Top\n",
        "│ │ │ │ │ │ │ ┌───────────────── Bottom Tier 3\n",
        "│ │ │ │ │ │ │ │ ┌─────────────── Bottom Tier 2\n",
        "│ │ │ │ │ │ │ │ │ ┌───────────── Bottom Tier 1\n",
        "│ │ │ │ │ │ │ │ │ │ ┌─────────── Middle Tier 3\n",
        "│ │ │ │ │ │ │ │ │ │ │ ┌───────── Middle Tier 2\n",
        "│ │ │ │ │ │ │ │ │ │ │ │ ┌─────── Middle Tier 1\n",
        "│ │ │ │ │ │ │ │ │ │ │ │ │ ┌───── Top Tier 3\n",
        "│ │ │ │ │ │ │ │ │ │ │ │ │ │ ┌─── Top Tier 2\n",
        "│ │ │ │ │ │ │ │ │ │ │ │ │ │ │ ┌─ Top Tier 1\n",
        "│ │ │ │ │ │ │ │ │ │ │ │ │ │ │ │\n",
        "0 0 0 0 0 0 0 0 0 0 0 0 0 0 0 0\n",
        "```\n",
        "\n",
        "Состояние бараков к концу игры закодировано в битах целого числа:\n",
        "\n",
        "```\n",
        "┌─┬───────────── Not used.\n",
        "│ │ ┌─────────── Bottom Ranged\n",
        "│ │ │ ┌───────── Bottom Melee\n",
        "│ │ │ │ ┌─────── Middle Ranged\n",
        "│ │ │ │ │ ┌───── Middle Melee\n",
        "│ │ │ │ │ │ ┌─── Top Ranged\n",
        "│ │ │ │ │ │ │ ┌─ Top Melee\n",
        "│ │ │ │ │ │ │ │\n",
        "0 0 0 0 0 0 0 0\n",
        "```"
      ]
    },
    {
      "cell_type": "markdown",
      "metadata": {
        "id": "EWY8reUSymfd"
      },
      "source": [
        "## Извлечение признаков\n",
        "\n",
        "Скрипт extract_features.py производит извлечение признаков из известной информации о матче за первые 5 игровых минут, составляет из них таблицу. Таблица поможет вам быстрее сформировать матрицу объект-признак, вектор ответов и начать применять методы машинного обучения для решения поставленной задачи.\n",
        "\n",
        "Признаки, представленные в таблице `features.csv`, по мнению экспертов в предметной области являются наиболее важными для решения задачи предсказания победы команды. Тем не менее, не обязательно использовать эти признаки в исходном виде для применения методов машинного обучения — вы можете сделать новые признаки из имеющихся. Более того, признаки в файле `features.csv` содержат не всю информацию, известную про матч за первые 5 игровых минут. Вы можете использовать скрипт `extract_features.py` как пример и добавлять свои признаки для улучшения качества предсказания."
      ]
    },
    {
      "cell_type": "markdown",
      "metadata": {
        "id": "EQfqs9uZymff"
      },
      "source": [
        "#### Пример чтения файла с признаками"
      ]
    },
    {
      "cell_type": "code",
      "execution_count": null,
      "metadata": {
        "colab": {
          "base_uri": "https://localhost:8080/",
          "height": 331
        },
        "id": "OavIBJMfymfg",
        "outputId": "267df32d-40ff-4fc7-9587-eeb367651795"
      },
      "outputs": [
        {
          "output_type": "execute_result",
          "data": {
            "text/plain": [
              "          start_time  lobby_type  r1_hero  r1_level  r1_xp  r1_gold  r1_lh  \\\n",
              "match_id                                                                     \n",
              "0         1430198770           7       11         5   2098     1489     20   \n",
              "1         1430220345           0       42         4   1188     1033      9   \n",
              "2         1430227081           7       33         4   1319     1270     22   \n",
              "3         1430263531           1       29         4   1779     1056     14   \n",
              "4         1430282290           7       13         4   1431     1090      8   \n",
              "\n",
              "          r1_kills  r1_deaths  r1_items  ...  dire_boots_count  \\\n",
              "match_id                                 ...                     \n",
              "0                0          0         7  ...                 4   \n",
              "1                0          1        12  ...                 4   \n",
              "2                0          0        12  ...                 4   \n",
              "3                0          0         5  ...                 4   \n",
              "4                1          0         8  ...                 3   \n",
              "\n",
              "          dire_ward_observer_count  dire_ward_sentry_count  \\\n",
              "match_id                                                     \n",
              "0                                2                       2   \n",
              "1                                3                       1   \n",
              "2                                3                       1   \n",
              "3                                2                       0   \n",
              "4                                3                       0   \n",
              "\n",
              "          dire_first_ward_time  duration  radiant_win  tower_status_radiant  \\\n",
              "match_id                                                                      \n",
              "0                        -52.0      2874            1                  1796   \n",
              "1                         -5.0      2463            1                  1974   \n",
              "2                         13.0      2130            0                     0   \n",
              "3                         27.0      1459            0                  1920   \n",
              "4                        -16.0      2449            0                     4   \n",
              "\n",
              "          tower_status_dire  barracks_status_radiant  barracks_status_dire  \n",
              "match_id                                                                    \n",
              "0                         0                       51                     0  \n",
              "1                         0                       63                     1  \n",
              "2                      1830                        0                    63  \n",
              "3                      2047                       50                    63  \n",
              "4                      1974                        3                    63  \n",
              "\n",
              "[5 rows x 108 columns]"
            ],
            "text/html": [
              "\n",
              "  <div id=\"df-d6c38359-fc8f-4fe0-bdca-6e0c8d3b7304\">\n",
              "    <div class=\"colab-df-container\">\n",
              "      <div>\n",
              "<style scoped>\n",
              "    .dataframe tbody tr th:only-of-type {\n",
              "        vertical-align: middle;\n",
              "    }\n",
              "\n",
              "    .dataframe tbody tr th {\n",
              "        vertical-align: top;\n",
              "    }\n",
              "\n",
              "    .dataframe thead th {\n",
              "        text-align: right;\n",
              "    }\n",
              "</style>\n",
              "<table border=\"1\" class=\"dataframe\">\n",
              "  <thead>\n",
              "    <tr style=\"text-align: right;\">\n",
              "      <th></th>\n",
              "      <th>start_time</th>\n",
              "      <th>lobby_type</th>\n",
              "      <th>r1_hero</th>\n",
              "      <th>r1_level</th>\n",
              "      <th>r1_xp</th>\n",
              "      <th>r1_gold</th>\n",
              "      <th>r1_lh</th>\n",
              "      <th>r1_kills</th>\n",
              "      <th>r1_deaths</th>\n",
              "      <th>r1_items</th>\n",
              "      <th>...</th>\n",
              "      <th>dire_boots_count</th>\n",
              "      <th>dire_ward_observer_count</th>\n",
              "      <th>dire_ward_sentry_count</th>\n",
              "      <th>dire_first_ward_time</th>\n",
              "      <th>duration</th>\n",
              "      <th>radiant_win</th>\n",
              "      <th>tower_status_radiant</th>\n",
              "      <th>tower_status_dire</th>\n",
              "      <th>barracks_status_radiant</th>\n",
              "      <th>barracks_status_dire</th>\n",
              "    </tr>\n",
              "    <tr>\n",
              "      <th>match_id</th>\n",
              "      <th></th>\n",
              "      <th></th>\n",
              "      <th></th>\n",
              "      <th></th>\n",
              "      <th></th>\n",
              "      <th></th>\n",
              "      <th></th>\n",
              "      <th></th>\n",
              "      <th></th>\n",
              "      <th></th>\n",
              "      <th></th>\n",
              "      <th></th>\n",
              "      <th></th>\n",
              "      <th></th>\n",
              "      <th></th>\n",
              "      <th></th>\n",
              "      <th></th>\n",
              "      <th></th>\n",
              "      <th></th>\n",
              "      <th></th>\n",
              "      <th></th>\n",
              "    </tr>\n",
              "  </thead>\n",
              "  <tbody>\n",
              "    <tr>\n",
              "      <th>0</th>\n",
              "      <td>1430198770</td>\n",
              "      <td>7</td>\n",
              "      <td>11</td>\n",
              "      <td>5</td>\n",
              "      <td>2098</td>\n",
              "      <td>1489</td>\n",
              "      <td>20</td>\n",
              "      <td>0</td>\n",
              "      <td>0</td>\n",
              "      <td>7</td>\n",
              "      <td>...</td>\n",
              "      <td>4</td>\n",
              "      <td>2</td>\n",
              "      <td>2</td>\n",
              "      <td>-52.0</td>\n",
              "      <td>2874</td>\n",
              "      <td>1</td>\n",
              "      <td>1796</td>\n",
              "      <td>0</td>\n",
              "      <td>51</td>\n",
              "      <td>0</td>\n",
              "    </tr>\n",
              "    <tr>\n",
              "      <th>1</th>\n",
              "      <td>1430220345</td>\n",
              "      <td>0</td>\n",
              "      <td>42</td>\n",
              "      <td>4</td>\n",
              "      <td>1188</td>\n",
              "      <td>1033</td>\n",
              "      <td>9</td>\n",
              "      <td>0</td>\n",
              "      <td>1</td>\n",
              "      <td>12</td>\n",
              "      <td>...</td>\n",
              "      <td>4</td>\n",
              "      <td>3</td>\n",
              "      <td>1</td>\n",
              "      <td>-5.0</td>\n",
              "      <td>2463</td>\n",
              "      <td>1</td>\n",
              "      <td>1974</td>\n",
              "      <td>0</td>\n",
              "      <td>63</td>\n",
              "      <td>1</td>\n",
              "    </tr>\n",
              "    <tr>\n",
              "      <th>2</th>\n",
              "      <td>1430227081</td>\n",
              "      <td>7</td>\n",
              "      <td>33</td>\n",
              "      <td>4</td>\n",
              "      <td>1319</td>\n",
              "      <td>1270</td>\n",
              "      <td>22</td>\n",
              "      <td>0</td>\n",
              "      <td>0</td>\n",
              "      <td>12</td>\n",
              "      <td>...</td>\n",
              "      <td>4</td>\n",
              "      <td>3</td>\n",
              "      <td>1</td>\n",
              "      <td>13.0</td>\n",
              "      <td>2130</td>\n",
              "      <td>0</td>\n",
              "      <td>0</td>\n",
              "      <td>1830</td>\n",
              "      <td>0</td>\n",
              "      <td>63</td>\n",
              "    </tr>\n",
              "    <tr>\n",
              "      <th>3</th>\n",
              "      <td>1430263531</td>\n",
              "      <td>1</td>\n",
              "      <td>29</td>\n",
              "      <td>4</td>\n",
              "      <td>1779</td>\n",
              "      <td>1056</td>\n",
              "      <td>14</td>\n",
              "      <td>0</td>\n",
              "      <td>0</td>\n",
              "      <td>5</td>\n",
              "      <td>...</td>\n",
              "      <td>4</td>\n",
              "      <td>2</td>\n",
              "      <td>0</td>\n",
              "      <td>27.0</td>\n",
              "      <td>1459</td>\n",
              "      <td>0</td>\n",
              "      <td>1920</td>\n",
              "      <td>2047</td>\n",
              "      <td>50</td>\n",
              "      <td>63</td>\n",
              "    </tr>\n",
              "    <tr>\n",
              "      <th>4</th>\n",
              "      <td>1430282290</td>\n",
              "      <td>7</td>\n",
              "      <td>13</td>\n",
              "      <td>4</td>\n",
              "      <td>1431</td>\n",
              "      <td>1090</td>\n",
              "      <td>8</td>\n",
              "      <td>1</td>\n",
              "      <td>0</td>\n",
              "      <td>8</td>\n",
              "      <td>...</td>\n",
              "      <td>3</td>\n",
              "      <td>3</td>\n",
              "      <td>0</td>\n",
              "      <td>-16.0</td>\n",
              "      <td>2449</td>\n",
              "      <td>0</td>\n",
              "      <td>4</td>\n",
              "      <td>1974</td>\n",
              "      <td>3</td>\n",
              "      <td>63</td>\n",
              "    </tr>\n",
              "  </tbody>\n",
              "</table>\n",
              "<p>5 rows × 108 columns</p>\n",
              "</div>\n",
              "      <button class=\"colab-df-convert\" onclick=\"convertToInteractive('df-d6c38359-fc8f-4fe0-bdca-6e0c8d3b7304')\"\n",
              "              title=\"Convert this dataframe to an interactive table.\"\n",
              "              style=\"display:none;\">\n",
              "        \n",
              "  <svg xmlns=\"http://www.w3.org/2000/svg\" height=\"24px\"viewBox=\"0 0 24 24\"\n",
              "       width=\"24px\">\n",
              "    <path d=\"M0 0h24v24H0V0z\" fill=\"none\"/>\n",
              "    <path d=\"M18.56 5.44l.94 2.06.94-2.06 2.06-.94-2.06-.94-.94-2.06-.94 2.06-2.06.94zm-11 1L8.5 8.5l.94-2.06 2.06-.94-2.06-.94L8.5 2.5l-.94 2.06-2.06.94zm10 10l.94 2.06.94-2.06 2.06-.94-2.06-.94-.94-2.06-.94 2.06-2.06.94z\"/><path d=\"M17.41 7.96l-1.37-1.37c-.4-.4-.92-.59-1.43-.59-.52 0-1.04.2-1.43.59L10.3 9.45l-7.72 7.72c-.78.78-.78 2.05 0 2.83L4 21.41c.39.39.9.59 1.41.59.51 0 1.02-.2 1.41-.59l7.78-7.78 2.81-2.81c.8-.78.8-2.07 0-2.86zM5.41 20L4 18.59l7.72-7.72 1.47 1.35L5.41 20z\"/>\n",
              "  </svg>\n",
              "      </button>\n",
              "      \n",
              "  <style>\n",
              "    .colab-df-container {\n",
              "      display:flex;\n",
              "      flex-wrap:wrap;\n",
              "      gap: 12px;\n",
              "    }\n",
              "\n",
              "    .colab-df-convert {\n",
              "      background-color: #E8F0FE;\n",
              "      border: none;\n",
              "      border-radius: 50%;\n",
              "      cursor: pointer;\n",
              "      display: none;\n",
              "      fill: #1967D2;\n",
              "      height: 32px;\n",
              "      padding: 0 0 0 0;\n",
              "      width: 32px;\n",
              "    }\n",
              "\n",
              "    .colab-df-convert:hover {\n",
              "      background-color: #E2EBFA;\n",
              "      box-shadow: 0px 1px 2px rgba(60, 64, 67, 0.3), 0px 1px 3px 1px rgba(60, 64, 67, 0.15);\n",
              "      fill: #174EA6;\n",
              "    }\n",
              "\n",
              "    [theme=dark] .colab-df-convert {\n",
              "      background-color: #3B4455;\n",
              "      fill: #D2E3FC;\n",
              "    }\n",
              "\n",
              "    [theme=dark] .colab-df-convert:hover {\n",
              "      background-color: #434B5C;\n",
              "      box-shadow: 0px 1px 3px 1px rgba(0, 0, 0, 0.15);\n",
              "      filter: drop-shadow(0px 1px 2px rgba(0, 0, 0, 0.3));\n",
              "      fill: #FFFFFF;\n",
              "    }\n",
              "  </style>\n",
              "\n",
              "      <script>\n",
              "        const buttonEl =\n",
              "          document.querySelector('#df-d6c38359-fc8f-4fe0-bdca-6e0c8d3b7304 button.colab-df-convert');\n",
              "        buttonEl.style.display =\n",
              "          google.colab.kernel.accessAllowed ? 'block' : 'none';\n",
              "\n",
              "        async function convertToInteractive(key) {\n",
              "          const element = document.querySelector('#df-d6c38359-fc8f-4fe0-bdca-6e0c8d3b7304');\n",
              "          const dataTable =\n",
              "            await google.colab.kernel.invokeFunction('convertToInteractive',\n",
              "                                                     [key], {});\n",
              "          if (!dataTable) return;\n",
              "\n",
              "          const docLinkHtml = 'Like what you see? Visit the ' +\n",
              "            '<a target=\"_blank\" href=https://colab.research.google.com/notebooks/data_table.ipynb>data table notebook</a>'\n",
              "            + ' to learn more about interactive tables.';\n",
              "          element.innerHTML = '';\n",
              "          dataTable['output_type'] = 'display_data';\n",
              "          await google.colab.output.renderOutput(dataTable, element);\n",
              "          const docLink = document.createElement('div');\n",
              "          docLink.innerHTML = docLinkHtml;\n",
              "          element.appendChild(docLink);\n",
              "        }\n",
              "      </script>\n",
              "    </div>\n",
              "  </div>\n",
              "  "
            ]
          },
          "metadata": {},
          "execution_count": 1
        }
      ],
      "source": [
        "import pandas\n",
        "features = pandas.read_csv('./features.csv', index_col='match_id')\n",
        "\n",
        "features.head()"
      ]
    },
    {
      "cell_type": "markdown",
      "metadata": {
        "id": "wGINl09mymfi"
      },
      "source": [
        "#### Описание признаков в таблице\n",
        "\n",
        "- `match_id`: идентификатор матча в наборе данных\n",
        "- `start_time`: время начала матча (unixtime)\n",
        "- `lobby_type`: тип комнаты, в которой собираются игроки (расшифровка в `dictionaries/lobbies.csv`)\n",
        "- Наборы признаков для каждого игрока (игроки команды Radiant — префикс `rN`, Dire — `dN`):\n",
        "    - `r1_hero`: герой игрока (расшифровка в dictionaries/heroes.csv)\n",
        "    - `r1_level`: максимальный достигнутый уровень героя (за первые 5 игровых минут)\n",
        "    - `r1_xp`: максимальный полученный опыт\n",
        "    - `r1_gold`: достигнутая ценность героя\n",
        "    - `r1_lh`: число убитых юнитов\n",
        "    - `r1_kills`: число убитых игроков\n",
        "    - `r1_deaths`: число смертей героя\n",
        "    - `r1_items`: число купленных предметов\n",
        "- Признаки события \"первая кровь\" (first blood). Если событие \"первая кровь\" не успело произойти за первые 5 минут, то признаки принимают пропущенное значение\n",
        "    - `first_blood_time`: игровое время первой крови\n",
        "    - `first_blood_team`: команда, совершившая первую кровь (0 — Radiant, 1 — Dire)\n",
        "    - `first_blood_player1`: игрок, причастный к событию\n",
        "    - `first_blood_player2`: второй игрок, причастный к событию\n",
        "- Признаки для каждой команды (префиксы `radiant_` и `dire_`)\n",
        "    - `radiant_bottle_time`: время первого приобретения командой предмета \"bottle\"\n",
        "    - `radiant_courier_time`: время приобретения предмета \"courier\" \n",
        "    - `radiant_flying_courier_time`: время приобретения предмета \"flying_courier\" \n",
        "    - `radiant_tpscroll_count`: число предметов \"tpscroll\" за первые 5 минут\n",
        "    - `radiant_boots_count`: число предметов \"boots\"\n",
        "    - `radiant_ward_observer_count`: число предметов \"ward_observer\"\n",
        "    - `radiant_ward_sentry_count`: число предметов \"ward_sentry\"\n",
        "    - `radiant_first_ward_time`: время установки командой первого \"наблюдателя\", т.е. предмета, который позволяет видеть часть игрового поля\n",
        "- Итог матча (данные поля отсутствуют в тестовой выборке, поскольку содержат информацию, выходящую за пределы первых 5 минут матча)\n",
        "    - `duration`: длительность\n",
        "    - `radiant_win`: 1, если победила команда Radiant, 0 — иначе\n",
        "    - Состояние башен и барраков к концу матча (см. описание полей набора данных)\n",
        "        - `tower_status_radiant`\n",
        "        - `tower_status_dire`\n",
        "        - `barracks_status_radiant`\n",
        "        - `barracks_status_dire`"
      ]
    },
    {
      "cell_type": "markdown",
      "metadata": {
        "id": "E9HNySF6ymfj"
      },
      "source": [
        "## Метрика качества\n",
        "\n",
        "В качестве метрики качества мы будем использовать площадь под ROC-кривой (AUC-ROC). Обратите внимание, что AUC-ROC — это метрика качества для алгоритма, выдающего оценки принадлежности первому классу. Оба алгоритма, которые будут использоваться в проекте — градиентный бустинг, и логистическая регрессия — умеют выдавать такие оценки. Для этого нужно получать предсказания с помощью функции predict_proba. Она возвращает два столбца: первый содержит оценки принадлежности нулевому классу, второй — первому классу. Вам нужны значения из второго столбца:\n",
        "```python\n",
        "pred = clf.predict_proba(X_test)[:, 1]\n",
        "```"
      ]
    },
    {
      "cell_type": "markdown",
      "metadata": {
        "id": "Hs66bTX8ymfk"
      },
      "source": [
        "## Руководство по решению\n",
        "\n",
        "Вам необходимо провести описанные ниже два этапа исследования, написать по результатам каждого этапа небольшой отчет (ниже указаны вопросы, ответы на которые должны содержаться в отчете), и предоставить для ревью данный отчет и код, с помощью которого вы выполнили задание.\n",
        "\n",
        "**Обратите внимание:** высокое качество работы на кросс-валидации (близкое к 100%) — это в первую очередь повод задуматься о том, правильно ли вы обучаете модель. Возможно, вы заглядываете в будущее или настраиваетесь на неправильном наборе признаков."
      ]
    },
    {
      "cell_type": "markdown",
      "source": [
        "### Подход 1: градиентный бустинг \"в лоб\"\n",
        "Один из самых универсальных алгоритмов, изученных в нашем курсе, является градиентный бустинг. Он не очень требователен к данным, восстанавливает нелинейные зависимости, и хорошо работает на многих наборах данных, что и обуславливает его популярность. Вполне разумной мыслью будет попробовать именно его в первую очередь."
      ],
      "metadata": {
        "id": "xUoAb1hw11OW"
      }
    },
    {
      "cell_type": "markdown",
      "source": [
        "1. Считайте таблицу с признаками из файла features.csv с помощью кода, приведенного выше. Удалите признаки, связанные с итогами матча (они помечены в описании данных как отсутствующие в тестовой выборке)."
      ],
      "metadata": {
        "id": "3HmRg5uU14Rp"
      }
    },
    {
      "cell_type": "code",
      "source": [
        "import pandas\n",
        "data_train = pandas.read_csv('./features.csv', index_col='match_id')\n",
        "\n",
        "data_train.head()"
      ],
      "metadata": {
        "colab": {
          "base_uri": "https://localhost:8080/",
          "height": 331
        },
        "id": "Fj5hhy0X16NW",
        "outputId": "ab0f0cf7-2055-462a-ded3-30ceaa0c8566"
      },
      "execution_count": null,
      "outputs": [
        {
          "output_type": "execute_result",
          "data": {
            "text/plain": [
              "          start_time  lobby_type  r1_hero  r1_level  r1_xp  r1_gold  r1_lh  \\\n",
              "match_id                                                                     \n",
              "0         1430198770           7       11         5   2098     1489     20   \n",
              "1         1430220345           0       42         4   1188     1033      9   \n",
              "2         1430227081           7       33         4   1319     1270     22   \n",
              "3         1430263531           1       29         4   1779     1056     14   \n",
              "4         1430282290           7       13         4   1431     1090      8   \n",
              "\n",
              "          r1_kills  r1_deaths  r1_items  ...  dire_boots_count  \\\n",
              "match_id                                 ...                     \n",
              "0                0          0         7  ...                 4   \n",
              "1                0          1        12  ...                 4   \n",
              "2                0          0        12  ...                 4   \n",
              "3                0          0         5  ...                 4   \n",
              "4                1          0         8  ...                 3   \n",
              "\n",
              "          dire_ward_observer_count  dire_ward_sentry_count  \\\n",
              "match_id                                                     \n",
              "0                                2                       2   \n",
              "1                                3                       1   \n",
              "2                                3                       1   \n",
              "3                                2                       0   \n",
              "4                                3                       0   \n",
              "\n",
              "          dire_first_ward_time  duration  radiant_win  tower_status_radiant  \\\n",
              "match_id                                                                      \n",
              "0                        -52.0      2874            1                  1796   \n",
              "1                         -5.0      2463            1                  1974   \n",
              "2                         13.0      2130            0                     0   \n",
              "3                         27.0      1459            0                  1920   \n",
              "4                        -16.0      2449            0                     4   \n",
              "\n",
              "          tower_status_dire  barracks_status_radiant  barracks_status_dire  \n",
              "match_id                                                                    \n",
              "0                         0                       51                     0  \n",
              "1                         0                       63                     1  \n",
              "2                      1830                        0                    63  \n",
              "3                      2047                       50                    63  \n",
              "4                      1974                        3                    63  \n",
              "\n",
              "[5 rows x 108 columns]"
            ],
            "text/html": [
              "\n",
              "  <div id=\"df-dc7d1f34-9140-4eb6-a74a-19c569891224\">\n",
              "    <div class=\"colab-df-container\">\n",
              "      <div>\n",
              "<style scoped>\n",
              "    .dataframe tbody tr th:only-of-type {\n",
              "        vertical-align: middle;\n",
              "    }\n",
              "\n",
              "    .dataframe tbody tr th {\n",
              "        vertical-align: top;\n",
              "    }\n",
              "\n",
              "    .dataframe thead th {\n",
              "        text-align: right;\n",
              "    }\n",
              "</style>\n",
              "<table border=\"1\" class=\"dataframe\">\n",
              "  <thead>\n",
              "    <tr style=\"text-align: right;\">\n",
              "      <th></th>\n",
              "      <th>start_time</th>\n",
              "      <th>lobby_type</th>\n",
              "      <th>r1_hero</th>\n",
              "      <th>r1_level</th>\n",
              "      <th>r1_xp</th>\n",
              "      <th>r1_gold</th>\n",
              "      <th>r1_lh</th>\n",
              "      <th>r1_kills</th>\n",
              "      <th>r1_deaths</th>\n",
              "      <th>r1_items</th>\n",
              "      <th>...</th>\n",
              "      <th>dire_boots_count</th>\n",
              "      <th>dire_ward_observer_count</th>\n",
              "      <th>dire_ward_sentry_count</th>\n",
              "      <th>dire_first_ward_time</th>\n",
              "      <th>duration</th>\n",
              "      <th>radiant_win</th>\n",
              "      <th>tower_status_radiant</th>\n",
              "      <th>tower_status_dire</th>\n",
              "      <th>barracks_status_radiant</th>\n",
              "      <th>barracks_status_dire</th>\n",
              "    </tr>\n",
              "    <tr>\n",
              "      <th>match_id</th>\n",
              "      <th></th>\n",
              "      <th></th>\n",
              "      <th></th>\n",
              "      <th></th>\n",
              "      <th></th>\n",
              "      <th></th>\n",
              "      <th></th>\n",
              "      <th></th>\n",
              "      <th></th>\n",
              "      <th></th>\n",
              "      <th></th>\n",
              "      <th></th>\n",
              "      <th></th>\n",
              "      <th></th>\n",
              "      <th></th>\n",
              "      <th></th>\n",
              "      <th></th>\n",
              "      <th></th>\n",
              "      <th></th>\n",
              "      <th></th>\n",
              "      <th></th>\n",
              "    </tr>\n",
              "  </thead>\n",
              "  <tbody>\n",
              "    <tr>\n",
              "      <th>0</th>\n",
              "      <td>1430198770</td>\n",
              "      <td>7</td>\n",
              "      <td>11</td>\n",
              "      <td>5</td>\n",
              "      <td>2098</td>\n",
              "      <td>1489</td>\n",
              "      <td>20</td>\n",
              "      <td>0</td>\n",
              "      <td>0</td>\n",
              "      <td>7</td>\n",
              "      <td>...</td>\n",
              "      <td>4</td>\n",
              "      <td>2</td>\n",
              "      <td>2</td>\n",
              "      <td>-52.0</td>\n",
              "      <td>2874</td>\n",
              "      <td>1</td>\n",
              "      <td>1796</td>\n",
              "      <td>0</td>\n",
              "      <td>51</td>\n",
              "      <td>0</td>\n",
              "    </tr>\n",
              "    <tr>\n",
              "      <th>1</th>\n",
              "      <td>1430220345</td>\n",
              "      <td>0</td>\n",
              "      <td>42</td>\n",
              "      <td>4</td>\n",
              "      <td>1188</td>\n",
              "      <td>1033</td>\n",
              "      <td>9</td>\n",
              "      <td>0</td>\n",
              "      <td>1</td>\n",
              "      <td>12</td>\n",
              "      <td>...</td>\n",
              "      <td>4</td>\n",
              "      <td>3</td>\n",
              "      <td>1</td>\n",
              "      <td>-5.0</td>\n",
              "      <td>2463</td>\n",
              "      <td>1</td>\n",
              "      <td>1974</td>\n",
              "      <td>0</td>\n",
              "      <td>63</td>\n",
              "      <td>1</td>\n",
              "    </tr>\n",
              "    <tr>\n",
              "      <th>2</th>\n",
              "      <td>1430227081</td>\n",
              "      <td>7</td>\n",
              "      <td>33</td>\n",
              "      <td>4</td>\n",
              "      <td>1319</td>\n",
              "      <td>1270</td>\n",
              "      <td>22</td>\n",
              "      <td>0</td>\n",
              "      <td>0</td>\n",
              "      <td>12</td>\n",
              "      <td>...</td>\n",
              "      <td>4</td>\n",
              "      <td>3</td>\n",
              "      <td>1</td>\n",
              "      <td>13.0</td>\n",
              "      <td>2130</td>\n",
              "      <td>0</td>\n",
              "      <td>0</td>\n",
              "      <td>1830</td>\n",
              "      <td>0</td>\n",
              "      <td>63</td>\n",
              "    </tr>\n",
              "    <tr>\n",
              "      <th>3</th>\n",
              "      <td>1430263531</td>\n",
              "      <td>1</td>\n",
              "      <td>29</td>\n",
              "      <td>4</td>\n",
              "      <td>1779</td>\n",
              "      <td>1056</td>\n",
              "      <td>14</td>\n",
              "      <td>0</td>\n",
              "      <td>0</td>\n",
              "      <td>5</td>\n",
              "      <td>...</td>\n",
              "      <td>4</td>\n",
              "      <td>2</td>\n",
              "      <td>0</td>\n",
              "      <td>27.0</td>\n",
              "      <td>1459</td>\n",
              "      <td>0</td>\n",
              "      <td>1920</td>\n",
              "      <td>2047</td>\n",
              "      <td>50</td>\n",
              "      <td>63</td>\n",
              "    </tr>\n",
              "    <tr>\n",
              "      <th>4</th>\n",
              "      <td>1430282290</td>\n",
              "      <td>7</td>\n",
              "      <td>13</td>\n",
              "      <td>4</td>\n",
              "      <td>1431</td>\n",
              "      <td>1090</td>\n",
              "      <td>8</td>\n",
              "      <td>1</td>\n",
              "      <td>0</td>\n",
              "      <td>8</td>\n",
              "      <td>...</td>\n",
              "      <td>3</td>\n",
              "      <td>3</td>\n",
              "      <td>0</td>\n",
              "      <td>-16.0</td>\n",
              "      <td>2449</td>\n",
              "      <td>0</td>\n",
              "      <td>4</td>\n",
              "      <td>1974</td>\n",
              "      <td>3</td>\n",
              "      <td>63</td>\n",
              "    </tr>\n",
              "  </tbody>\n",
              "</table>\n",
              "<p>5 rows × 108 columns</p>\n",
              "</div>\n",
              "      <button class=\"colab-df-convert\" onclick=\"convertToInteractive('df-dc7d1f34-9140-4eb6-a74a-19c569891224')\"\n",
              "              title=\"Convert this dataframe to an interactive table.\"\n",
              "              style=\"display:none;\">\n",
              "        \n",
              "  <svg xmlns=\"http://www.w3.org/2000/svg\" height=\"24px\"viewBox=\"0 0 24 24\"\n",
              "       width=\"24px\">\n",
              "    <path d=\"M0 0h24v24H0V0z\" fill=\"none\"/>\n",
              "    <path d=\"M18.56 5.44l.94 2.06.94-2.06 2.06-.94-2.06-.94-.94-2.06-.94 2.06-2.06.94zm-11 1L8.5 8.5l.94-2.06 2.06-.94-2.06-.94L8.5 2.5l-.94 2.06-2.06.94zm10 10l.94 2.06.94-2.06 2.06-.94-2.06-.94-.94-2.06-.94 2.06-2.06.94z\"/><path d=\"M17.41 7.96l-1.37-1.37c-.4-.4-.92-.59-1.43-.59-.52 0-1.04.2-1.43.59L10.3 9.45l-7.72 7.72c-.78.78-.78 2.05 0 2.83L4 21.41c.39.39.9.59 1.41.59.51 0 1.02-.2 1.41-.59l7.78-7.78 2.81-2.81c.8-.78.8-2.07 0-2.86zM5.41 20L4 18.59l7.72-7.72 1.47 1.35L5.41 20z\"/>\n",
              "  </svg>\n",
              "      </button>\n",
              "      \n",
              "  <style>\n",
              "    .colab-df-container {\n",
              "      display:flex;\n",
              "      flex-wrap:wrap;\n",
              "      gap: 12px;\n",
              "    }\n",
              "\n",
              "    .colab-df-convert {\n",
              "      background-color: #E8F0FE;\n",
              "      border: none;\n",
              "      border-radius: 50%;\n",
              "      cursor: pointer;\n",
              "      display: none;\n",
              "      fill: #1967D2;\n",
              "      height: 32px;\n",
              "      padding: 0 0 0 0;\n",
              "      width: 32px;\n",
              "    }\n",
              "\n",
              "    .colab-df-convert:hover {\n",
              "      background-color: #E2EBFA;\n",
              "      box-shadow: 0px 1px 2px rgba(60, 64, 67, 0.3), 0px 1px 3px 1px rgba(60, 64, 67, 0.15);\n",
              "      fill: #174EA6;\n",
              "    }\n",
              "\n",
              "    [theme=dark] .colab-df-convert {\n",
              "      background-color: #3B4455;\n",
              "      fill: #D2E3FC;\n",
              "    }\n",
              "\n",
              "    [theme=dark] .colab-df-convert:hover {\n",
              "      background-color: #434B5C;\n",
              "      box-shadow: 0px 1px 3px 1px rgba(0, 0, 0, 0.15);\n",
              "      filter: drop-shadow(0px 1px 2px rgba(0, 0, 0, 0.3));\n",
              "      fill: #FFFFFF;\n",
              "    }\n",
              "  </style>\n",
              "\n",
              "      <script>\n",
              "        const buttonEl =\n",
              "          document.querySelector('#df-dc7d1f34-9140-4eb6-a74a-19c569891224 button.colab-df-convert');\n",
              "        buttonEl.style.display =\n",
              "          google.colab.kernel.accessAllowed ? 'block' : 'none';\n",
              "\n",
              "        async function convertToInteractive(key) {\n",
              "          const element = document.querySelector('#df-dc7d1f34-9140-4eb6-a74a-19c569891224');\n",
              "          const dataTable =\n",
              "            await google.colab.kernel.invokeFunction('convertToInteractive',\n",
              "                                                     [key], {});\n",
              "          if (!dataTable) return;\n",
              "\n",
              "          const docLinkHtml = 'Like what you see? Visit the ' +\n",
              "            '<a target=\"_blank\" href=https://colab.research.google.com/notebooks/data_table.ipynb>data table notebook</a>'\n",
              "            + ' to learn more about interactive tables.';\n",
              "          element.innerHTML = '';\n",
              "          dataTable['output_type'] = 'display_data';\n",
              "          await google.colab.output.renderOutput(dataTable, element);\n",
              "          const docLink = document.createElement('div');\n",
              "          docLink.innerHTML = docLinkHtml;\n",
              "          element.appendChild(docLink);\n",
              "        }\n",
              "      </script>\n",
              "    </div>\n",
              "  </div>\n",
              "  "
            ]
          },
          "metadata": {},
          "execution_count": 2
        }
      ]
    },
    {
      "cell_type": "code",
      "source": [
        "import pandas\n",
        "data_test = pandas.read_csv('./features_test.csv', index_col='match_id')\n",
        "\n",
        "data_test.head()"
      ],
      "metadata": {
        "colab": {
          "base_uri": "https://localhost:8080/",
          "height": 331
        },
        "id": "xiZT8Zqq2F9R",
        "outputId": "c3bd8743-c63f-458c-c02b-3db8216b0d04"
      },
      "execution_count": null,
      "outputs": [
        {
          "output_type": "execute_result",
          "data": {
            "text/plain": [
              "          start_time  lobby_type  r1_hero  r1_level  r1_xp  r1_gold  r1_lh  \\\n",
              "match_id                                                                     \n",
              "6         1430287923           0       93         4   1103     1089      8   \n",
              "7         1430293357           1       20         2    556      570      1   \n",
              "10        1430301774           1      112         2    751      808      1   \n",
              "13        1430323933           1       27         3    708      903      1   \n",
              "16        1430331112           1       39         4   1259      661      4   \n",
              "\n",
              "          r1_kills  r1_deaths  r1_items  ...  radiant_ward_sentry_count  \\\n",
              "match_id                                 ...                              \n",
              "6                0          1         9  ...                          0   \n",
              "7                0          0         9  ...                          2   \n",
              "10               0          0        13  ...                          1   \n",
              "13               1          1        11  ...                          2   \n",
              "16               0          0         9  ...                          0   \n",
              "\n",
              "          radiant_first_ward_time  dire_bottle_time  dire_courier_time  \\\n",
              "match_id                                                                 \n",
              "6                            12.0             247.0              -86.0   \n",
              "7                           -29.0             168.0              -54.0   \n",
              "10                          -22.0              46.0              -87.0   \n",
              "13                          -49.0              30.0              -89.0   \n",
              "16                           36.0             180.0              -86.0   \n",
              "\n",
              "          dire_flying_courier_time  dire_tpscroll_count  dire_boots_count  \\\n",
              "match_id                                                                    \n",
              "6                            272.0                    3                 4   \n",
              "7                              NaN                    3                 2   \n",
              "10                           186.0                    1                 3   \n",
              "13                           210.0                    3                 4   \n",
              "16                           180.0                    1                 3   \n",
              "\n",
              "          dire_ward_observer_count  dire_ward_sentry_count  \\\n",
              "match_id                                                     \n",
              "6                                2                       0   \n",
              "7                                2                       1   \n",
              "10                               3                       0   \n",
              "13                               2                       1   \n",
              "16                               2                       1   \n",
              "\n",
              "          dire_first_ward_time  \n",
              "match_id                        \n",
              "6                        118.0  \n",
              "7                         16.0  \n",
              "10                       -34.0  \n",
              "13                       -26.0  \n",
              "16                       -33.0  \n",
              "\n",
              "[5 rows x 102 columns]"
            ],
            "text/html": [
              "\n",
              "  <div id=\"df-a5678f53-9986-4092-8bb1-5684984bfe25\">\n",
              "    <div class=\"colab-df-container\">\n",
              "      <div>\n",
              "<style scoped>\n",
              "    .dataframe tbody tr th:only-of-type {\n",
              "        vertical-align: middle;\n",
              "    }\n",
              "\n",
              "    .dataframe tbody tr th {\n",
              "        vertical-align: top;\n",
              "    }\n",
              "\n",
              "    .dataframe thead th {\n",
              "        text-align: right;\n",
              "    }\n",
              "</style>\n",
              "<table border=\"1\" class=\"dataframe\">\n",
              "  <thead>\n",
              "    <tr style=\"text-align: right;\">\n",
              "      <th></th>\n",
              "      <th>start_time</th>\n",
              "      <th>lobby_type</th>\n",
              "      <th>r1_hero</th>\n",
              "      <th>r1_level</th>\n",
              "      <th>r1_xp</th>\n",
              "      <th>r1_gold</th>\n",
              "      <th>r1_lh</th>\n",
              "      <th>r1_kills</th>\n",
              "      <th>r1_deaths</th>\n",
              "      <th>r1_items</th>\n",
              "      <th>...</th>\n",
              "      <th>radiant_ward_sentry_count</th>\n",
              "      <th>radiant_first_ward_time</th>\n",
              "      <th>dire_bottle_time</th>\n",
              "      <th>dire_courier_time</th>\n",
              "      <th>dire_flying_courier_time</th>\n",
              "      <th>dire_tpscroll_count</th>\n",
              "      <th>dire_boots_count</th>\n",
              "      <th>dire_ward_observer_count</th>\n",
              "      <th>dire_ward_sentry_count</th>\n",
              "      <th>dire_first_ward_time</th>\n",
              "    </tr>\n",
              "    <tr>\n",
              "      <th>match_id</th>\n",
              "      <th></th>\n",
              "      <th></th>\n",
              "      <th></th>\n",
              "      <th></th>\n",
              "      <th></th>\n",
              "      <th></th>\n",
              "      <th></th>\n",
              "      <th></th>\n",
              "      <th></th>\n",
              "      <th></th>\n",
              "      <th></th>\n",
              "      <th></th>\n",
              "      <th></th>\n",
              "      <th></th>\n",
              "      <th></th>\n",
              "      <th></th>\n",
              "      <th></th>\n",
              "      <th></th>\n",
              "      <th></th>\n",
              "      <th></th>\n",
              "      <th></th>\n",
              "    </tr>\n",
              "  </thead>\n",
              "  <tbody>\n",
              "    <tr>\n",
              "      <th>6</th>\n",
              "      <td>1430287923</td>\n",
              "      <td>0</td>\n",
              "      <td>93</td>\n",
              "      <td>4</td>\n",
              "      <td>1103</td>\n",
              "      <td>1089</td>\n",
              "      <td>8</td>\n",
              "      <td>0</td>\n",
              "      <td>1</td>\n",
              "      <td>9</td>\n",
              "      <td>...</td>\n",
              "      <td>0</td>\n",
              "      <td>12.0</td>\n",
              "      <td>247.0</td>\n",
              "      <td>-86.0</td>\n",
              "      <td>272.0</td>\n",
              "      <td>3</td>\n",
              "      <td>4</td>\n",
              "      <td>2</td>\n",
              "      <td>0</td>\n",
              "      <td>118.0</td>\n",
              "    </tr>\n",
              "    <tr>\n",
              "      <th>7</th>\n",
              "      <td>1430293357</td>\n",
              "      <td>1</td>\n",
              "      <td>20</td>\n",
              "      <td>2</td>\n",
              "      <td>556</td>\n",
              "      <td>570</td>\n",
              "      <td>1</td>\n",
              "      <td>0</td>\n",
              "      <td>0</td>\n",
              "      <td>9</td>\n",
              "      <td>...</td>\n",
              "      <td>2</td>\n",
              "      <td>-29.0</td>\n",
              "      <td>168.0</td>\n",
              "      <td>-54.0</td>\n",
              "      <td>NaN</td>\n",
              "      <td>3</td>\n",
              "      <td>2</td>\n",
              "      <td>2</td>\n",
              "      <td>1</td>\n",
              "      <td>16.0</td>\n",
              "    </tr>\n",
              "    <tr>\n",
              "      <th>10</th>\n",
              "      <td>1430301774</td>\n",
              "      <td>1</td>\n",
              "      <td>112</td>\n",
              "      <td>2</td>\n",
              "      <td>751</td>\n",
              "      <td>808</td>\n",
              "      <td>1</td>\n",
              "      <td>0</td>\n",
              "      <td>0</td>\n",
              "      <td>13</td>\n",
              "      <td>...</td>\n",
              "      <td>1</td>\n",
              "      <td>-22.0</td>\n",
              "      <td>46.0</td>\n",
              "      <td>-87.0</td>\n",
              "      <td>186.0</td>\n",
              "      <td>1</td>\n",
              "      <td>3</td>\n",
              "      <td>3</td>\n",
              "      <td>0</td>\n",
              "      <td>-34.0</td>\n",
              "    </tr>\n",
              "    <tr>\n",
              "      <th>13</th>\n",
              "      <td>1430323933</td>\n",
              "      <td>1</td>\n",
              "      <td>27</td>\n",
              "      <td>3</td>\n",
              "      <td>708</td>\n",
              "      <td>903</td>\n",
              "      <td>1</td>\n",
              "      <td>1</td>\n",
              "      <td>1</td>\n",
              "      <td>11</td>\n",
              "      <td>...</td>\n",
              "      <td>2</td>\n",
              "      <td>-49.0</td>\n",
              "      <td>30.0</td>\n",
              "      <td>-89.0</td>\n",
              "      <td>210.0</td>\n",
              "      <td>3</td>\n",
              "      <td>4</td>\n",
              "      <td>2</td>\n",
              "      <td>1</td>\n",
              "      <td>-26.0</td>\n",
              "    </tr>\n",
              "    <tr>\n",
              "      <th>16</th>\n",
              "      <td>1430331112</td>\n",
              "      <td>1</td>\n",
              "      <td>39</td>\n",
              "      <td>4</td>\n",
              "      <td>1259</td>\n",
              "      <td>661</td>\n",
              "      <td>4</td>\n",
              "      <td>0</td>\n",
              "      <td>0</td>\n",
              "      <td>9</td>\n",
              "      <td>...</td>\n",
              "      <td>0</td>\n",
              "      <td>36.0</td>\n",
              "      <td>180.0</td>\n",
              "      <td>-86.0</td>\n",
              "      <td>180.0</td>\n",
              "      <td>1</td>\n",
              "      <td>3</td>\n",
              "      <td>2</td>\n",
              "      <td>1</td>\n",
              "      <td>-33.0</td>\n",
              "    </tr>\n",
              "  </tbody>\n",
              "</table>\n",
              "<p>5 rows × 102 columns</p>\n",
              "</div>\n",
              "      <button class=\"colab-df-convert\" onclick=\"convertToInteractive('df-a5678f53-9986-4092-8bb1-5684984bfe25')\"\n",
              "              title=\"Convert this dataframe to an interactive table.\"\n",
              "              style=\"display:none;\">\n",
              "        \n",
              "  <svg xmlns=\"http://www.w3.org/2000/svg\" height=\"24px\"viewBox=\"0 0 24 24\"\n",
              "       width=\"24px\">\n",
              "    <path d=\"M0 0h24v24H0V0z\" fill=\"none\"/>\n",
              "    <path d=\"M18.56 5.44l.94 2.06.94-2.06 2.06-.94-2.06-.94-.94-2.06-.94 2.06-2.06.94zm-11 1L8.5 8.5l.94-2.06 2.06-.94-2.06-.94L8.5 2.5l-.94 2.06-2.06.94zm10 10l.94 2.06.94-2.06 2.06-.94-2.06-.94-.94-2.06-.94 2.06-2.06.94z\"/><path d=\"M17.41 7.96l-1.37-1.37c-.4-.4-.92-.59-1.43-.59-.52 0-1.04.2-1.43.59L10.3 9.45l-7.72 7.72c-.78.78-.78 2.05 0 2.83L4 21.41c.39.39.9.59 1.41.59.51 0 1.02-.2 1.41-.59l7.78-7.78 2.81-2.81c.8-.78.8-2.07 0-2.86zM5.41 20L4 18.59l7.72-7.72 1.47 1.35L5.41 20z\"/>\n",
              "  </svg>\n",
              "      </button>\n",
              "      \n",
              "  <style>\n",
              "    .colab-df-container {\n",
              "      display:flex;\n",
              "      flex-wrap:wrap;\n",
              "      gap: 12px;\n",
              "    }\n",
              "\n",
              "    .colab-df-convert {\n",
              "      background-color: #E8F0FE;\n",
              "      border: none;\n",
              "      border-radius: 50%;\n",
              "      cursor: pointer;\n",
              "      display: none;\n",
              "      fill: #1967D2;\n",
              "      height: 32px;\n",
              "      padding: 0 0 0 0;\n",
              "      width: 32px;\n",
              "    }\n",
              "\n",
              "    .colab-df-convert:hover {\n",
              "      background-color: #E2EBFA;\n",
              "      box-shadow: 0px 1px 2px rgba(60, 64, 67, 0.3), 0px 1px 3px 1px rgba(60, 64, 67, 0.15);\n",
              "      fill: #174EA6;\n",
              "    }\n",
              "\n",
              "    [theme=dark] .colab-df-convert {\n",
              "      background-color: #3B4455;\n",
              "      fill: #D2E3FC;\n",
              "    }\n",
              "\n",
              "    [theme=dark] .colab-df-convert:hover {\n",
              "      background-color: #434B5C;\n",
              "      box-shadow: 0px 1px 3px 1px rgba(0, 0, 0, 0.15);\n",
              "      filter: drop-shadow(0px 1px 2px rgba(0, 0, 0, 0.3));\n",
              "      fill: #FFFFFF;\n",
              "    }\n",
              "  </style>\n",
              "\n",
              "      <script>\n",
              "        const buttonEl =\n",
              "          document.querySelector('#df-a5678f53-9986-4092-8bb1-5684984bfe25 button.colab-df-convert');\n",
              "        buttonEl.style.display =\n",
              "          google.colab.kernel.accessAllowed ? 'block' : 'none';\n",
              "\n",
              "        async function convertToInteractive(key) {\n",
              "          const element = document.querySelector('#df-a5678f53-9986-4092-8bb1-5684984bfe25');\n",
              "          const dataTable =\n",
              "            await google.colab.kernel.invokeFunction('convertToInteractive',\n",
              "                                                     [key], {});\n",
              "          if (!dataTable) return;\n",
              "\n",
              "          const docLinkHtml = 'Like what you see? Visit the ' +\n",
              "            '<a target=\"_blank\" href=https://colab.research.google.com/notebooks/data_table.ipynb>data table notebook</a>'\n",
              "            + ' to learn more about interactive tables.';\n",
              "          element.innerHTML = '';\n",
              "          dataTable['output_type'] = 'display_data';\n",
              "          await google.colab.output.renderOutput(dataTable, element);\n",
              "          const docLink = document.createElement('div');\n",
              "          docLink.innerHTML = docLinkHtml;\n",
              "          element.appendChild(docLink);\n",
              "        }\n",
              "      </script>\n",
              "    </div>\n",
              "  </div>\n",
              "  "
            ]
          },
          "metadata": {},
          "execution_count": 3
        }
      ]
    },
    {
      "cell_type": "code",
      "source": [
        "y_train = data_train['radiant_win']"
      ],
      "metadata": {
        "id": "WfGo1YpxNWz-"
      },
      "execution_count": null,
      "outputs": []
    },
    {
      "cell_type": "code",
      "source": [
        "columns = ['duration', 'radiant_win', 'tower_status_radiant', 'tower_status_dire', 'barracks_status_radiant', 'barracks_status_dire']\n",
        "data_train = features.drop(columns, axis = 1)\n",
        "data_train.shape"
      ],
      "metadata": {
        "colab": {
          "base_uri": "https://localhost:8080/"
        },
        "id": "qT0T6x2w2VcE",
        "outputId": "c6c1afa1-a7f9-437d-fe34-c522ae2b0ecc"
      },
      "execution_count": null,
      "outputs": [
        {
          "output_type": "execute_result",
          "data": {
            "text/plain": [
              "(97230, 102)"
            ]
          },
          "metadata": {},
          "execution_count": 5
        }
      ]
    },
    {
      "cell_type": "markdown",
      "source": [
        "2. Проверьте выборку на наличие пропусков с помощью функции count(), которая для каждого столбца показывает число заполненных значений. Много ли пропусков в данных? Запишите названия признаков, имеющих пропуски, и попробуйте для любых двух из них дать обоснование, почему их значения могут быть пропущены."
      ],
      "metadata": {
        "id": "4idiXoWU4fHk"
      }
    },
    {
      "cell_type": "code",
      "source": [
        "for column in data_train.columns.values.tolist():\n",
        "  count = data_train[column].count()\n",
        "  if count != 97230:\n",
        "    print(f'{column}: {count}')"
      ],
      "metadata": {
        "colab": {
          "base_uri": "https://localhost:8080/"
        },
        "id": "xiDIseTT5r0E",
        "outputId": "7d1b1a5d-98c9-41c3-ab19-747f5f31ede5"
      },
      "execution_count": null,
      "outputs": [
        {
          "output_type": "stream",
          "name": "stdout",
          "text": [
            "first_blood_time: 77677\n",
            "first_blood_team: 77677\n",
            "first_blood_player1: 77677\n",
            "first_blood_player2: 53243\n",
            "radiant_bottle_time: 81539\n",
            "radiant_courier_time: 96538\n",
            "radiant_flying_courier_time: 69751\n",
            "radiant_first_ward_time: 95394\n",
            "dire_bottle_time: 81087\n",
            "dire_courier_time: 96554\n",
            "dire_flying_courier_time: 71132\n",
            "dire_first_ward_time: 95404\n"
          ]
        }
      ]
    },
    {
      "cell_type": "markdown",
      "source": [
        "Из описания следует: \n",
        "* \"Признаки события \"первая кровь\" (first blood). Если событие \"первая кровь\" не успело произойти за первые 5 минут, то признаки принимают пропущенное значение.\"\n",
        "\n",
        "Остальные признаки относятся к времени первого приобретения командами предметов (bottle, courier, flying_courier, first_ward). Следовательно, пропуски свидетельствуют о том, что они ещё не успели их приобрести."
      ],
      "metadata": {
        "id": "3NjttxFZ6TK6"
      }
    },
    {
      "cell_type": "markdown",
      "source": [
        "3. Замените пропуски на нули с помощью функции fillna(). На самом деле этот способ является предпочтительным для логистической регрессии, поскольку он позволит пропущенному значению не вносить никакого вклада в предсказание. Для деревьев часто лучшим вариантом оказывается замена пропуска на очень большое или очень маленькое значение — в этом случае при построении разбиения вершины можно будет отправить объекты с пропусками в отдельную ветвь дерева. Также есть и другие подходы — например, замена пропуска на среднее значение признака. Мы не требуем этого в задании, но при желании попробуйте разные подходы к обработке пропусков и сравните их между собой."
      ],
      "metadata": {
        "id": "9q0fVLCy9NSc"
      }
    },
    {
      "cell_type": "code",
      "source": [
        "data_train.fillna(0, inplace=True)\n",
        "data_test.fillna(0, inplace=True)"
      ],
      "metadata": {
        "id": "lXo7Mf-h9WDz"
      },
      "execution_count": null,
      "outputs": []
    },
    {
      "cell_type": "markdown",
      "source": [
        "4. Какой столбец содержит целевую переменную? Запишите его название."
      ],
      "metadata": {
        "id": "vFLeGLno9xxF"
      }
    },
    {
      "cell_type": "code",
      "source": [
        "y_train"
      ],
      "metadata": {
        "colab": {
          "base_uri": "https://localhost:8080/"
        },
        "id": "onwcy6rZ94cv",
        "outputId": "a8884e70-b937-420f-ea12-0b06318d6f3b"
      },
      "execution_count": null,
      "outputs": [
        {
          "output_type": "execute_result",
          "data": {
            "text/plain": [
              "match_id\n",
              "0         1\n",
              "1         1\n",
              "2         0\n",
              "3         0\n",
              "4         0\n",
              "         ..\n",
              "114402    0\n",
              "114403    1\n",
              "114404    0\n",
              "114405    0\n",
              "114406    1\n",
              "Name: radiant_win, Length: 97230, dtype: int64"
            ]
          },
          "metadata": {},
          "execution_count": 8
        }
      ]
    },
    {
      "cell_type": "markdown",
      "source": [
        "Столбец 'radiant_win' содержит целевую переменную."
      ],
      "metadata": {
        "id": "UJFxKD1z-ENp"
      }
    },
    {
      "cell_type": "markdown",
      "source": [
        "5. Забудем, что в выборке есть категориальные признаки, и попробуем обучить градиентный бустинг над деревьями на имеющейся матрице \"объекты-признаки\". Зафиксируйте генератор разбиений для кросс-валидации по 5 блокам (KFold), не забудьте перемешать при этом выборку (shuffle=True), поскольку данные в таблице отсортированы по времени, и без перемешивания можно столкнуться с нежелательными эффектами при оценивании качества. Оцените качество градиентного бустинга (GradientBoostingClassifier) с помощью данной кросс-валидации, попробуйте при этом разное количество деревьев (как минимум протестируйте следующие значения для количества деревьев: 10, 20, 30). Долго ли настраивались классификаторы? Достигнут ли оптимум на испытанных значениях параметра n_estimators, или же качество, скорее всего, продолжит расти при дальнейшем его увеличении?"
      ],
      "metadata": {
        "id": "-_DGMWSy-TET"
      }
    },
    {
      "cell_type": "code",
      "source": [
        "import time\n",
        "import datetime\n",
        "import numpy as np\n",
        "from sklearn.model_selection import KFold\n",
        "from sklearn.ensemble import GradientBoostingClassifier\n",
        "from sklearn.model_selection import cross_val_score\n",
        "\n",
        "kf = KFold(n_splits=5, shuffle=True)"
      ],
      "metadata": {
        "id": "DIVsusy7sD6E"
      },
      "execution_count": null,
      "outputs": []
    },
    {
      "cell_type": "code",
      "source": [
        "for tree in [10, 20, 30, 50, 100]:\n",
        "  start_time = datetime.datetime.now()\n",
        "  clf = GradientBoostingClassifier(n_estimators=tree, random_state=241)\n",
        "  clf.fit(data_train, y_train)\n",
        "  score = np.mean(cross_val_score(clf, data_train, y_train, scoring='roc_auc', cv=kf))\n",
        "  print(f'n_estimators: {tree}\\nscore: {score}\\nTime elapsed: {datetime.datetime.now() - start_time}\\n')"
      ],
      "metadata": {
        "colab": {
          "base_uri": "https://localhost:8080/"
        },
        "id": "03s0oWGj_VvA",
        "outputId": "88925a4d-8a5a-4835-83b6-0164d1feaa78"
      },
      "execution_count": null,
      "outputs": [
        {
          "output_type": "stream",
          "name": "stdout",
          "text": [
            "n_estimators: 10\n",
            "score: 0.6641348005774769\n",
            "Time elapsed: 0:00:59.087817\n",
            "\n",
            "n_estimators: 20\n",
            "score: 0.6826479798239953\n",
            "Time elapsed: 0:01:48.729974\n",
            "\n",
            "n_estimators: 30\n",
            "score: 0.689408303523253\n",
            "Time elapsed: 0:02:39.132631\n",
            "\n",
            "n_estimators: 50\n",
            "score: 0.6980254330639277\n",
            "Time elapsed: 0:04:24.568524\n",
            "\n",
            "n_estimators: 100\n",
            "score: 0.7067630593693066\n",
            "Time elapsed: 0:09:01.435823\n",
            "\n"
          ]
        }
      ]
    },
    {
      "cell_type": "markdown",
      "source": [
        "* Как долго проводилась кросс-валидация для градиентного бустинга с 30 деревьями? Инструкцию по измерению времени можно найти ниже по тексту. Какое качество при этом получилось? Напомним, что в данном задании мы используем метрику качества AUC-ROC."
      ],
      "metadata": {
        "id": "RmwK0DBrBCeY"
      }
    },
    {
      "cell_type": "markdown",
      "source": [
        "Для градиентного бустинга с 30 деревьями кросс-валидация проводилась 0:02:39.132631. Качество при этом получилось 0.689408303523253"
      ],
      "metadata": {
        "id": "REuBnF4ABcf7"
      }
    },
    {
      "cell_type": "markdown",
      "source": [
        "* Имеет ли смысл использовать больше 30 деревьев в градиентном бустинге? Что бы вы предложили делать, чтобы ускорить его обучение при увеличении количества деревьев?"
      ],
      "metadata": {
        "id": "APPXx5aNBUqv"
      }
    },
    {
      "cell_type": "markdown",
      "source": [
        "При использовании больше 30 деревьев стоит иметь ввиду, что длительность обучения очень сильно увеличивается, а качество улучшается немного. Например, при 50 и 100 деревьях: качество становится лучше менее чем на 1%, а время увеличивается почти в 2 раза. С целью ускорить обучение имеет смысл уменьшить глубину деревьев и/или сделать отбор признаков."
      ],
      "metadata": {
        "id": "ViKz-87VBevG"
      }
    },
    {
      "cell_type": "markdown",
      "source": [
        "### Подход 2: логистическая регрессия\n",
        "\n",
        "Линейные методы работают гораздо быстрее композиций деревьев, поэтому кажется разумным воспользоваться именно ими для ускорения анализа данных. Одним из наиболее распространенных методов для классификации является логистическая регрессия.\n",
        "\n",
        "**Важно:** не забывайте, что линейные алгоритмы чувствительны к масштабу признаков! Может пригодиться sklearn.preprocessing.StandartScaler.\n",
        "\n",
        "1. Оцените качество логистической регрессии (sklearn.linear_model.LogisticRegression с L2-регуляризацией) с помощью кросс-валидации по той же схеме, которая использовалась для градиентного бустинга. Подберите при этом лучший параметр регуляризации (C). Какое наилучшее качество у вас получилось? Как оно соотносится с качеством градиентного бустинга? Чем вы можете объяснить эту разницу? Быстрее ли работает логистическая регрессия по сравнению с градиентным бустингом?"
      ],
      "metadata": {
        "id": "s5IYvLxUBo8_"
      }
    },
    {
      "cell_type": "code",
      "source": [
        "import pandas as pd\n",
        "from sklearn.linear_model import LogisticRegression\n",
        "from sklearn.preprocessing import StandardScaler\n",
        "from sklearn.model_selection import GridSearchCV\n",
        "\n",
        "grid = {'C': np.linspace(0.001, 0.01, 25)}\n",
        "lr = LogisticRegression(random_state=241)\n",
        "\n",
        "clf = GridSearchCV(lr, grid, cv=kf, scoring='roc_auc')\n",
        "clf.fit(data_train, y_train)\n",
        "print(\"Best parameter \", clf.best_params_)\n",
        "print(\"Best score \", clf.best_score_)   \n",
        "    \n",
        "start_time = datetime.datetime.now()\n",
        "logreg = LogisticRegression(random_state=241, **clf.best_params_)\n",
        "logreg.fit(data_train, y_train)\n",
        "score_logreg = np.mean(cross_val_score(logreg, data_train, y_train, scoring='roc_auc', cv=kf))\n",
        "print(\"Time elapsed = \", datetime.datetime.now() - start_time)"
      ],
      "metadata": {
        "colab": {
          "base_uri": "https://localhost:8080/"
        },
        "id": "Li8B0dEWBwAU",
        "outputId": "60e321fe-b953-4ea6-b313-65161ee92574"
      },
      "execution_count": null,
      "outputs": [
        {
          "output_type": "stream",
          "name": "stdout",
          "text": [
            "Best parameter  {'C': 0.001}\n",
            "Best score  0.5134384804762601\n",
            "Time elapsed =  0:00:01.898216\n"
          ]
        }
      ]
    },
    {
      "cell_type": "code",
      "source": [
        "from sklearn.preprocessing import StandardScaler\n",
        "data_train_scaled = pd.DataFrame(data=StandardScaler().fit_transform(data_train))"
      ],
      "metadata": {
        "id": "pVapRLJIobcU"
      },
      "execution_count": null,
      "outputs": []
    },
    {
      "cell_type": "code",
      "source": [
        "clf = GridSearchCV(lr, grid, cv=kf, scoring='roc_auc')\n",
        "clf.fit(data_train_scaled, y_train)\n",
        "print(\"Best parameter \", clf.best_params_)\n",
        "print(\"Best score \", clf.best_score_)   \n",
        "    \n",
        "start_time = datetime.datetime.now()\n",
        "logreg = LogisticRegression(random_state=241, **clf.best_params_)\n",
        "logreg.fit(data_train_scaled, y_train)\n",
        "score_logreg = np.mean(cross_val_score(logreg, data_train_scaled, y_train, scoring='roc_auc', cv=kf))\n",
        "print(\"Time elapsed = \", datetime.datetime.now() - start_time)"
      ],
      "metadata": {
        "colab": {
          "base_uri": "https://localhost:8080/"
        },
        "id": "PfxSXdxJs5J7",
        "outputId": "3c58560f-a9a6-425a-f661-1a7ce95bc70e"
      },
      "execution_count": null,
      "outputs": [
        {
          "output_type": "stream",
          "name": "stdout",
          "text": [
            "Best parameter  {'C': 0.005875000000000001}\n",
            "Best score  0.7164342012152749\n",
            "Time elapsed =  0:00:07.673820\n"
          ]
        }
      ]
    },
    {
      "cell_type": "markdown",
      "source": [
        "Качество сопоставимо с градиентным бустингом, больше на пару процентов, при этом скорость у логистической регрессии заметно выше (0:00:07.673820), даже по сравнению с градиентным бустингом с 10 девевьями (0:00:59.087817)."
      ],
      "metadata": {
        "id": "zeHGt2tIBwRp"
      }
    },
    {
      "cell_type": "markdown",
      "source": [
        "2. Среди признаков в выборке есть категориальные, которые мы использовали как числовые, что вряд ли является хорошей идеей. Категориальных признаков в этой задаче одиннадцать: lobby_type и r1_hero, r2_hero, ..., r5_hero, d1_hero, d2_hero, ..., d5_hero. Уберите их из выборки, и проведите кросс-валидацию для логистической регрессии на новой выборке с подбором лучшего параметра регуляризации. Изменилось ли качество? Чем вы можете это объяснить?"
      ],
      "metadata": {
        "id": "I8g5NnqhByu2"
      }
    },
    {
      "cell_type": "code",
      "source": [
        "categ_features = ['lobby_type', 'r1_hero', 'r2_hero', 'r3_hero', 'r4_hero', 'r5_hero', \n",
        "                  'd1_hero', 'd2_hero', 'd3_hero', 'd4_hero', 'd5_hero']\n",
        "data_train_categ = data_train.drop(categ_features, axis = 1).fillna(0)\n",
        "data_train_categ_scaled = pd.DataFrame(data=StandardScaler().fit_transform(data_train_categ))"
      ],
      "metadata": {
        "id": "gknoBfDCB5C6"
      },
      "execution_count": null,
      "outputs": []
    },
    {
      "cell_type": "code",
      "source": [
        "clf.fit(data_train_categ, y_train)\n",
        "print(\"Best parameter \", clf.best_params_)\n",
        "print(\"Best score \", clf.best_score_)\n",
        "\n",
        "start_time = datetime.datetime.now()\n",
        "logreg = LogisticRegression(random_state=241, **clf.best_params_)\n",
        "logreg.fit(data_train_categ, y_train)\n",
        "score_logreg = np.mean(cross_val_score(logreg, data_train_categ, y_train, scoring='roc_auc', cv=kf))\n",
        "print(\"Time elapsed = \", datetime.datetime.now() - start_time)"
      ],
      "metadata": {
        "colab": {
          "base_uri": "https://localhost:8080/"
        },
        "id": "j1tHABbubdYI",
        "outputId": "7bdfc87e-a0c6-44a6-ffb3-5e3a6829dbfb"
      },
      "execution_count": null,
      "outputs": [
        {
          "output_type": "stream",
          "name": "stdout",
          "text": [
            "Best parameter  {'C': 0.001}\n",
            "Best score  0.5134642368242652\n",
            "Time elapsed =  0:00:01.708691\n"
          ]
        }
      ]
    },
    {
      "cell_type": "code",
      "source": [
        "clf.fit(data_train_categ_scaled, y_train)\n",
        "print(\"Best parameter \", clf.best_params_)\n",
        "print(\"Best score \", clf.best_score_)\n",
        "\n",
        "start_time = datetime.datetime.now()\n",
        "logreg = LogisticRegression(random_state=241, **clf.best_params_)\n",
        "logreg.fit(data_train_categ_scaled, y_train)\n",
        "score_logreg = np.mean(cross_val_score(logreg, data_train_categ_scaled, y_train, scoring='roc_auc', cv=kf))\n",
        "print(\"Time elapsed = \", datetime.datetime.now() - start_time)"
      ],
      "metadata": {
        "colab": {
          "base_uri": "https://localhost:8080/"
        },
        "id": "ffIkzb3YzYky",
        "outputId": "23f3eb3b-90a4-435e-9422-aa4c15552b19"
      },
      "execution_count": null,
      "outputs": [
        {
          "output_type": "stream",
          "name": "stdout",
          "text": [
            "Best parameter  {'C': 0.0028750000000000004}\n",
            "Best score  0.716325154963121\n",
            "Time elapsed =  0:00:07.772455\n"
          ]
        }
      ]
    },
    {
      "cell_type": "markdown",
      "source": [
        "Качество почти не изменилось, вероятно они просто вносят дополнительный шум в данные."
      ],
      "metadata": {
        "id": "aw1afWpbB5Pw"
      }
    },
    {
      "cell_type": "markdown",
      "source": [
        "3. На предыдущем шаге мы исключили из выборки признаки rM_hero и dM_hero, которые показывают, какие именно герои играли за каждую команду. Это важные признаки — герои имеют разные характеристики, и некоторые из них выигрывают чаще, чем другие. Выясните из данных, сколько различных идентификаторов героев существует в данной игре (вам может пригодиться фукнция unique или value_counts).\n"
      ],
      "metadata": {
        "id": "cwa7LpmqB6sQ"
      }
    },
    {
      "cell_type": "code",
      "source": [
        "heroes = data_train[categ_features].values\n",
        "heroes_unique = np.unique(heroes)\n",
        "print(heroes)\n",
        "print(heroes_unique)"
      ],
      "metadata": {
        "colab": {
          "base_uri": "https://localhost:8080/"
        },
        "id": "xMoxg-moB-4_",
        "outputId": "e9669a89-95fa-4a23-9820-fb78cf474a45"
      },
      "execution_count": null,
      "outputs": [
        {
          "output_type": "stream",
          "name": "stdout",
          "text": [
            "[[  7  11  67 ...  21  37  84]\n",
            " [  0  42  49 ...  79   7  12]\n",
            " [  7  33  98 ...  86  29  80]\n",
            " ...\n",
            " [  1  98  11 ...  55  59  31]\n",
            " [  1 100  72 ...  50  28 106]\n",
            " [  7  50  19 ...  87 112  97]]\n",
            "[  0   1   2   3   4   5   6   7   8   9  10  11  12  13  14  15  16  17\n",
            "  18  19  20  21  22  23  25  26  27  28  29  30  31  32  33  34  35  36\n",
            "  37  38  39  40  41  42  43  44  45  46  47  48  49  50  51  52  53  54\n",
            "  55  56  57  58  59  60  61  62  63  64  65  66  67  68  69  70  71  72\n",
            "  73  74  75  76  77  78  79  80  81  82  83  84  85  86  87  88  89  90\n",
            "  91  92  93  94  95  96  97  98  99 100 101 102 103 104 105 106 109 110\n",
            " 112]\n"
          ]
        }
      ]
    },
    {
      "cell_type": "markdown",
      "source": [
        "В данной игре существует 108 различных идентификаторов героев."
      ],
      "metadata": {
        "id": "Xf2f2Sn_B_DC"
      }
    },
    {
      "cell_type": "markdown",
      "source": [
        "4. Воспользуемся подходом \"мешок слов\" для кодирования информации о героях. Пусть всего в игре имеет N различных героев. Сформируем N признаков, при этом i-й будет равен нулю, если i-й герой не участвовал в матче; единице, если i-й герой играл за команду Radiant; минус единице, если i-й герой играл за команду Dire. Ниже вы можете найти код, который выполняет данной преобразование. Добавьте полученные признаки к числовым, которые вы использовали во втором пункте данного этапа.\n"
      ],
      "metadata": {
        "id": "8SmDP-2UCAbd"
      }
    },
    {
      "cell_type": "markdown",
      "source": [
        "##### Код для формирования \"мешка слов\" по героям\n",
        "```python\n",
        "# N — количество различных героев в выборке\n",
        "X_pick = np.zeros((data.shape[0], N))\n",
        "\n",
        "for i, match_id in enumerate(data.index):\n",
        "    for p in xrange(5):\n",
        "        X_pick[i, data.ix[match_id, 'r%d_hero' % (p+1)]-1] = 1\n",
        "        X_pick[i, data.ix[match_id, 'd%d_hero' % (p+1)]-1] = -1\n",
        "```"
      ],
      "metadata": {
        "id": "_T54zWDjcjM0"
      }
    },
    {
      "cell_type": "code",
      "source": [
        "N = 108  # N — количество различных героев в выборке\n",
        "X_pick = np.zeros((data_train.shape[0], N))\n",
        "\n",
        "for i, match_id in enumerate(data_train.index):\n",
        "    for p in range(5):\n",
        "        X_pick[i, data_train.loc[match_id, 'r%d_hero' % (p+1)]-N] = 1\n",
        "        X_pick[i, data_train.loc[match_id, 'd%d_hero' % (p+1)]-N] = -1"
      ],
      "metadata": {
        "id": "aFURGa5qCEJN"
      },
      "execution_count": null,
      "outputs": []
    },
    {
      "cell_type": "code",
      "source": [
        "data_train_bag = np.hstack([np.array(data_train_categ_scaled), X_pick])\n",
        "data_train_bag.shape"
      ],
      "metadata": {
        "colab": {
          "base_uri": "https://localhost:8080/"
        },
        "id": "141LFErxePAT",
        "outputId": "f9831715-2f50-4fba-b23a-8150f1a058f9"
      },
      "execution_count": null,
      "outputs": [
        {
          "output_type": "execute_result",
          "data": {
            "text/plain": [
              "(97230, 199)"
            ]
          },
          "metadata": {},
          "execution_count": 60
        }
      ]
    },
    {
      "cell_type": "markdown",
      "source": [
        "5. Проведите кросс-валидацию для логистической регрессии на новой выборке с подбором лучшего параметра регуляризации. Какое получилось качество? Улучшилось ли оно? Чем вы можете это объяснить?\n"
      ],
      "metadata": {
        "id": "A8IfrgGbCGOo"
      }
    },
    {
      "cell_type": "code",
      "source": [
        "clf.fit(data_train_bag, y_train)\n",
        "print(\"Best parameter \", clf.best_params_)\n",
        "print(\"Best score \", clf.best_score_)\n",
        "\n",
        "start_time = datetime.datetime.now()\n",
        "logreg = LogisticRegression(random_state=241, **clf.best_params_)\n",
        "logreg.fit(data_train_bag, y_train)\n",
        "score_logreg = np.mean(cross_val_score(logreg, data_train_bag, y_train, scoring='roc_auc', cv=kf))\n",
        "print(\"Time elapsed = \", datetime.datetime.now() - start_time)"
      ],
      "metadata": {
        "colab": {
          "base_uri": "https://localhost:8080/"
        },
        "id": "3xQOGjxQCKW5",
        "outputId": "340ac377-9344-47ac-cdfc-53babc678d5f"
      },
      "execution_count": null,
      "outputs": [
        {
          "output_type": "stream",
          "name": "stdout",
          "text": [
            "Best parameter  {'C': 0.01}\n",
            "Best score  0.7495586834252274\n",
            "Time elapsed =  0:00:20.837270\n"
          ]
        }
      ]
    },
    {
      "cell_type": "markdown",
      "source": [
        "Качество улучшилось и стало 0.7495586834252274. Думаю, что это связано с переводом категориальных признаков в числовые."
      ],
      "metadata": {
        "id": "b8GlVRU4CKg5"
      }
    },
    {
      "cell_type": "markdown",
      "source": [
        "6. Постройте предсказания вероятностей победы команды Radiant для тестовой выборки с помощью лучшей из изученных моделей (лучшей с точки зрения AUC-ROC на кросс-валидации). Убедитесь, что предсказанные вероятности адекватные — находятся на отрезке [0, 1], не совпадают между собой (т.е. что модель не получилась константной)."
      ],
      "metadata": {
        "id": "f7Q0xr63CMCl"
      }
    },
    {
      "cell_type": "code",
      "source": [
        "data_test_categ = data_test.drop(categ_features, axis = 1)\n",
        "data_test_categ = data_test_categ.fillna(0)\n",
        "data_test_categ_scaled = pd.DataFrame(data=StandardScaler().fit_transform(data_test_categ))\n",
        "\n",
        "categ_features.remove('lobby_type')\n",
        "heroes_test = data_test[categ_features].values\n",
        "un_heroes_test = np.unique(heroes_test)\n",
        "un_heroes_test"
      ],
      "metadata": {
        "colab": {
          "base_uri": "https://localhost:8080/"
        },
        "id": "nqDFQao4CPqq",
        "outputId": "f5868b5e-cbd0-47c9-e830-d696b73b49f3"
      },
      "execution_count": null,
      "outputs": [
        {
          "output_type": "execute_result",
          "data": {
            "text/plain": [
              "array([  1,   2,   3,   4,   5,   6,   7,   8,   9,  10,  11,  12,  13,\n",
              "        14,  15,  16,  17,  18,  19,  20,  21,  22,  23,  25,  26,  27,\n",
              "        28,  29,  30,  31,  32,  33,  34,  35,  36,  37,  38,  39,  40,\n",
              "        41,  42,  43,  44,  45,  46,  47,  48,  49,  50,  51,  52,  53,\n",
              "        54,  55,  56,  57,  58,  59,  60,  61,  62,  63,  64,  65,  66,\n",
              "        67,  68,  69,  70,  71,  72,  73,  74,  75,  76,  77,  78,  79,\n",
              "        80,  81,  82,  83,  84,  85,  86,  87,  88,  89,  90,  91,  92,\n",
              "        93,  94,  95,  96,  97,  98,  99, 100, 101, 102, 103, 104, 105,\n",
              "       106, 109, 110, 112])"
            ]
          },
          "metadata": {},
          "execution_count": 62
        }
      ]
    },
    {
      "cell_type": "code",
      "source": [
        "N = 108  # N — количество различных героев в выборке\n",
        "X_pick = np.zeros((data_test.shape[0], N))\n",
        "\n",
        "for i, match_id in enumerate(data_test.index):\n",
        "    for p in range(5):\n",
        "        X_pick[i, data_test.loc[match_id, 'r%d_hero' % (p+1)]-N] = 1\n",
        "        X_pick[i, data_test.loc[match_id, 'd%d_hero' % (p+1)]-N] = -1"
      ],
      "metadata": {
        "id": "NeAalkoNjZ0E"
      },
      "execution_count": null,
      "outputs": []
    },
    {
      "cell_type": "code",
      "source": [
        "data_test_bag = np.hstack([np.array(data_test_categ_scaled), X_pick])\n",
        "data_test_bag.shape"
      ],
      "metadata": {
        "colab": {
          "base_uri": "https://localhost:8080/"
        },
        "id": "gJcmrjbUjg3U",
        "outputId": "ae576d28-fabe-47ad-80b9-0e2d55e964ad"
      },
      "execution_count": null,
      "outputs": [
        {
          "output_type": "execute_result",
          "data": {
            "text/plain": [
              "(17177, 199)"
            ]
          },
          "metadata": {},
          "execution_count": 64
        }
      ]
    },
    {
      "cell_type": "code",
      "source": [
        "lr = LogisticRegression(random_state=241, C=0.01)\n",
        "lr.fit(data_train_bag, y_train)\n",
        "\n",
        "y_predictions = lr.predict_proba(data_test_bag)\n",
        "y_predictions"
      ],
      "metadata": {
        "colab": {
          "base_uri": "https://localhost:8080/"
        },
        "id": "OREVvIS7jpx6",
        "outputId": "4f7ab632-536c-41d9-e9c9-d00a6af7322c"
      },
      "execution_count": null,
      "outputs": [
        {
          "output_type": "execute_result",
          "data": {
            "text/plain": [
              "array([[0.18787365, 0.81212635],\n",
              "       [0.25940779, 0.74059221],\n",
              "       [0.80514033, 0.19485967],\n",
              "       ...,\n",
              "       [0.77198679, 0.22801321],\n",
              "       [0.49379208, 0.50620792],\n",
              "       [0.56355643, 0.43644357]])"
            ]
          },
          "metadata": {},
          "execution_count": 65
        }
      ]
    },
    {
      "cell_type": "code",
      "source": [
        "print(np.min(y_predictions), np.max(y_predictions))\n",
        "#  0.0040168212460378605\n",
        "#  0.99598317875396214"
      ],
      "metadata": {
        "colab": {
          "base_uri": "https://localhost:8080/"
        },
        "id": "VTRzl-g_j1XC",
        "outputId": "8f4df6f1-3e4a-4fb8-dc68-424cde3e8660"
      },
      "execution_count": null,
      "outputs": [
        {
          "output_type": "stream",
          "name": "stdout",
          "text": [
            "0.002901222642995971 0.997098777357004\n"
          ]
        }
      ]
    },
    {
      "cell_type": "markdown",
      "source": [
        "Получились такие варианты: минимум 0.002901222642995971 или 0.0040168212460378605), а максимум 0.997098777357004 или 0.99598317875396214. При разных запусках."
      ],
      "metadata": {
        "id": "pbNJPf6wCP3p"
      }
    },
    {
      "cell_type": "markdown",
      "metadata": {
        "id": "o-rwVFlCymfn"
      },
      "source": [
        "##### Что указать в отчете\n",
        "В отчете по данному этапу вы должны ответить на следующие вопросы:\n",
        "1. Какое качество получилось у логистической регрессии над всеми исходными признаками? Как оно соотносится с качеством градиентного бустинга? Чем вы можете объяснить эту разницу? Быстрее ли работает логистическая регрессия по сравнению с градиентным бустингом?\n",
        "2. Как влияет на качество логистической регрессии удаление категориальных признаков (укажите новое значение метрики качества)? Чем вы можете объяснить это изменение?\n",
        "3. Сколько различных идентификаторов героев существует в данной игре?\n",
        "4. Какое получилось качество при добавлении \"мешка слов\" по героям? Улучшилось ли оно по сравнению с предыдущим вариантом? Чем вы можете это объяснить?\n",
        "5. Какое минимальное и максимальное значение прогноза на тестовой выборке получилось у лучшего из алгоритмов?"
      ]
    },
    {
      "cell_type": "markdown",
      "metadata": {
        "id": "RC9svNv8ymfo"
      },
      "source": [
        "## Проверка финальной модели\n",
        "\n",
        "После того как вы провели все эксперименты и выбрали лучшую модель, можете проверить ее качество на тестовых матчах. Выборка тестовых матчей собрана в файле `matches_test.jsonlines.bz2`. В отличие от основного набора матчей, в тестовых матчах есть только та информация, которая известна на момент первых 5 игровых минут, результат матча — неизвестен. Таблица признаков для тестовых матчей — `features_test.csv`.\n",
        "\n",
        "Для всех матчей из тестового набора предскажите вероятность победы Radiant, запишите предсказания в CSV файл с колонками `match_id` (идентификатор матча) и `radiant_win` — предсказанная вероятность. Файл с предсказаниями должен выглядеть примерно следующим образом:\n",
        "\n",
        "```\n",
        "match_id,radiant_win\n",
        "1,0.51997370502\n",
        "4,0.51997370502\n",
        "15,0.51997370502\n",
        "...\n",
        "```\n",
        "\n",
        "Отправьте решение на Kaggle в соревнование: Dota 2: Win Probability Prediction.\n",
        "\n",
        "Ссылка на соревнование: [Dota 2: Win Probability Prediction](https://kaggle.com/join/coursera_ml_dota2_contest)"
      ]
    },
    {
      "cell_type": "markdown",
      "metadata": {
        "id": "04XAuQE4ymfp"
      },
      "source": [
        "### Что еще попробовать?\n",
        "\n",
        "Разумеется, можно попробовать еще очень много разных идей, которые помогут вам получить еще более высокий результат на kaggle. Вот лишь несколько возможных вариантов:\n",
        "1. Про каждого из игроков есть достаточно много показателей: максимальный опыт, число смертей и т.д. (см. список выше). Можно попробовать просуммировать или усредних их, получив агрегированные показатели для всей команды.\n",
        "2. В сырых данных (файл matches.jsonlines.bz2) содержится очень много информации, которую мы пока не использовали. Вы можете, например, составить \"мешки слов\" для покупок различных предметов (то есть кодировать информацию о том, сколько раз каждая команда покупала тот или иной предмет). Обратите внимание, что при этом вы можете получить слишком большое количество признаков, для которых может иметь смысл сделать понижение размерности с помощью метода главных компонент.\n",
        "3. Можно сформировать признаки про изменения способностей героев в течение матча (ability_upgrades).\n",
        "4. В этом задании используются только градиентный бустинг и логистическая регрессия — но ведь мы изучали и другие модели! Можно попробовать метод k ближайших соседей, SVM, случайный лес и так далее."
      ]
    },
    {
      "cell_type": "markdown",
      "metadata": {
        "id": "udVY5JpAymfq"
      },
      "source": [
        "## Про задачу и финальное задание\n",
        "\n",
        "#### Почему именно такая задача?\n",
        "\n",
        "- Публикация реальных данных из индустриальных задач — очень смелый шаг для компании. Мало кто (даже Яндекс) может на такое пойти. Гораздо проще (а порой и интереснее) воспользоваться данными из открытых источников.\n",
        "- Публичные датасеты из интернета для решения реальных бизнес-задач мало пригодны, собственно поэтому они и лежат в открытом доступе.\n",
        "- Мы предпочли сделать игрушечную задачу на реальных данных, вместо реальной задачи на игрушечных данных.\n",
        "- Задача прогнозирования победы — игрушечная, но вот лишь небольшой перечень реальных задач, на которые она похожа:\n",
        "    - предсказания вероятности покупки услуги клиентом банка\n",
        "    - предсказание вероятности оттока клиента к другому поставщику услуг\n",
        "    - ... (подумайте над другими примерами)\n",
        "\n",
        "#### Задание слишком простое. Что еще можно сделать?\n",
        "\n",
        "Ответить на вопрос: какое минимальное число минут матча необходимо знать, для того чтобы в 80% матчей верно угадывать победившую сторону? А с точностью 90%? Дайте свой ответ на этот вопрос и докажите что такой точности действительно можно достичь, построив модель и качественно провалидировав ее. Насколько матчи в игре Dota 2 предсказуемы?\n",
        "\n",
        "Напишите об этом статью, расскажите всем, и приходите к нам на собеседование.\n",
        "\n",
        "#### Где взяли данные?\n",
        "\n",
        "Набор данных был сделан на основе выгрузки [YASP 3.5 Million Data Dump](http://academictorrents.com/details/5c5deeb6cfe1c944044367d2e7465fd8bd2f4acf) реплеев матчей Dota 2 с сайта [yasp.co](http://yasp.co/). За выгрузку огромное спасибо Albert Cui and Howard Chung and Nicholas Hanson-Holtry. Лицензия на выгрузку: CC BY-SA 4.0.\n",
        "\n",
        "#### Как сформировали выборку?\n",
        "\n",
        "Оригинальная выгрузка матчей была очищена, в предложенном наборе присутствуют матчи:\n",
        "  - сыгранные с 2015-05-01 до 2015-12-17\n",
        "  - длительностью не менее 15 минут\n",
        "  - убраны матчи с неполной информацией (например: отсутвует информация про игроков)\n",
        "\n",
        "Из всего датасета 15% случайных записей были выделены в тестовое множество.\n",
        "\n",
        "Для того чтобы размотивировать участников соревнования на Kaggle занимать высокие места читерскими методами (например, скачав оригинальный набор данных и подсмотрев ответы на тестовом множестве матчей), мы произвели минимальную обфускацию данных, т.е. немного запутали датасет:\n",
        "   - поменяли идентификаторы матчей\n",
        "   - время начала каждого матча сдвинули на значение случайной величины, нормально распределенной со стандартным отклонением в 1 сутки"
      ]
    }
  ],
  "metadata": {
    "kernelspec": {
      "display_name": "Python 3",
      "name": "python3"
    },
    "language_info": {
      "name": "python"
    },
    "colab": {
      "name": "final_statement.ipynb",
      "provenance": [],
      "collapsed_sections": []
    }
  },
  "nbformat": 4,
  "nbformat_minor": 0
}
