{
  "nbformat": 4,
  "nbformat_minor": 0,
  "metadata": {
    "colab": {
      "name": "1. Математика и Python для анализа данных.ipynb",
      "provenance": [],
      "collapsed_sections": []
    },
    "kernelspec": {
      "name": "python3",
      "display_name": "Python 3"
    },
    "language_info": {
      "name": "python"
    }
  },
  "cells": [
    {
      "cell_type": "markdown",
      "metadata": {
        "id": "vaHWzk2BTe9F"
      },
      "source": [
        "#Машинное обучение и анализ данных\n",
        "##Математика и Python\n",
        "Задание 1"
      ]
    },
    {
      "cell_type": "markdown",
      "metadata": {
        "id": "-U7LWGBNSWkP"
      },
      "source": [
        "**Week_1**"
      ]
    },
    {
      "cell_type": "code",
      "metadata": {
        "colab": {
          "base_uri": "https://localhost:8080/",
          "height": 36
        },
        "id": "Q0if5LElSa27",
        "outputId": "8f703e7a-74bc-4d6b-f70c-c5c13bbd570f"
      },
      "source": [
        "import numpy\n",
        "numpy.__version__"
      ],
      "execution_count": null,
      "outputs": [
        {
          "output_type": "execute_result",
          "data": {
            "application/vnd.google.colaboratory.intrinsic+json": {
              "type": "string"
            },
            "text/plain": [
              "'1.19.5'"
            ]
          },
          "metadata": {
            "tags": []
          },
          "execution_count": 2
        }
      ]
    },
    {
      "cell_type": "code",
      "metadata": {
        "colab": {
          "base_uri": "https://localhost:8080/",
          "height": 36
        },
        "id": "qvlZWNhzSbOY",
        "outputId": "60d42d6a-53c1-4980-8380-bb52269fffaa"
      },
      "source": [
        "import scipy\n",
        "scipy.__version__"
      ],
      "execution_count": null,
      "outputs": [
        {
          "output_type": "execute_result",
          "data": {
            "application/vnd.google.colaboratory.intrinsic+json": {
              "type": "string"
            },
            "text/plain": [
              "'1.4.1'"
            ]
          },
          "metadata": {
            "tags": []
          },
          "execution_count": 3
        }
      ]
    },
    {
      "cell_type": "code",
      "metadata": {
        "colab": {
          "base_uri": "https://localhost:8080/",
          "height": 36
        },
        "id": "26PMJDQ3SbaV",
        "outputId": "72b3a6fc-0299-45a2-cdf4-6b46cc51cf2a"
      },
      "source": [
        "import pandas\n",
        "pandas.__version__"
      ],
      "execution_count": null,
      "outputs": [
        {
          "output_type": "execute_result",
          "data": {
            "application/vnd.google.colaboratory.intrinsic+json": {
              "type": "string"
            },
            "text/plain": [
              "'1.1.5'"
            ]
          },
          "metadata": {
            "tags": []
          },
          "execution_count": 4
        }
      ]
    },
    {
      "cell_type": "code",
      "metadata": {
        "colab": {
          "base_uri": "https://localhost:8080/",
          "height": 36
        },
        "id": "S-4hR6jvSna-",
        "outputId": "6f785f44-8d12-451a-f038-3324dd60f2f3"
      },
      "source": [
        "import matplotlib\n",
        "matplotlib.__version__"
      ],
      "execution_count": null,
      "outputs": [
        {
          "output_type": "execute_result",
          "data": {
            "application/vnd.google.colaboratory.intrinsic+json": {
              "type": "string"
            },
            "text/plain": [
              "'3.2.2'"
            ]
          },
          "metadata": {
            "tags": []
          },
          "execution_count": 5
        }
      ]
    },
    {
      "cell_type": "code",
      "metadata": {
        "colab": {
          "base_uri": "https://localhost:8080/",
          "height": 301
        },
        "id": "YfF0wgp6ZEfB",
        "outputId": "530cb145-65c1-4ce5-c674-ed97b3926cd5"
      },
      "source": [
        "%pylab inline\n",
        "y = range(11)\n",
        "plot(y)"
      ],
      "execution_count": null,
      "outputs": [
        {
          "output_type": "stream",
          "text": [
            "Populating the interactive namespace from numpy and matplotlib\n"
          ],
          "name": "stdout"
        },
        {
          "output_type": "execute_result",
          "data": {
            "text/plain": [
              "[<matplotlib.lines.Line2D at 0x7faa9f5d7990>]"
            ]
          },
          "metadata": {
            "tags": []
          },
          "execution_count": 6
        },
        {
          "output_type": "display_data",
          "data": {
            "image/png": "[encoded data removed]",
            "text/plain": [
              "<Figure size 432x288 with 1 Axes>"
            ]
          },
          "metadata": {
            "tags": [],
            "needs_background": "light"
          }
        }
      ]
    },
    {
      "cell_type": "code",
      "metadata": {
        "colab": {
          "base_uri": "https://localhost:8080/"
        },
        "id": "CTEZf9Morztz",
        "outputId": "a0480c9c-4387-445e-abce-d5e03ef60408"
      },
      "source": [
        "d = {1: \"yes\", \"no\": 2}\n",
        "d[\"no\"]"
      ],
      "execution_count": null,
      "outputs": [
        {
          "output_type": "execute_result",
          "data": {
            "text/plain": [
              "2"
            ]
          },
          "metadata": {
            "tags": []
          },
          "execution_count": 7
        }
      ]
    },
    {
      "cell_type": "code",
      "metadata": {
        "id": "NLqIHbIWii74",
        "colab": {
          "base_uri": "https://localhost:8080/"
        },
        "outputId": "af8245af-8501-4f38-a89a-0fc74f2bd5bf"
      },
      "source": [
        "import re\n",
        "with open('sentences.txt') as f:\n",
        "    sentences = f.readlines()\n",
        "sentences"
      ],
      "execution_count": null,
      "outputs": [
        {
          "output_type": "execute_result",
          "data": {
            "text/plain": [
              "['In comparison to dogs, cats have not undergone major changes during the domestication process.\\n',\n",
              " 'As cat simply catenates streams of bytes, it can be also used to concatenate binary files, where it will just concatenate sequence of bytes.\\n',\n",
              " 'A common interactive use of cat for a single file is to output the content of a file to standard output.\\n',\n",
              " 'Cats can hear sounds too faint or too high in frequency for human ears, such as those made by mice and other small animals.\\n',\n",
              " 'In one, people deliberately tamed cats in a process of artificial selection, as they were useful predators of vermin.\\n',\n",
              " 'The domesticated cat and its closest wild ancestor are both diploid organisms that possess 38 chromosomes and roughly 20,000 genes.\\n',\n",
              " 'Domestic cats are similar in size to the other members of the genus Felis, typically weighing between 4 and 5 kg (8.8 and 11.0 lb).\\n',\n",
              " 'However, if the output is piped or redirected, cat is unnecessary.\\n',\n",
              " 'cat with one named file is safer where human error is a concern - one wrong use of the default redirection symbol \">\" instead of \"<\" (often adjacent on keyboards) may permanently delete the file you were just needing to read.\\n',\n",
              " 'In terms of legibility, a sequence of commands starting with cat and connected by pipes has a clear left-to-right flow of information.\\n',\n",
              " 'Cat command is one of the basic commands that you learned when you started in the Unix / Linux world.\\n',\n",
              " 'Using cat command, the lines received from stdin can be redirected to a new file using redirection symbols.\\n',\n",
              " 'When you type simply cat command without any arguments, it just receives the stdin content and displays it in the stdout.\\n',\n",
              " 'Leopard was released on October 26, 2007 as the successor of Tiger (version 10.4), and is available in two editions.\\n',\n",
              " 'According to Apple, Leopard contains over 300 changes and enhancements over its predecessor, Mac OS X Tiger.\\n',\n",
              " 'As of Mid 2010, some Apple computers have firmware factory installed which will no longer allow installation of Mac OS X Leopard.\\n',\n",
              " 'Since Apple moved to using Intel processors in their computers, the OSx86 community has developed and now also allows Mac OS X Tiger and later releases to be installed on non-Apple x86-based computers.\\n',\n",
              " \"OS X Mountain Lion was released on July 25, 2012 for purchase and download through Apple's Mac App Store, as part of a switch to releasing OS X versions online and every year.\\n\",\n",
              " 'Apple has released a small patch for the three most recent versions of Safari running on OS X Yosemite, Mavericks, and Mountain Lion.\\n',\n",
              " 'The Mountain Lion release marks the second time Apple has offered an incremental upgrade, rather than releasing a new cat entirely.\\n',\n",
              " \"Mac OS X Mountain Lion installs in place, so you won't need to create a separate disk or run the installation off an external drive.\\n\",\n",
              " \"The fifth major update to Mac OS X, Leopard, contains such a mountain of features - more than 300 by Apple's count.\\n\"]"
            ]
          },
          "metadata": {
            "tags": []
          },
          "execution_count": 112
        }
      ]
    },
    {
      "cell_type": "code",
      "metadata": {
        "colab": {
          "base_uri": "https://localhost:8080/"
        },
        "id": "z3pk8khJkaLi",
        "outputId": "b6bff044-c7d1-4114-9561-68cab4ed9c4b"
      },
      "source": [
        "data = []\n",
        "for line in sentences:\n",
        "  for word in re.split('[^a-z]', line.strip().lower()):\n",
        "    if word:\n",
        "      data.append(word)\n",
        "unique_word = set(data)\n",
        "print(sentences)\n",
        "words = {}\n",
        "for word in unique_word:\n",
        "  words[word] = data.count(word) \n",
        "for key, value in words.items():\n",
        "  print(key, value)"
      ],
      "execution_count": null,
      "outputs": [
        {
          "output_type": "stream",
          "text": [
            "['In comparison to dogs, cats have not undergone major changes during the domestication process.\\n', 'As cat simply catenates streams of bytes, it can be also used to concatenate binary files, where it will just concatenate sequence of bytes.\\n', 'A common interactive use of cat for a single file is to output the content of a file to standard output.\\n', 'Cats can hear sounds too faint or too high in frequency for human ears, such as those made by mice and other small animals.\\n', 'In one, people deliberately tamed cats in a process of artificial selection, as they were useful predators of vermin.\\n', 'The domesticated cat and its closest wild ancestor are both diploid organisms that possess 38 chromosomes and roughly 20,000 genes.\\n', 'Domestic cats are similar in size to the other members of the genus Felis, typically weighing between 4 and 5 kg (8.8 and 11.0 lb).\\n', 'However, if the output is piped or redirected, cat is unnecessary.\\n', 'cat with one named file is safer where human error is a concern - one wrong use of the default redirection symbol \">\" instead of \"<\" (often adjacent on keyboards) may permanently delete the file you were just needing to read.\\n', 'In terms of legibility, a sequence of commands starting with cat and connected by pipes has a clear left-to-right flow of information.\\n', 'Cat command is one of the basic commands that you learned when you started in the Unix / Linux world.\\n', 'Using cat command, the lines received from stdin can be redirected to a new file using redirection symbols.\\n', 'When you type simply cat command without any arguments, it just receives the stdin content and displays it in the stdout.\\n', 'Leopard was released on October 26, 2007 as the successor of Tiger (version 10.4), and is available in two editions.\\n', 'According to Apple, Leopard contains over 300 changes and enhancements over its predecessor, Mac OS X Tiger.\\n', 'As of Mid 2010, some Apple computers have firmware factory installed which will no longer allow installation of Mac OS X Leopard.\\n', 'Since Apple moved to using Intel processors in their computers, the OSx86 community has developed and now also allows Mac OS X Tiger and later releases to be installed on non-Apple x86-based computers.\\n', \"OS X Mountain Lion was released on July 25, 2012 for purchase and download through Apple's Mac App Store, as part of a switch to releasing OS X versions online and every year.\\n\", 'Apple has released a small patch for the three most recent versions of Safari running on OS X Yosemite, Mavericks, and Mountain Lion.\\n', 'The Mountain Lion release marks the second time Apple has offered an incremental upgrade, rather than releasing a new cat entirely.\\n', \"Mac OS X Mountain Lion installs in place, so you won't need to create a separate disk or run the installation off an external drive.\\n\", \"The fifth major update to Mac OS X, Leopard, contains such a mountain of features - more than 300 by Apple's count.\\n\"]\n",
            "through 1\n",
            "roughly 1\n",
            "started 1\n",
            "fifth 1\n",
            "need 1\n",
            "from 1\n",
            "most 1\n",
            "lines 1\n",
            "for 4\n",
            "version 1\n",
            "enhancements 1\n",
            "firmware 1\n",
            "developed 1\n",
            "you 5\n",
            "year 1\n",
            "editions 1\n",
            "allow 1\n",
            "instead 1\n",
            "made 1\n",
            "may 1\n",
            "needing 1\n",
            "or 3\n",
            "ears 1\n",
            "three 1\n",
            "weighing 1\n",
            "tamed 1\n",
            "commands 2\n",
            "update 1\n",
            "domesticated 1\n",
            "sequence 2\n",
            "processors 1\n",
            "symbol 1\n",
            "standard 1\n",
            "yosemite 1\n",
            "content 2\n",
            "predecessor 1\n",
            "other 2\n",
            "disk 1\n",
            "single 1\n",
            "adjacent 1\n",
            "separate 1\n",
            "clear 1\n",
            "unix 1\n",
            "an 2\n",
            "not 1\n",
            "two 1\n",
            "flow 1\n",
            "than 2\n",
            "without 1\n",
            "deliberately 1\n",
            "delete 1\n",
            "download 1\n",
            "incremental 1\n",
            "releasing 2\n",
            "genus 1\n",
            "those 1\n",
            "installed 2\n",
            "domestication 1\n",
            "binary 1\n",
            "felis 1\n",
            "longer 1\n",
            "hear 1\n",
            "between 1\n",
            "similar 1\n",
            "second 1\n",
            "create 1\n",
            "keyboards 1\n",
            "named 1\n",
            "concern 1\n",
            "upgrade 1\n",
            "symbols 1\n",
            "predators 1\n",
            "domestic 1\n",
            "mavericks 1\n",
            "comparison 1\n",
            "changes 2\n",
            "ancestor 1\n",
            "on 5\n",
            "has 4\n",
            "october 1\n",
            "learned 1\n",
            "store 1\n",
            "high 1\n",
            "entirely 1\n",
            "be 3\n",
            "released 3\n",
            "concatenate 2\n",
            "terms 1\n",
            "wrong 1\n",
            "world 1\n",
            "is 7\n",
            "redirected 2\n",
            "time 1\n",
            "error 1\n",
            "mid 1\n",
            "output 3\n",
            "any 1\n",
            "basic 1\n",
            "won 1\n",
            "were 2\n",
            "both 1\n",
            "recent 1\n",
            "off 1\n",
            "catenates 1\n",
            "possess 1\n",
            "s 2\n",
            "of 19\n",
            "new 2\n",
            "it 4\n",
            "vermin 1\n",
            "left 1\n",
            "x 9\n",
            "process 2\n",
            "mice 1\n",
            "major 2\n",
            "interactive 1\n",
            "will 2\n",
            "in 11\n",
            "permanently 1\n",
            "human 2\n",
            "information 1\n",
            "however 1\n",
            "community 1\n",
            "the 20\n",
            "arguments 1\n",
            "legibility 1\n",
            "faint 1\n",
            "cat 10\n",
            "they 1\n",
            "rather 1\n",
            "when 2\n",
            "computers 3\n",
            "july 1\n",
            "selection 1\n",
            "simply 2\n",
            "small 2\n",
            "available 1\n",
            "chromosomes 1\n",
            "streams 1\n",
            "lb 1\n",
            "often 1\n",
            "command 3\n",
            "part 1\n",
            "purchase 1\n",
            "os 8\n",
            "have 2\n",
            "its 2\n",
            "linux 1\n",
            "apple 8\n",
            "offered 1\n",
            "unnecessary 1\n",
            "kg 1\n",
            "using 3\n",
            "if 1\n",
            "drive 1\n",
            "release 1\n",
            "factory 1\n",
            "diploid 1\n",
            "so 1\n",
            "tiger 3\n",
            "more 1\n",
            "people 1\n",
            "members 1\n",
            "releases 1\n",
            "artificial 1\n",
            "right 1\n",
            "switch 1\n",
            "used 1\n",
            "too 2\n",
            "was 2\n",
            "intel 1\n",
            "a 13\n",
            "useful 1\n",
            "patch 1\n",
            "organisms 1\n",
            "stdin 2\n",
            "versions 2\n",
            "some 1\n",
            "mountain 5\n",
            "which 1\n",
            "files 1\n",
            "typically 1\n",
            "safer 1\n",
            "redirection 2\n",
            "during 1\n",
            "t 1\n",
            "according 1\n",
            "non 1\n",
            "sounds 1\n",
            "every 1\n",
            "stdout 1\n",
            "leopard 4\n",
            "features 1\n",
            "piped 1\n",
            "running 1\n",
            "marks 1\n",
            "successor 1\n",
            "can 3\n",
            "file 5\n",
            "installation 2\n",
            "dogs 1\n",
            "bytes 2\n",
            "contains 2\n",
            "allows 1\n",
            "where 2\n",
            "just 3\n",
            "to 14\n",
            "undergone 1\n",
            "frequency 1\n",
            "size 1\n",
            "mac 6\n",
            "osx 1\n",
            "read 1\n",
            "external 1\n",
            "animals 1\n",
            "use 2\n",
            "with 2\n",
            "default 1\n",
            "by 3\n",
            "closest 1\n",
            "moved 1\n",
            "cats 4\n",
            "as 6\n",
            "count 1\n",
            "based 1\n",
            "displays 1\n",
            "safari 1\n",
            "installs 1\n",
            "wild 1\n",
            "that 2\n",
            "online 1\n",
            "are 2\n",
            "starting 1\n",
            "also 2\n",
            "pipes 1\n",
            "later 1\n",
            "receives 1\n",
            "one 4\n",
            "and 14\n",
            "lion 4\n",
            "now 1\n",
            "received 1\n",
            "type 1\n",
            "no 1\n",
            "such 2\n",
            "common 1\n",
            "genes 1\n",
            "connected 1\n",
            "their 1\n",
            "place 1\n",
            "over 2\n",
            "run 1\n",
            "since 1\n",
            "app 1\n"
          ],
          "name": "stdout"
        }
      ]
    },
    {
      "cell_type": "code",
      "metadata": {
        "colab": {
          "base_uri": "https://localhost:8080/"
        },
        "id": "gM9-94Y6p6Kv",
        "outputId": "4982f8c4-f0db-452e-b09c-be273543c7c1"
      },
      "source": [
        "import numpy as np\n",
        "keys = list(words.keys())\n",
        "matrix = np.zeros((22,254))\n",
        "for i in range(22):\n",
        "  for j in range(254):\n",
        "    matrix[i, j] = re.split('[^a-z]', sentences[i].strip().lower()).count(keys[j])"
      ],
      "execution_count": null,
      "outputs": [
        {
          "output_type": "stream",
          "text": [
            "['through', 'roughly', 'started', 'fifth', 'need', 'from', 'most', 'lines', 'for', 'version', 'enhancements', 'firmware', 'developed', 'you', 'year', 'editions', 'allow', 'instead', 'made', 'may', 'needing', 'or', 'ears', 'three', 'weighing', 'tamed', 'commands', 'update', 'domesticated', 'sequence', 'processors', 'symbol', 'standard', 'yosemite', 'content', 'predecessor', 'other', 'disk', 'single', 'adjacent', 'separate', 'clear', 'unix', 'an', 'not', 'two', 'flow', 'than', 'without', 'deliberately', 'delete', 'download', 'incremental', 'releasing', 'genus', 'those', 'installed', 'domestication', 'binary', 'felis', 'longer', 'hear', 'between', 'similar', 'second', 'create', 'keyboards', 'named', 'concern', 'upgrade', 'symbols', 'predators', 'domestic', 'mavericks', 'comparison', 'changes', 'ancestor', 'on', 'has', 'october', 'learned', 'store', 'high', 'entirely', 'be', 'released', 'concatenate', 'terms', 'wrong', 'world', 'is', 'redirected', 'time', 'error', 'mid', 'output', 'any', 'basic', 'won', 'were', 'both', 'recent', 'off', 'catenates', 'possess', 's', 'of', 'new', 'it', 'vermin', 'left', 'x', 'process', 'mice', 'major', 'interactive', 'will', 'in', 'permanently', 'human', 'information', 'however', 'community', 'the', 'arguments', 'legibility', 'faint', 'cat', 'they', 'rather', 'when', 'computers', 'july', 'selection', 'simply', 'small', 'available', 'chromosomes', 'streams', 'lb', 'often', 'command', 'part', 'purchase', 'os', 'have', 'its', 'linux', 'apple', 'offered', 'unnecessary', 'kg', 'using', 'if', 'drive', 'release', 'factory', 'diploid', 'so', 'tiger', 'more', 'people', 'members', 'releases', 'artificial', 'right', 'switch', 'used', 'too', 'was', 'intel', 'a', 'useful', 'patch', 'organisms', 'stdin', 'versions', 'some', 'mountain', 'which', 'files', 'typically', 'safer', 'redirection', 'during', 't', 'according', 'non', 'sounds', 'every', 'stdout', 'leopard', 'features', 'piped', 'running', 'marks', 'successor', 'can', 'file', 'installation', 'dogs', 'bytes', 'contains', 'allows', 'where', 'just', 'to', 'undergone', 'frequency', 'size', 'mac', 'osx', 'read', 'external', 'animals', 'use', 'with', 'default', 'by', 'closest', 'moved', 'cats', 'as', 'count', 'based', 'displays', 'safari', 'installs', 'wild', 'that', 'online', 'are', 'starting', 'also', 'pipes', 'later', 'receives', 'one', 'and', 'lion', 'now', 'received', 'type', 'no', 'such', 'common', 'genes', 'connected', 'their', 'place', 'over', 'run', 'since', 'app']\n"
          ],
          "name": "stdout"
        }
      ]
    },
    {
      "cell_type": "code",
      "metadata": {
        "id": "RzpmLvCCI52T"
      },
      "source": [
        ""
      ],
      "execution_count": null,
      "outputs": []
    },
    {
      "cell_type": "code",
      "metadata": {
        "colab": {
          "base_uri": "https://localhost:8080/"
        },
        "id": "kJK9yPWEkb6e",
        "outputId": "3bda7dba-0c4f-46ed-e7ba-db63c3fda9dd"
      },
      "source": [
        "from scipy.spatial import distance\n",
        "for i in range(1, 23):\n",
        "    print(round(distance.cosine(matrix[:1, :], matrix[i-1: i, :]), 3))"
      ],
      "execution_count": null,
      "outputs": [
        {
          "output_type": "stream",
          "text": [
            "0.0\n",
            "0.953\n",
            "0.864\n",
            "0.895\n",
            "0.777\n",
            "0.94\n",
            "0.733\n",
            "0.926\n",
            "0.884\n",
            "0.906\n",
            "0.833\n",
            "0.88\n",
            "0.84\n",
            "0.87\n",
            "0.874\n",
            "0.944\n",
            "0.841\n",
            "0.957\n",
            "0.944\n",
            "0.889\n",
            "0.843\n",
            "0.825\n"
          ],
          "name": "stdout"
        }
      ]
    },
    {
      "cell_type": "code",
      "metadata": {
        "id": "5s5EI-TaI8JL"
      },
      "source": [
        "with open('submission-1.txt', 'w') as answer:\n",
        "  answer.write('4 6')"
      ],
      "execution_count": null,
      "outputs": []
    },
    {
      "cell_type": "code",
      "metadata": {
        "colab": {
          "base_uri": "https://localhost:8080/"
        },
        "id": "24uL800Lxume",
        "outputId": "333ded69-c537-4f7f-99b5-b546b9ceb4ee"
      },
      "source": [
        "from math import *\n",
        "print(sin(1 / 5) * exp(1 / 10) + 5 * exp(-1 / 2))"
      ],
      "execution_count": null,
      "outputs": [
        {
          "output_type": "stream",
          "text": [
            "3.252216865271419\n"
          ],
          "name": "stdout"
        }
      ]
    },
    {
      "cell_type": "code",
      "metadata": {
        "colab": {
          "base_uri": "https://localhost:8080/",
          "height": 265
        },
        "id": "6RF0LeXpBdK0",
        "outputId": "f052bc5d-4d04-4b78-e61f-11fe9d6f320b"
      },
      "source": [
        "import matplotlib.pyplot as plt\n",
        "plt.plot(15, sin(x / 5) * exp(x / 10) + 5 * exp(-x / 2))\n",
        "plt.show()"
      ],
      "execution_count": null,
      "outputs": [
        {
          "output_type": "display_data",
          "data": {
            "image/png": "[encoded data removed]",
            "text/plain": [
              "<Figure size 432x288 with 1 Axes>"
            ]
          },
          "metadata": {
            "tags": [],
            "needs_background": "light"
          }
        }
      ]
    },
    {
      "cell_type": "code",
      "metadata": {
        "id": "D-1JIcAgB_z0"
      },
      "source": [
        "w0 + w1*x = y #  1 15\n",
        "w0 + w1*x + w2*x**2 = y # 1 8 15\n",
        "w0 + w1*x + w2*x**2 + w3*x**3 = y # 1 4 10 15\n",
        "sin(x / 5) * exp(x / 10) + 5 * exp(-x / 2)"
      ],
      "execution_count": null,
      "outputs": []
    },
    {
      "cell_type": "code",
      "metadata": {
        "colab": {
          "base_uri": "https://localhost:8080/"
        },
        "id": "m8b7qCFFEaUX",
        "outputId": "29010c50-4961-41ea-91ee-2738fa4448c8"
      },
      "source": [
        "y1 = sin(1 / 5) * exp(1 / 10) + 5 * exp(-1 / 2) # w0 + w1*1 =\n",
        "y2 = sin(15 / 5) * exp(15 / 10) + 5 * exp(-15 / 2) # w0 + w1*15 =\n",
        "print(y1)\n",
        "print(y2)"
      ],
      "execution_count": null,
      "outputs": [
        {
          "output_type": "stream",
          "text": [
            "3.252216865271419\n",
            "0.6352214195786656\n"
          ],
          "name": "stdout"
        }
      ]
    },
    {
      "cell_type": "code",
      "metadata": {
        "colab": {
          "base_uri": "https://localhost:8080/"
        },
        "id": "FVl6U_YjExk-",
        "outputId": "acca6820-4fec-4b9b-d49f-cdd253a4872a"
      },
      "source": [
        "a = np.array([[1, 1], [1, 15]])\n",
        "b = np.array([3.252, 0.635])\n",
        "x = np.linalg.solve(a, b)\n",
        "x"
      ],
      "execution_count": null,
      "outputs": [
        {
          "output_type": "execute_result",
          "data": {
            "text/plain": [
              "array([ 3.43892857, -0.18692857])"
            ]
          },
          "metadata": {
            "tags": []
          },
          "execution_count": 94
        }
      ]
    },
    {
      "cell_type": "code",
      "metadata": {
        "colab": {
          "base_uri": "https://localhost:8080/"
        },
        "id": "Xvp53-JZFiAa",
        "outputId": "d38602a7-ae9f-4f06-98f2-222db3be89f3"
      },
      "source": [
        "y1 = sin(1 / 5) * exp(1 / 10) + 5 * exp(-1 / 2)\n",
        "y2 = sin(8 / 5) * exp(8 / 10) + 5 * exp(-8 / 2)\n",
        "y3 = sin(15 / 5) * exp(15 / 10) + 5 * exp(-15 / 2)\n",
        "print(y1)\n",
        "print(y2)\n",
        "print(y3)"
      ],
      "execution_count": null,
      "outputs": [
        {
          "output_type": "stream",
          "text": [
            "3.252216865271419\n",
            "2.316170159053224\n",
            "0.6352214195786656\n"
          ],
          "name": "stdout"
        }
      ]
    },
    {
      "cell_type": "code",
      "metadata": {
        "colab": {
          "base_uri": "https://localhost:8080/"
        },
        "id": "cLDU7gVyHCgD",
        "outputId": "08446ddd-9c39-40e7-803c-a542c9ea8837"
      },
      "source": [
        "a = np.array([[1, 1, 1], [1, 8, 64], [1, 15, 225]])\n",
        "b = np.array([3.252, 2.316, 0.635])\n",
        "x = np.linalg.solve(a, b)\n",
        "x"
      ],
      "execution_count": null,
      "outputs": [
        {
          "output_type": "execute_result",
          "data": {
            "text/plain": [
              "array([ 3.32489796, -0.06529592, -0.00760204])"
            ]
          },
          "metadata": {
            "tags": []
          },
          "execution_count": 96
        }
      ]
    },
    {
      "cell_type": "code",
      "metadata": {
        "colab": {
          "base_uri": "https://localhost:8080/"
        },
        "id": "fk_yp5qMH8P1",
        "outputId": "15af1cee-9a4b-48d1-efea-f0ed9a2af186"
      },
      "source": [
        "y1 = sin(1 / 5) * exp(1 / 10) + 5 * exp(-1 / 2)\n",
        "y2 = sin(4 / 5) * exp(4 / 10) + 5 * exp(-4 / 2)\n",
        "y3 = sin(10 / 5) * exp(10 / 10) + 5 * exp(-10 / 2)\n",
        "y4 = sin(15 / 5) * exp(15 / 10) + 5 * exp(-15 / 2)\n",
        "print(y1)\n",
        "print(y2)\n",
        "print(y3)\n",
        "print(y4)"
      ],
      "execution_count": null,
      "outputs": [
        {
          "output_type": "stream",
          "text": [
            "3.252216865271419\n",
            "1.7468459495903677\n",
            "2.5054164070002463\n",
            "0.6352214195786656\n"
          ],
          "name": "stdout"
        }
      ]
    },
    {
      "cell_type": "code",
      "metadata": {
        "colab": {
          "base_uri": "https://localhost:8080/"
        },
        "id": "z2Bzv8hoIIfQ",
        "outputId": "eed2e414-68c7-4be4-e080-625c45d15bc0"
      },
      "source": [
        "a = np.array([[1, 1, 1, 1], [1, 4, 16, 64], [1, 10, 100, 1000], [1, 15, 225, 3375]])\n",
        "b = np.array([3.252, 1.747, 2.505, 0.635])\n",
        "x = np.linalg.solve(a, b)\n",
        "x"
      ],
      "execution_count": null,
      "outputs": [
        {
          "output_type": "execute_result",
          "data": {
            "text/plain": [
              "array([ 4.36209957, -1.29513997,  0.19327345, -0.00823304])"
            ]
          },
          "metadata": {
            "tags": []
          },
          "execution_count": 102
        }
      ]
    },
    {
      "cell_type": "code",
      "metadata": {
        "id": "ay1ffdZ5IbEZ"
      },
      "source": [
        "with open('submission-2.txt', 'w') as answer:\n",
        "  answer.write('4.36209957 -1.29513997 0.19327345 -0.00823304')"
      ],
      "execution_count": null,
      "outputs": []
    }
  ]
}
