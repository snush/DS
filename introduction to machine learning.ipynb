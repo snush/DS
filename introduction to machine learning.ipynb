{
  "nbformat": 4,
  "nbformat_minor": 0,
  "metadata": {
    "colab": {
      "name": "0. Введение в машинное обучение.ipynb",
      "provenance": []
    },
    "kernelspec": {
      "name": "python3",
      "display_name": "Python 3"
    },
    "language_info": {
      "name": "python"
    }
  },
  "cells": [
    {
      "cell_type": "code",
      "metadata": {
        "id": "qFTKr_8FBG5s"
      },
      "source": [
        "import numpy as np\n",
        "matrix = np.random.normal(loc=1, scale=10, size=(1000, 50))\n",
        "print(matrix)\n",
        "\n",
        "mean = np.mean(matrix, axis=0)\n",
        "std = np.std(matrix, axis=0)\n",
        "normal = (matrix - mean) / std\n",
        "print(normal)\n",
        "\n",
        "matrix = np.array([[4, 5, 0], \n",
        "             [1, 9, 3],              \n",
        "             [5, 1, 1],\n",
        "             [3, 3, 3], \n",
        "             [9, 9, 9], \n",
        "             [4, 7, 1]])\n",
        "sum = np.sum(matrix, axis=1)\n",
        "np.nonzero(sum > 10)\n",
        "\n",
        "first = np.eye(3)\n",
        "second = np.eye(3)\n",
        "third = np.vstack((first, second))\n",
        "print(third)"
      ],
      "execution_count": null,
      "outputs": []
    },
    {
      "cell_type": "code",
      "metadata": {
        "id": "r4nBV04hAi1_"
      },
      "source": [
        "import pandas as pd\n",
        "df = pd.DataFrame([1, 2, 3, 4, 5])\n",
        "df.info()"
      ],
      "execution_count": null,
      "outputs": []
    },
    {
      "cell_type": "markdown",
      "metadata": {
        "id": "XUx5G7Z6rekc"
      },
      "source": [
        "**Предобработка данных в Pandas**"
      ]
    },
    {
      "cell_type": "code",
      "metadata": {
        "id": "VJmNHUNIM9_C"
      },
      "source": [
        "import pandas\n",
        "data = pandas.read_csv('/content/drive/MyDrive/Coursera/titanic_train.csv', index_col='PassengerId')\n",
        "data.head()"
      ],
      "execution_count": null,
      "outputs": []
    },
    {
      "cell_type": "code",
      "metadata": {
        "id": "c8m95tNkJiF0"
      },
      "source": [
        "male = data[data['Sex'] == 'male'].count()\n",
        "female = data[data['Sex'] == 'female'].count()\n",
        "print(male, female)\n",
        "with open('answer_1.txt', 'w') as answer:\n",
        "  answer.write(\"577 314\")"
      ],
      "execution_count": null,
      "outputs": []
    },
    {
      "cell_type": "code",
      "metadata": {
        "id": "KdrxHJ6rTlEw"
      },
      "source": [
        "data[data['Survived'] == 1].count()\n",
        "print(342 / 891)\n",
        "with open('answer_2.txt', 'w') as answer:\n",
        "  answer.write(\"38.38\")"
      ],
      "execution_count": null,
      "outputs": []
    },
    {
      "cell_type": "code",
      "metadata": {
        "id": "gz8YZ_W2TmGD"
      },
      "source": [
        "data[data['Pclass'] == 1].count()\n",
        "print(216 * 100 / 891)\n",
        "with open('answer_3.txt', 'w') as answer:\n",
        "  answer.write(\"24.24\")"
      ],
      "execution_count": null,
      "outputs": []
    },
    {
      "cell_type": "code",
      "metadata": {
        "id": "NJybQN66TmxR"
      },
      "source": [
        "print(data['Age'].mean())\n",
        "print(data['Age'].median())\n",
        "with open('answer_4.txt', 'w') as answer:\n",
        "  answer.write(\"29.70 28\")"
      ],
      "execution_count": null,
      "outputs": []
    },
    {
      "cell_type": "code",
      "metadata": {
        "id": "Lg_DGgQtTnXm"
      },
      "source": [
        "print(data['SibSp'].corr(data['Parch']))\n",
        "with open('answer_5.txt', 'w') as answer:\n",
        "  answer.write(\"0.41\")"
      ],
      "execution_count": null,
      "outputs": []
    },
    {
      "cell_type": "code",
      "metadata": {
        "id": "jN07dWPXTn9k"
      },
      "source": [
        "from collections import Counter\n",
        "\n",
        "# data_female = data[data['Sex'] == 'female']\n",
        "female_names = [female_name.split('. ')[1] for female_name in data['Name'] if 'Mrs' in female_name.split('. ')[0] or 'Miss' in female_name.split('. ')[0]]\n",
        "names = [name.split(\" \") for name in female_names]\n",
        "first_names = [name for first_name in names for name in first_name]\n",
        "\n",
        "count = Counter(first_names)\n",
        "for name in count.most_common():\n",
        "  print(name)\n",
        "  \n",
        "with open('answer_6.txt', 'w') as answer:\n",
        "  answer.write(\"Anna\")"
      ],
      "execution_count": null,
      "outputs": []
    },
    {
      "cell_type": "markdown",
      "metadata": {
        "id": "NO6iIM_gr0jJ"
      },
      "source": [
        "**Важность признаков**"
      ]
    },
    {
      "cell_type": "code",
      "metadata": {
        "id": "yPuHiP9NkS59"
      },
      "source": [
        "import pandas as pd\n",
        "data = pandas.read_csv('/content/drive/MyDrive/Coursera/titanic_train.csv', index_col='PassengerId')\n",
        "data.head()\n",
        "\n",
        "X = data.loc[:, ['Survived', 'Pclass', 'Fare', 'Age', 'Sex']]\n",
        "\n",
        "X = X.dropna()\n",
        "print(pd.isna(X).sum())\n",
        "\n",
        "X['Sex'] = X['Sex'].astype('category')\n",
        "X['Sex'] = X['Sex'].cat.codes\n",
        "\n",
        "y = X['Survived']\n",
        "X = X.loc[:, ['Pclass', 'Fare', 'Age', 'Sex']]"
      ],
      "execution_count": null,
      "outputs": []
    },
    {
      "cell_type": "code",
      "metadata": {
        "id": "EVGIyst0e__g"
      },
      "source": [
        "import numpy as np\n",
        "from sklearn.tree import DecisionTreeClassifier\n",
        "\n",
        "clf = DecisionTreeClassifier(random_state=241)\n",
        "clf.fit(X, y)\n",
        "\n",
        "importances = clf.feature_importances_\n",
        "importances"
      ],
      "execution_count": null,
      "outputs": []
    },
    {
      "cell_type": "code",
      "metadata": {
        "id": "fj5YOZ-5a23I"
      },
      "source": [
        "with open('answer.txt', 'w') as answer:\n",
        "  answer.write(\"Fare Sex\")"
      ],
      "execution_count": null,
      "outputs": []
    },
    {
      "cell_type": "markdown",
      "metadata": {
        "id": "S-CjKoHSr7_n"
      },
      "source": [
        "**Week_2**"
      ]
    },
    {
      "cell_type": "code",
      "metadata": {
        "id": "7lEihhPIatW1"
      },
      "source": [
        "from sklearn import datasets\n",
        "matrix = sklearn.datasets.load_boston()['data']\n",
        "y = sklearn.datasets.load_boston()['target']"
      ],
      "execution_count": null,
      "outputs": []
    },
    {
      "cell_type": "code",
      "metadata": {
        "id": "sk2CcnHiauOV"
      },
      "source": [
        "sklearn.preprocessing.scale(matrix)"
      ],
      "execution_count": null,
      "outputs": []
    },
    {
      "cell_type": "code",
      "metadata": {
        "colab": {
          "base_uri": "https://localhost:8080/"
        },
        "id": "ys1Zv2fdbYmd",
        "outputId": "d0a2f64b-e7db-4960-e13c-1337b1facd76"
      },
      "source": [
        "from sklearn import *\n",
        "data = pd.read_csv('wine.csv')\n",
        "print(data)\n",
        "X = data.values[:, 0]\n",
        "y = data.values[:, 1:]\n",
        "y\n",
        "# X = array[:,0:8]\n",
        "# Y = array[:,8]"
      ],
      "execution_count": null,
      "outputs": [
        {
          "output_type": "stream",
          "text": [
            "     1  14.23  1.71  2.43  15.6  127  ...   .28  2.29   5.64  1.04  3.92  1065\n",
            "0    1  13.20  1.78  2.14  11.2  100  ...  0.26  1.28   4.38  1.05  3.40  1050\n",
            "1    1  13.16  2.36  2.67  18.6  101  ...  0.30  2.81   5.68  1.03  3.17  1185\n",
            "2    1  14.37  1.95  2.50  16.8  113  ...  0.24  2.18   7.80  0.86  3.45  1480\n",
            "3    1  13.24  2.59  2.87  21.0  118  ...  0.39  1.82   4.32  1.04  2.93   735\n",
            "4    1  14.20  1.76  2.45  15.2  112  ...  0.34  1.97   6.75  1.05  2.85  1450\n",
            "..  ..    ...   ...   ...   ...  ...  ...   ...   ...    ...   ...   ...   ...\n",
            "172  3  13.71  5.65  2.45  20.5   95  ...  0.52  1.06   7.70  0.64  1.74   740\n",
            "173  3  13.40  3.91  2.48  23.0  102  ...  0.43  1.41   7.30  0.70  1.56   750\n",
            "174  3  13.27  4.28  2.26  20.0  120  ...  0.43  1.35  10.20  0.59  1.56   835\n",
            "175  3  13.17  2.59  2.37  20.0  120  ...  0.53  1.46   9.30  0.60  1.62   840\n",
            "176  3  14.13  4.10  2.74  24.5   96  ...  0.56  1.35   9.20  0.61  1.60   560\n",
            "\n",
            "[177 rows x 14 columns]\n"
          ],
          "name": "stdout"
        },
        {
          "output_type": "execute_result",
          "data": {
            "text/plain": [
              "array([[1.320e+01, 1.780e+00, 2.140e+00, ..., 1.050e+00, 3.400e+00,\n",
              "        1.050e+03],\n",
              "       [1.316e+01, 2.360e+00, 2.670e+00, ..., 1.030e+00, 3.170e+00,\n",
              "        1.185e+03],\n",
              "       [1.437e+01, 1.950e+00, 2.500e+00, ..., 8.600e-01, 3.450e+00,\n",
              "        1.480e+03],\n",
              "       ...,\n",
              "       [1.327e+01, 4.280e+00, 2.260e+00, ..., 5.900e-01, 1.560e+00,\n",
              "        8.350e+02],\n",
              "       [1.317e+01, 2.590e+00, 2.370e+00, ..., 6.000e-01, 1.620e+00,\n",
              "        8.400e+02],\n",
              "       [1.413e+01, 4.100e+00, 2.740e+00, ..., 6.100e-01, 1.600e+00,\n",
              "        5.600e+02]])"
            ]
          },
          "metadata": {
            "tags": []
          },
          "execution_count": 63
        }
      ]
    },
    {
      "cell_type": "code",
      "metadata": {
        "colab": {
          "base_uri": "https://localhost:8080/"
        },
        "id": "iBYsFvANejMG",
        "outputId": "fba417a3-4e9c-4d75-d292-de72bd997d4e"
      },
      "source": [
        "sklearn.model_selection.KFold(n_splits=5, random_state=42, shuffle=True)"
      ],
      "execution_count": null,
      "outputs": [
        {
          "output_type": "execute_result",
          "data": {
            "text/plain": [
              "KFold(n_splits=5, random_state=42, shuffle=True)"
            ]
          },
          "metadata": {
            "tags": []
          },
          "execution_count": 25
        }
      ]
    },
    {
      "cell_type": "code",
      "metadata": {
        "id": "Ll4dHAcOd-p3"
      },
      "source": [
        "from sklearn.neighbors import KNeighborsClassifier\n",
        "for i in range(1, 51):\n",
        "  neigh = KNeighborsClassifier(n_neighbors=i)\n",
        "  neigh.fit(X, y)"
      ],
      "execution_count": null,
      "outputs": []
    },
    {
      "cell_type": "code",
      "metadata": {
        "id": "FQQ-Rn8Tr0oH"
      },
      "source": [
        ""
      ],
      "execution_count": null,
      "outputs": []
    },
    {
      "cell_type": "code",
      "source": [
        "import pandas\n",
        "data = pandas.read_csv('classification.csv')\n",
        "data.head()\n",
        "\n",
        "TP = data[data['true'].map(lambda x: x == 1) & (data['pred'] == 1)].shape[0]\n",
        "FP = data[data['true'].map(lambda x: x == 0) & (data['pred'] == 1)].shape[0]\n",
        "FN = data[data['true'].map(lambda x: x == 1) & (data['pred'] == 0)].shape[0]\n",
        "TN = data[data['true'].map(lambda x: x == 0) & (data['pred'] == 0)].shape[0]\n",
        "print(TP, FP, FN, TN)\n",
        "data.shape"
      ],
      "metadata": {
        "colab": {
          "base_uri": "https://localhost:8080/"
        },
        "id": "6clZrxZ0vQso",
        "outputId": "43bd5466-de79-4a9a-8891-93c5cff04854"
      },
      "execution_count": null,
      "outputs": [
        {
          "output_type": "stream",
          "name": "stdout",
          "text": [
            "43 34 59 64\n"
          ]
        },
        {
          "output_type": "execute_result",
          "data": {
            "text/plain": [
              "(200, 2)"
            ]
          },
          "metadata": {},
          "execution_count": 47
        }
      ]
    },
    {
      "cell_type": "code",
      "source": [
        "with open('1.txt', 'w') as answer:\n",
        "  answer.write(\"43 34 59 64\")"
      ],
      "metadata": {
        "id": "SmZvBJWS8fAn"
      },
      "execution_count": null,
      "outputs": []
    },
    {
      "cell_type": "code",
      "source": [
        "import sklearn.metrics\n",
        "\n",
        "accuracy = sklearn.metrics.accuracy_score(data['true'], data['pred'])\n",
        "precision = sklearn.metrics.precision_score(data['true'], data['pred'])\n",
        "recall = sklearn.metrics.recall_score(data['true'], data['pred'])\n",
        "f1 = sklearn.metrics.f1_score(data['true'], data['pred'])\n",
        "\n",
        "print(accuracy, precision, recall, f1)"
      ],
      "metadata": {
        "colab": {
          "base_uri": "https://localhost:8080/"
        },
        "id": "KQbWoxuUu5e4",
        "outputId": "bbf32b99-75ad-40ce-a302-e05bdf8b046c"
      },
      "execution_count": null,
      "outputs": [
        {
          "output_type": "stream",
          "name": "stdout",
          "text": [
            "0.535 0.5584415584415584 0.4215686274509804 0.48044692737430167\n"
          ]
        }
      ]
    },
    {
      "cell_type": "code",
      "source": [
        "with open('2.txt', 'w') as answer:\n",
        "  answer.write(\"0.54 0.56 0.42 0.48\")"
      ],
      "metadata": {
        "id": "pyXnaE7o9HeD"
      },
      "execution_count": null,
      "outputs": []
    },
    {
      "cell_type": "code",
      "source": [
        "import pandas\n",
        "import sklearn.metrics\n",
        "data = pandas.read_csv('scores.csv')\n",
        "\n",
        "y = data['true']\n",
        "logreg = data['score_logreg']\n",
        "svm = data['score_svm']\n",
        "knn = data['score_knn']\n",
        "tree = data['score_tree']\n",
        "\n",
        "fpr, tpr, thresholds = sklearn.metrics.roc_curve(y, logreg)\n",
        "fpr, tpr, thresholds = sklearn.metrics.roc_curve(y, svm)\n",
        "fpr, tpr, thresholds = sklearn.metrics.roc_curve(y, knn)\n",
        "fpr, tpr, thresholds = sklearn.metrics.roc_curve(y, tree)\n",
        "print(sklearn.metrics.roc_auc_score(y, logreg))\n",
        "print(sklearn.metrics.roc_auc_score(y, svm))\n",
        "print(sklearn.metrics.roc_auc_score(y, knn))\n",
        "print(sklearn.metrics.roc_auc_score(y, tree))"
      ],
      "metadata": {
        "colab": {
          "base_uri": "https://localhost:8080/"
        },
        "id": "0t35XpJsu6Z-",
        "outputId": "462876de-a8f6-4154-8f4d-176191b9d710"
      },
      "execution_count": null,
      "outputs": [
        {
          "output_type": "stream",
          "name": "stdout",
          "text": [
            "0.719187675070028\n",
            "0.7086834733893557\n",
            "0.6351540616246498\n",
            "0.6919267707082833\n"
          ]
        }
      ]
    },
    {
      "cell_type": "code",
      "source": [
        "with open('3.txt', 'w') as answer:\n",
        "  answer.write(\"score_logreg\")"
      ],
      "metadata": {
        "id": "L0PATNGA9fuT"
      },
      "execution_count": null,
      "outputs": []
    },
    {
      "cell_type": "code",
      "source": [
        "precision, recall, _ = sklearn.metrics.precision_recall_curve(y, logreg)\n",
        "print(precision[(recall >= 0.7)].max())\n",
        "\n",
        "precision, recall, _ = sklearn.metrics.precision_recall_curve(y, svm)\n",
        "print(precision[(recall >= 0.7)].max())\n",
        "\n",
        "precision, recall, _ = sklearn.metrics.precision_recall_curve(y, knn)\n",
        "print(precision[(recall >= 0.7)].max())\n",
        "\n",
        "precision, recall, _ = sklearn.metrics.precision_recall_curve(y, tree)\n",
        "print(precision[(recall >= 0.7)].max())"
      ],
      "metadata": {
        "colab": {
          "base_uri": "https://localhost:8080/"
        },
        "id": "RVf57DtB7PpC",
        "outputId": "1d698de3-74ea-4862-a348-9783208227d7"
      },
      "execution_count": null,
      "outputs": [
        {
          "output_type": "stream",
          "name": "stdout",
          "text": [
            "0.6302521008403361\n",
            "0.6228070175438597\n",
            "0.6065573770491803\n",
            "0.6517857142857143\n"
          ]
        }
      ]
    },
    {
      "cell_type": "code",
      "source": [
        "with open('4.txt', 'w') as answer:\n",
        "  answer.write(\"score_tree\")"
      ],
      "metadata": {
        "id": "3YwsJsAI9sd3"
      },
      "execution_count": null,
      "outputs": []
    },
    {
      "cell_type": "code",
      "source": [
        "import pandas as pd\n",
        "import numpy as np\n",
        "import sklearn.metrics\n",
        "import math\n",
        "\n",
        "data = pandas.read_csv('data-logistic.csv', header=None)\n",
        "\n",
        "data.head()\n",
        "y = data.values[:, 0]\n",
        "X = data.values[:, 1:]\n",
        "\n",
        "def sigmoid(x):\n",
        "  return 1.0 / (1.0 + math.exp(x))\n",
        "\n",
        "def distance(a, b):\n",
        "  return np.sqrt(np.square(a[0]-b[0]) + np.square(a[1]-b[1]))\n",
        "\n",
        "def log_regression(X, y, k, w, C, epsilon, max_iter):\n",
        "  w1, w2 = w\n",
        "  for i in range(max_iter):\n",
        "    w1new = w1 + k/len(y) * np.sum(y * X[:, 0] * (1 - (1/(1 + np.exp(-y * (w1 * X[:,0] + w2 * X[:,1])))))) - k * C * w1\n",
        "    w2new = w2 + k/len(y) * np.sum(y * X[:, 1] * (1 - (1/(1 + np.exp(-y * (w1 * X[:,0] + w2 * X[:,1])))))) - k * C * w2\n",
        "    if distance((w1new, w2new), (w1, w2)) < epsilon:\n",
        "      break\n",
        "    w1, w2 = w1new, w2new\n",
        "\n",
        "  predictions = []\n",
        "\n",
        "  for i in range(len(y)):\n",
        "    t1 = -w1 * X[i, 0] - w2 * X[i, 1]\n",
        "    s = sigmoid(t1)\n",
        "    predictions.append(s)\n",
        "  return predictions\n",
        "\n",
        "p0 = log_regression(X, y, 0.1, [0.0, 0.0], 0, 0.00001, 10000)\n",
        "p1 = log_regression(X, y, 0.1, [0.0, 0.0], 10, 0.00001, 10000)\n",
        "\n",
        "print(sklearn.metrics.roc_auc_score(y, p0))\n",
        "print(sklearn.metrics.roc_auc_score(y, p1))"
      ],
      "metadata": {
        "id": "86BmC8ni7Q6o",
        "colab": {
          "base_uri": "https://localhost:8080/"
        },
        "outputId": "0f191a4f-2555-4829-a1b8-86975c11680b"
      },
      "execution_count": null,
      "outputs": [
        {
          "output_type": "stream",
          "name": "stdout",
          "text": [
            "0.9268571428571428\n",
            "0.9362857142857142\n"
          ]
        }
      ]
    },
    {
      "cell_type": "code",
      "source": [
        "with open('answer.txt', 'w') as f:\n",
        "  f.write('0.927 0.936')"
      ],
      "metadata": {
        "id": "z0e56caXYjEV"
      },
      "execution_count": null,
      "outputs": []
    },
    {
      "cell_type": "code",
      "source": [
        "yd = data.values[:, 0]\n",
        "X1 = data.values[:, 1]\n",
        "X2 = data.values[:, 2]\n",
        "\n",
        "k,iteration, C, epsilon, max_iterations,l = 0.1, 0, 0, 1e-5, 100, len(yd)\n",
        "# первое приближение коэффициентов\n",
        "print (k,iteration, C, epsilon, max_iterations)\n",
        "w1 = w2 = 0.0\n",
        "\n",
        "while iteration <= max_iterations:\n",
        "    for i in range(l): # приближения w1 и w2.\n",
        "         x1 = X1[i]\n",
        "         x2 = X2[i]\n",
        "         y = yd[i]\n",
        "         w1 = k * 1/l * np.sum(y*x1*(1 - 1/(1 + math.exp(-y * (w1*x1 + w2*x2))))) - k*C*w1\n",
        "         w2 = k * 1/l * np.sum(y*x2*(1 - 1/(1 + math.exp(-y * (w1*x1 + w2*x2))))) - k*C*w2\n",
        "#веса\n",
        "    w1_new = w1 + k * 1/l * np.sum(y * x1 * (1 - 1/(1 + math.exp(-y * (w1*x1 + w2*x2))))) - k*C*w1\n",
        "    w2_new = w2 + k * 1/l * np.sum(y * x2 * (1 - 1/(1 + math.exp(-y * (w1*x1 + w2*x2))))) - k*C*w2\n",
        "\n",
        "    print ((w1 - w1_new), (w2 - w2_new))\n",
        "\n",
        "    # проверка на то, что веса почти сошлись\n",
        "    if abs(w1 - w1_new) < epsilon and abs(w2 - w2_new) < epsilon:\n",
        "        break\n",
        "\n",
        "    # сохранение весов\n",
        "    w1 = w1_new\n",
        "    w2 = w2_new\n",
        "\n",
        "    # увеличение счётчика итераций\n",
        "    iteration += 1\n",
        "\n",
        "print (w1_new,w2_new)\n",
        "\n",
        "#"
      ],
      "metadata": {
        "id": "6aIlDONQRPBh"
      },
      "execution_count": null,
      "outputs": []
    },
    {
      "cell_type": "code",
      "source": [
        "import pandas as pd\n",
        "import numpy as np\n",
        "\n",
        "data_train = pd.read_csv('salary-train.csv')\n",
        "data_test = pd.read_csv('salary-test-mini.csv')"
      ],
      "metadata": {
        "id": "GUTm6JZOFqCf"
      },
      "execution_count": null,
      "outputs": []
    },
    {
      "cell_type": "code",
      "source": [
        "data_train['FullDescription'] = data_train['FullDescription'].replace('[^a-zA-Z0-9]', ' ', regex = True)"
      ],
      "metadata": {
        "id": "uLsY2jlbGyJ2"
      },
      "execution_count": null,
      "outputs": []
    },
    {
      "cell_type": "code",
      "source": [
        "data_train['LocationNormalized'].fillna('nan', inplace=True)\n",
        "data_train['ContractTime'].fillna('nan', inplace=True)"
      ],
      "metadata": {
        "id": "MG3VdpJ1UR3a"
      },
      "execution_count": null,
      "outputs": []
    },
    {
      "cell_type": "code",
      "source": [
        "data_train['FullDescription'] = data_train['FullDescription'].str.lower()"
      ],
      "metadata": {
        "id": "2oG-C3H1UcJX"
      },
      "execution_count": null,
      "outputs": []
    },
    {
      "cell_type": "code",
      "source": [
        "X_train = data_train[['FullDescription', 'LocationNormalized', 'ContractTime']]\n",
        "y_train = data_train['SalaryNormalized']\n",
        "\n",
        "X_test = data_test[['FullDescription', 'LocationNormalized', 'ContractTime']]\n",
        "y_test = data_test['SalaryNormalized']"
      ],
      "metadata": {
        "id": "8Ex0Ec4FbVhJ"
      },
      "execution_count": null,
      "outputs": []
    },
    {
      "cell_type": "code",
      "source": [
        "from sklearn.feature_extraction.text import TfidfVectorizer\n",
        "\n",
        "vec = TfidfVectorizer(min_df=5)\n",
        "X_train_vec = vec.fit_transform(X_train['FullDescription'])\n",
        "X_test_vec = vec.transform(X_test['FullDescription'])"
      ],
      "metadata": {
        "id": "xD2x0BpnVz2o"
      },
      "execution_count": null,
      "outputs": []
    },
    {
      "cell_type": "code",
      "source": [
        "from sklearn.feature_extraction import DictVectorizer\n",
        "\n",
        "enc = DictVectorizer()\n",
        "X_train_categ = enc.fit_transform(X_train[['LocationNormalized', 'ContractTime']].to_dict('records'))\n",
        "X_test_categ = enc.transform(X_test[['LocationNormalized', 'ContractTime']].to_dict('records'))"
      ],
      "metadata": {
        "id": "zuL9qNIgUFWY"
      },
      "execution_count": null,
      "outputs": []
    },
    {
      "cell_type": "code",
      "source": [
        "from scipy.sparse import coo_matrix, hstack\n",
        "\n",
        "X_for_train = hstack([X_train_vec, X_train_categ])\n",
        "X_for_test = hstack([X_test_vec, X_test_categ])"
      ],
      "metadata": {
        "id": "_Buw_43UMC4y"
      },
      "execution_count": null,
      "outputs": []
    },
    {
      "cell_type": "code",
      "source": [
        "from sklearn.linear_model import Ridge\n",
        "\n",
        "ridge = Ridge(alpha = 1, random_state = 241)\n",
        "ridge.fit(X_for_train, y_train)\n",
        "result = ridge.predict(X_for_test)\n",
        "\n",
        "print(result)"
      ],
      "metadata": {
        "colab": {
          "base_uri": "https://localhost:8080/"
        },
        "id": "McdKlPeHXX7T",
        "outputId": "69ca6778-f90f-4633-a90e-7bc16f70e610"
      },
      "execution_count": null,
      "outputs": [
        {
          "output_type": "stream",
          "name": "stdout",
          "text": [
            "[56575.58558632 37135.92073248]\n"
          ]
        }
      ]
    },
    {
      "cell_type": "code",
      "source": [
        "answer1 = np.round(result[0], 2)\n",
        "answer2 = np.round(result[1], 2)\n",
        "\n",
        "with open('answer.txt', 'w') as f:\n",
        "  f.write(f'{answer1} {answer2}')"
      ],
      "metadata": {
        "id": "-Z4XypU8bsOF"
      },
      "execution_count": null,
      "outputs": []
    },
    {
      "cell_type": "markdown",
      "source": [
        "Week 4"
      ],
      "metadata": {
        "id": "ds3EWsKwbUvr"
      }
    },
    {
      "cell_type": "code",
      "source": [
        "import pandas as pd\n",
        "import numpy as np\n",
        "\n",
        "data = pd.read_csv('close_prices.csv')\n",
        "index = pd.read_csv('djia_index.csv')"
      ],
      "metadata": {
        "id": "O2F6kIRZeYoe"
      },
      "execution_count": null,
      "outputs": []
    },
    {
      "cell_type": "code",
      "source": [
        "data.drop('date', inplace=True, axis=1)\n",
        "index.drop('date', inplace=True, axis=1)"
      ],
      "metadata": {
        "id": "p5v-rE3me_Dw"
      },
      "execution_count": null,
      "outputs": []
    },
    {
      "cell_type": "code",
      "source": [
        "data['^DJI']"
      ],
      "metadata": {
        "id": "-hCxb81empud"
      },
      "execution_count": null,
      "outputs": []
    },
    {
      "cell_type": "code",
      "source": [
        "from sklearn.decomposition import PCA\n",
        "\n",
        "X = np.array(data)\n",
        "c = np.array(index)\n",
        "\n",
        "pca = PCA(n_components=10)\n",
        "pca.fit(X)\n",
        "\n",
        "X = pca.transform(X)\n",
        "y = pca.transform(c)"
      ],
      "metadata": {
        "id": "MdE8zHBVhLjb"
      },
      "execution_count": null,
      "outputs": []
    },
    {
      "cell_type": "code",
      "source": [
        "data.columns"
      ],
      "metadata": {
        "colab": {
          "base_uri": "https://localhost:8080/"
        },
        "id": "MP8xY9RSlrAg",
        "outputId": "2135a3b2-1ca5-4bff-f281-5ac84aee67f2"
      },
      "execution_count": null,
      "outputs": [
        {
          "output_type": "execute_result",
          "data": {
            "text/plain": [
              "Index(['AXP', 'BA', 'CAT', 'CSCO', 'CVX', 'DD', 'DIS', 'GE', 'GS', 'HD', 'IBM',\n",
              "       'INTC', 'JNJ', 'JPM', 'KO', 'MCD', 'MMM', 'MRK', 'MSFT', 'NKE', 'PFE',\n",
              "       'PG', 'T', 'TRV', 'UNH', 'UTX', 'V', 'VZ', 'WMT', 'XOM'],\n",
              "      dtype='object')"
            ]
          },
          "metadata": {},
          "execution_count": 108
        }
      ]
    },
    {
      "cell_type": "code",
      "source": [
        "max_value = [data[name].sum() for name in data.columns]\n",
        "max(max_value)\n",
        "#data['V'].sum()"
      ],
      "metadata": {
        "colab": {
          "base_uri": "https://localhost:8080/"
        },
        "id": "7Y_A373noxiP",
        "outputId": "355da5ae-1452-420c-d7de-7165e5b762c7"
      },
      "execution_count": null,
      "outputs": [
        {
          "output_type": "execute_result",
          "data": {
            "text/plain": [
              "83715.13011"
            ]
          },
          "metadata": {},
          "execution_count": 119
        }
      ]
    },
    {
      "cell_type": "code",
      "source": [
        "from sklearn.decomposition import PCA\n",
        "\n",
        "pca = PCA(n_components=10)\n",
        "pca.fit(data)\n",
        "\n",
        "\n",
        "p = pca.transform(data)\n",
        "#print(pca.explained_variance_ratio_[0:4].sum())\n",
        "#print(p.shape)\n",
        "#print(np.corrcoef(p[:,0], index.values))\n",
        "print(np.argmax(pca.components_[0]))\n",
        "# np.corrcoef \n",
        "\n",
        "with open('3.txt', 'w') as f:\n",
        "  f.write(\"Visa\")"
      ],
      "metadata": {
        "colab": {
          "base_uri": "https://localhost:8080/"
        },
        "id": "JTowaYVDezw3",
        "outputId": "33495299-c9e2-4ba6-dd8a-b3bcb8f8a71b"
      },
      "execution_count": null,
      "outputs": [
        {
          "output_type": "stream",
          "name": "stdout",
          "text": [
            "26\n"
          ]
        }
      ]
    },
    {
      "cell_type": "code",
      "source": [
        "pca = PCA(n_components=10)\n",
        "pca.fit(data)\n",
        "p = pca.transform(data)\n",
        "X = [x[0] for x in p] #Значения первой компоненты\n",
        "Y = [x[0] for x in index.values] #Колонка DJI\n",
        "\n",
        "print(np.corrcoef(X, Y))\n",
        "\n",
        "with open('2.txt', 'w') as f:\n",
        "  f.write(\"0.91\")"
      ],
      "metadata": {
        "colab": {
          "base_uri": "https://localhost:8080/"
        },
        "id": "j_1gCsGhhegc",
        "outputId": "b9b6ebe0-a262-486d-cebe-33cbf3a61312"
      },
      "execution_count": null,
      "outputs": [
        {
          "output_type": "stream",
          "name": "stdout",
          "text": [
            "[[1.         0.90965222]\n",
            " [0.90965222 1.        ]]\n"
          ]
        }
      ]
    },
    {
      "cell_type": "code",
      "source": [
        "data = pd.read_csv('close_prices.csv',index_col='date')"
      ],
      "metadata": {
        "id": "WY4gU0GUivAC"
      },
      "execution_count": null,
      "outputs": []
    },
    {
      "cell_type": "code",
      "source": [
        "print( pca.explained_variance_ratio_[0:4].sum() )"
      ],
      "metadata": {
        "colab": {
          "base_uri": "https://localhost:8080/"
        },
        "id": "uufZifLKizUz",
        "outputId": "6ab45351-5afd-482c-8333-055df41816a3"
      },
      "execution_count": null,
      "outputs": [
        {
          "output_type": "stream",
          "name": "stdout",
          "text": [
            "0.92774295378364\n"
          ]
        }
      ]
    },
    {
      "cell_type": "code",
      "source": [
        "xindex1 = pd.Series(data[:,0], index=data.index, name='xindex1')"
      ],
      "metadata": {
        "id": "umJTVAHvi5s1"
      },
      "execution_count": null,
      "outputs": []
    },
    {
      "cell_type": "code",
      "source": [
        "X = np.array(data)\n",
        "index1 = pd.Series(X[:,0], index=data.index, name='index1')"
      ],
      "metadata": {
        "id": "nv5M_YKzcfJA"
      },
      "execution_count": null,
      "outputs": []
    },
    {
      "cell_type": "code",
      "source": [
        "corr = np.corrcoef(index1, index)[0, 1]"
      ],
      "metadata": {
        "id": "GuFUVRN_jJyg"
      },
      "execution_count": null,
      "outputs": []
    },
    {
      "cell_type": "code",
      "source": [
        "print( data.columns[ np.argmax( pca.components_[0] ) ] )"
      ],
      "metadata": {
        "id": "NMCmkIzmjKs-"
      },
      "execution_count": null,
      "outputs": []
    },
    {
      "cell_type": "code",
      "source": [
        "components=result.components_\n",
        "firstComponent=pd.DataFrame(data=components[0])\n",
        "brandIndex=firstComponent.idxmax()[0]+1\n",
        "\n",
        "print('Какая компания имеет наибольший вес в первой компоненте?')\n",
        "print(data_train.columns[brandIndex])"
      ],
      "metadata": {
        "id": "JfvDXY7Dfrev"
      },
      "execution_count": null,
      "outputs": []
    },
    {
      "cell_type": "markdown",
      "source": [
        "Week 5"
      ],
      "metadata": {
        "id": "2_07qnq46JVD"
      }
    },
    {
      "cell_type": "code",
      "source": [
        "import numpy as np\n",
        "from sklearn.ensemble import RandomForestRegressor\n",
        "from sklearn.ensemble import RandomForestClassifier\n",
        "from sklearn.model_selection import KFold\n",
        "\n",
        "X = np.array([[1, 2], [3, 4], [5, 6]])\n",
        "y = np.array([-3, 1, 10])\n",
        "\n",
        "clf = RandomForestRegressor(n_estimators=100)\n",
        "clf.fit(X, y)\n",
        "predictions = clf.predict(X)\n"
      ],
      "metadata": {
        "id": "Ng57FYxn6MG7"
      },
      "execution_count": null,
      "outputs": []
    },
    {
      "cell_type": "code",
      "source": [
        "from sklearn.metrics import r2_score\n",
        "\n",
        "print(r2_score([10, 11, 12], [9, 11, 12.1]))"
      ],
      "metadata": {
        "id": "iuKMfI1Q7d1e"
      },
      "execution_count": null,
      "outputs": []
    },
    {
      "cell_type": "code",
      "source": [
        ""
      ],
      "metadata": {
        "colab": {
          "base_uri": "https://localhost:8080/"
        },
        "id": "3MijyiCpHzz9",
        "outputId": "30611909-2d15-45be-bfec-62781affdb9d"
      },
      "execution_count": null,
      "outputs": [
        {
          "output_type": "execute_result",
          "data": {
            "text/plain": [
              "array([[ 1.    ,  0.455 ,  0.365 , ...,  0.2245,  0.101 ,  0.15  ],\n",
              "       [ 1.    ,  0.35  ,  0.265 , ...,  0.0995,  0.0485,  0.07  ],\n",
              "       [-1.    ,  0.53  ,  0.42  , ...,  0.2565,  0.1415,  0.21  ],\n",
              "       ...,\n",
              "       [ 1.    ,  0.6   ,  0.475 , ...,  0.5255,  0.2875,  0.308 ],\n",
              "       [-1.    ,  0.625 ,  0.485 , ...,  0.531 ,  0.261 ,  0.296 ],\n",
              "       [ 1.    ,  0.71  ,  0.555 , ...,  0.9455,  0.3765,  0.495 ]])"
            ]
          },
          "metadata": {},
          "execution_count": 145
        }
      ]
    },
    {
      "cell_type": "code",
      "source": [
        "import numpy as np\n",
        "import pandas as pd\n",
        "from sklearn.metrics import r2_score\n",
        "from sklearn.model_selection import KFold, cross_val_score\n",
        "from sklearn.ensemble import RandomForestRegressor\n",
        "from sklearn.ensemble import RandomForestClassifier\n",
        "\n",
        "data = pd.read_csv('abalone.csv')\n",
        "\n",
        "data['Sex'] = data['Sex'].map(lambda x: 1 if x == 'M' else (-1 if x == 'F' else 0))\n",
        "\n",
        "X = data.values[:,:-1]\n",
        "y = data.values[:, -1]\n",
        "\n",
        "X_ = data.loc[:, ['Sex', 'Length', 'Diameter', 'Height', 'WholeWeight', 'ShuckedWeight','VisceraWeight', 'ShellWeight']]\n",
        "y_ = data.loc[:, ['Rings']]\n",
        "\n",
        "\n",
        "for tree in range(1, 51):\n",
        "  clf = RandomForestRegressor(random_state=1, n_estimators=tree)\n",
        "  kf = KFold(random_state=1, shuffle=True)\n",
        "  cvs = cross_val_score(clf, X, y, cv=kf, scoring='r2')\n",
        "  print(f\"{tree}: {np.mean(cvs)}\")\n",
        "\n",
        "with open('1.txt', 'w') as f:\n",
        "  f.write(\"22\")"
      ],
      "metadata": {
        "id": "qQdqfoUX78e1"
      },
      "execution_count": null,
      "outputs": []
    },
    {
      "cell_type": "code",
      "source": [
        "from builtins import range\n",
        "import math\n",
        "import pandas as pd\n",
        "import numpy as np\n",
        "\n",
        "from sklearn.model_selection import cross_val_predict, KFold\n",
        "from sklearn.ensemble import RandomForestRegressor as RFR\n",
        "import sklearn.model_selection as mod_sel\n",
        "from sklearn.metrics import r2_score as R2\n",
        "\n",
        "data = pd.read_csv('abalone.csv');\n",
        "\n",
        "data['Sex'] = data['Sex'].map(lambda x: 1 if x == 'M' else (-1 if x == 'F' else 0))\n",
        "\n",
        "X = data[['Sex','Length','Diameter','Height','WholeWeight','ShuckedWeight','VisceraWeight','ShellWeight']]\n",
        "y = data['Rings']\n",
        "\n",
        "def get_r2_score(estimator, x, y_true):\n",
        "    y_pred = estimator.predict(x)\n",
        "    return R2(y_true, y_pred)\n",
        "\n",
        "kf5 = KFold(n_splits=5, shuffle=True, random_state=1)\n",
        "\n",
        "for k in range(1,51):\n",
        "    rfr = RFR(random_state=1, n_estimators=k)\n",
        "    #rfr.fit(X, y)\n",
        "\n",
        "    scores = mod_sel.cross_val_score(X=X, y=y, estimator=rfr, cv=kf5, scoring='r2')\n",
        "    #scores = mod_sel.cross_val_score(X=X, y=y, estimator=rfr, cv=kf5, scoring=get_r2_score)\n",
        "    avg_score = scores.mean()\n",
        "    print(k, avg_score)"
      ],
      "metadata": {
        "id": "bYAmAzpCJC1t"
      },
      "execution_count": null,
      "outputs": []
    },
    {
      "cell_type": "code",
      "source": [
        "import pandas as pd\n",
        "import numpy as np\n",
        "\n",
        "from sklearn.model_selection import train_test_split\n",
        "from sklearn.ensemble import RandomForestRegressor\n",
        "from sklearn.ensemble import GradientBoostingClassifier\n",
        "from sklearn.metrics import log_loss\n",
        "import matplotlib.pyplot as plt\n",
        "%matplotlib inline\n",
        "\n",
        "data = pd.read_csv('gbm-data.csv')\n",
        "\n",
        "X = data.values[:, 1:]\n",
        "y = data.values[:, 0]\n",
        "\n",
        "X_train, X_test, y_train, y_test = train_test_split(X, y, test_size = 0.8, random_state = 241)\n",
        "\n",
        "for learning_rate in [1, 0.5, 0.3, 0.2, 0.1]:\n",
        "  clf = GradientBoostingClassifier(n_estimators=250, verbose=True, random_state=241, learning_rate=learning_rate)\n",
        "  clf.fit(X_train, y_train)\n",
        "\n",
        "  scores_test = list()\n",
        "  scores_train = np.empty(len(clf.estimators_))\n",
        "\n",
        "  for i, pred in enumerate(clf.staged_decision_function(X_test)):\n",
        "    scores_test.append([i + 1, log_loss(y_test, 1 / (1 + np.exp(-pred)))])   \n",
        "\n",
        "  for i, pred in enumerate(clf.staged_decision_function(X_train)):\n",
        "    scores_train[i] = log_loss(y_train, 1 / (1 + np.exp(-pred)))\n",
        "  print(test_loss)\n",
        "  test_loss = pd.DataFrame(scores_test, columns=['iter','loss'])\n",
        "  print(test_loss[test_loss.loss==test_loss.loss.min()])\n",
        "  print(f\"{learning_rate}: {clf.score(X_test, y_test)}\")\n",
        "  plt.figure(figsize=(15,8))\n",
        "  plt.plot(scores_test, 'r', linewidth=2)\n",
        "  plt.plot(scores_train, 'g', linewidth=2)\n",
        "  plt.legend(['test', 'train'])\n",
        "\n",
        "  # y_pred_train = clf.predict_proba(X_train)\n",
        "  # y_pred_train = clf.staged_decision_function(X_train)\n",
        "  # sigm_train = 1.0 / (1.0 + np.exp(-1 * y_pred_train))\n",
        "  # y_pred_test = clf.predict_proba(X_test)\n",
        "  # y_pred_test = clf.staged_decision_function(X_test)\n",
        "  # sigm_test = 1.0 / (1.0 + np.exp(-1 * y_pred_test))\n",
        "  # train_loss = log_loss(y_train, y_pred_train)\n",
        "  # test_loss = log_loss(y_test, y_pred_test)\n",
        "\n",
        "  # print(f\"{learning_rate}: {clf.score(X_test, y_test)}\")\n",
        "\n",
        "\n",
        "# y_pred_train = clf.predict_proba(X_train)\n",
        "# y_pred_train = clf.staged_decision_function(X_train)\n",
        "# sigm_train = 1.0 / (1.0 + np.exp(-y_pred_train))\n",
        "# y_pred_test = clf.predict_proba(X_test)\n",
        "# y_pred_test = clf.staged_decision_function(X_test)\n",
        "# sigm_test = 1.0 / (1.0 + np.exp(-y_pred_test))\n",
        "# train_loss = log_loss(y_train, sigm_train)\n",
        "# test_loss = log_loss(y_test, sigm_test)\n",
        "\n",
        "print(f\"{0.2}: {clf.score(X_test, y_test)}\")\n",
        "plt.figure()\n",
        "plt.plot(scores_test, 'r', linewidth=2)\n",
        "plt.plot(scores_train, 'g', linewidth=2)\n",
        "plt.legend(['test', 'train'])"
      ],
      "metadata": {
        "colab": {
          "base_uri": "https://localhost:8080/",
          "height": 1000
        },
        "id": "3cZPA_GuNIcU",
        "outputId": "3ee39625-65e7-4299-8347-61519b25e308"
      },
      "execution_count": null,
      "outputs": [
        {
          "output_type": "stream",
          "name": "stdout",
          "text": [
            "      Iter       Train Loss   Remaining Time \n",
            "         1           1.0190           12.00s\n",
            "         2           0.9192           11.70s\n",
            "         3           0.8272           11.76s\n",
            "         4           0.7834           12.00s\n",
            "         5           0.7109           12.17s\n",
            "         6           0.6368           12.13s\n",
            "         7           0.5797           12.02s\n",
            "         8           0.5610           12.15s\n",
            "         9           0.5185           12.16s\n",
            "        10           0.4984           12.17s\n",
            "        20           0.1999           11.77s\n",
            "        30           0.1313           11.15s\n",
            "        40           0.0790           10.70s\n",
            "        50           0.0511           10.19s\n",
            "        60           0.0352            9.66s\n",
            "        70           0.0245            9.13s\n",
            "        80           0.0162            8.64s\n",
            "        90           0.0114            8.17s\n",
            "       100           0.0077            7.67s\n",
            "       200           0.0002            2.53s\n",
            "[0.66566621 0.64478495 0.62784778 0.61377612 0.60176855 0.59229443\n",
            " 0.58372548 0.576526   0.56851236 0.56312192 0.55859275 0.55545588\n",
            " 0.55241806 0.55029941 0.54699104 0.54430401 0.54244231 0.54070362\n",
            " 0.53979925 0.53883913 0.53705598 0.53521657 0.53328514 0.53150859\n",
            " 0.53209792 0.53081553 0.53112041 0.52913033 0.52844687 0.52839212\n",
            " 0.52940453 0.5293406  0.53025368 0.5301584  0.53079905 0.53050423\n",
            " 0.52948005 0.52897195 0.52897735 0.52868491 0.52860813 0.52895835\n",
            " 0.52859056 0.52917307 0.52925821 0.52946041 0.52893802 0.52843558\n",
            " 0.52807688 0.52660544 0.5260307  0.52590491 0.52625092 0.5263112\n",
            " 0.52685547 0.52796369 0.5275098  0.527985   0.52811376 0.52837418\n",
            " 0.52876444 0.52942358 0.52986349 0.53018001 0.53111735 0.53073688\n",
            " 0.53033823 0.53035412 0.52961174 0.53006785 0.52985793 0.52969973\n",
            " 0.5310137  0.53176497 0.53198381 0.5322795  0.53237263 0.53260222\n",
            " 0.53350855 0.53369737 0.53380591 0.53326984 0.53366461 0.53316858\n",
            " 0.5334591  0.53260255 0.53309254 0.53321223 0.53401994 0.53392765\n",
            " 0.53452464 0.53459609 0.53524765 0.53521875 0.53494287 0.53496354\n",
            " 0.53570314 0.53557776 0.5359224  0.53644075 0.53751989 0.53748031\n",
            " 0.5372527  0.53809917 0.53788529 0.53820136 0.53786739 0.53757911\n",
            " 0.53798202 0.53823999 0.53795993 0.53958687 0.53974194 0.53908765\n",
            " 0.53943681 0.54021209 0.54023181 0.54054149 0.54010556 0.53978496\n",
            " 0.5393767  0.53897409 0.53918431 0.53935009 0.53932218 0.53924231\n",
            " 0.53915412 0.53920103 0.53947568 0.53991277 0.5395872  0.53934071\n",
            " 0.53983259 0.5401528  0.54073539 0.54102764 0.54130906 0.54087427\n",
            " 0.54089992 0.54118848 0.54133051 0.54191203 0.54206773 0.54238215\n",
            " 0.54205829 0.54207451 0.54199568 0.54269265 0.54245833 0.54259153\n",
            " 0.54372742 0.54418779 0.54492024 0.54498717 0.54472519 0.54472453\n",
            " 0.54473479 0.54506139 0.54536657 0.54533004 0.5450204  0.54547844\n",
            " 0.54584625 0.545727   0.54610849 0.54727042 0.54833074 0.54871542\n",
            " 0.54884522 0.54883091 0.54949989 0.5496964  0.54990351 0.55018218\n",
            " 0.54996959 0.55004654 0.55024163 0.55059029 0.55051865 0.55027198\n",
            " 0.54996686 0.54999009 0.54983136 0.5500827  0.55052839 0.55018763\n",
            " 0.55024851 0.55077537 0.55078789 0.55062977 0.55100921 0.55144939\n",
            " 0.55163081 0.55185265 0.5523822  0.55257394 0.55367815 0.55417375\n",
            " 0.55417823 0.55479625 0.55493643 0.5547552  0.55538404 0.55530604\n",
            " 0.55554028 0.55551235 0.55565199 0.55601571 0.55641017 0.5563643\n",
            " 0.55631042 0.55649174 0.55670486 0.5566043  0.55718035 0.55784452\n",
            " 0.55768025 0.55767844 0.5578406  0.55778938 0.55820962 0.55826651\n",
            " 0.55807607 0.55838147 0.55883523 0.55956038 0.56001872 0.56015876\n",
            " 0.56040245 0.5605303  0.56090788 0.56059941 0.56089514 0.56175608\n",
            " 0.56190286 0.56193664 0.56262462 0.56279407 0.56316658 0.56366796\n",
            " 0.56410435 0.56432835 0.56453786 0.56490576 0.56525201 0.56540682\n",
            " 0.5662641  0.56636284 0.56601476 0.5666225 ]\n",
            "   iter      loss\n",
            "0     1  0.582294\n",
            "1: 0.7434188603798734\n",
            "      Iter       Train Loss   Remaining Time \n",
            "         1           1.1255           12.05s\n",
            "         2           1.0035           12.50s\n",
            "         3           0.9386           12.76s\n",
            "         4           0.8844           12.49s\n",
            "         5           0.8381           12.31s\n",
            "         6           0.7995           12.26s\n",
            "         7           0.7559           12.10s\n",
            "         8           0.7205           12.20s\n",
            "         9           0.6958           12.05s\n",
            "        10           0.6725           11.95s\n",
            "        20           0.4672           11.52s\n",
            "        30           0.3179           11.12s\n",
            "        40           0.2274           10.64s\n",
            "        50           0.1774           10.11s\n",
            "        60           0.1394            9.63s\n",
            "        70           0.1050            9.10s\n",
            "        80           0.0805            8.61s\n",
            "        90           0.0650            8.11s\n",
            "       100           0.0511            7.62s\n",
            "       200           0.0058            2.53s\n",
            "     iter      loss\n",
            "0       1  0.582294\n",
            "1       2  0.586915\n",
            "2       3  0.610679\n",
            "3       4  0.627545\n",
            "4       5  0.661704\n",
            "..    ...       ...\n",
            "245   246  1.607238\n",
            "246   247  1.608828\n",
            "247   248  1.612701\n",
            "248   249  1.616346\n",
            "249   250  1.619596\n",
            "\n",
            "[250 rows x 2 columns]\n",
            "   iter      loss\n",
            "6     7  0.558426\n",
            "0.5: 0.7320893035654782\n",
            "      Iter       Train Loss   Remaining Time \n",
            "         1           1.2095           12.34s\n",
            "         2           1.1006           12.16s\n",
            "         3           1.0240           12.35s\n",
            "         4           0.9729           12.25s\n",
            "         5           0.9387           12.33s\n",
            "         6           0.8948           12.33s\n",
            "         7           0.8621           12.42s\n",
            "         8           0.8360           12.78s\n",
            "         9           0.8171           12.82s\n",
            "        10           0.7883           12.68s\n",
            "        20           0.6029           12.04s\n",
            "        30           0.4760           11.59s\n",
            "        40           0.3879           11.02s\n",
            "        50           0.3325           10.38s\n",
            "        60           0.2759            9.79s\n",
            "        70           0.2304            9.26s\n",
            "        80           0.1969            8.71s\n",
            "        90           0.1718            8.20s\n",
            "       100           0.1404            7.66s\n",
            "       200           0.0358            2.53s\n",
            "     iter      loss\n",
            "0       1  0.598784\n",
            "1       2  0.570690\n",
            "2       3  0.564809\n",
            "3       4  0.560641\n",
            "4       5  0.558673\n",
            "..    ...       ...\n",
            "245   246  1.000817\n",
            "246   247  1.003299\n",
            "247   248  1.004662\n",
            "248   249  1.005803\n",
            "249   250  1.006871\n",
            "\n",
            "[250 rows x 2 columns]\n",
            "    iter      loss\n",
            "10    11  0.543284\n",
            "0.3: 0.7404198600466512\n",
            "      Iter       Train Loss   Remaining Time \n",
            "         1           1.2613           12.60s\n",
            "         2           1.1715           12.85s\n",
            "         3           1.1009           13.56s\n",
            "         4           1.0529           13.22s\n",
            "         5           1.0130           13.28s\n",
            "         6           0.9740           12.97s\n",
            "         7           0.9475           12.87s\n",
            "         8           0.9197           12.73s\n",
            "         9           0.8979           12.63s\n",
            "        10           0.8730           12.54s\n",
            "        20           0.7207           11.84s\n",
            "        30           0.6055           11.28s\n",
            "        40           0.5244           10.74s\n",
            "        50           0.4501           10.31s\n",
            "        60           0.3908            9.83s\n",
            "        70           0.3372            9.28s\n",
            "        80           0.3009            8.72s\n",
            "        90           0.2603            8.20s\n",
            "       100           0.2327            7.70s\n",
            "       200           0.0835            2.77s\n",
            "     iter      loss\n",
            "0       1  0.625706\n",
            "1       2  0.589778\n",
            "2       3  0.571035\n",
            "3       4  0.565508\n",
            "4       5  0.558626\n",
            "..    ...       ...\n",
            "245   246  0.761772\n",
            "246   247  0.762717\n",
            "247   248  0.762834\n",
            "248   249  0.763193\n",
            "249   250  0.765408\n",
            "\n",
            "[250 rows x 2 columns]\n",
            "    iter      loss\n",
            "36    37  0.530165\n",
            "0.2: 0.7500833055648117\n",
            "      Iter       Train Loss   Remaining Time \n",
            "         1           1.3199           11.94s\n",
            "         2           1.2645           11.77s\n",
            "         3           1.2170           12.90s\n",
            "         4           1.1775           12.67s\n",
            "         5           1.1404           12.53s\n",
            "         6           1.1106           12.43s\n",
            "         7           1.0844           12.67s\n",
            "         8           1.0617           12.57s\n",
            "         9           1.0411           12.46s\n",
            "        10           1.0223           12.34s\n",
            "        20           0.8864           11.48s\n",
            "        30           0.7844           11.13s\n",
            "        40           0.7176           10.61s\n",
            "        50           0.6590           10.20s\n",
            "        60           0.6120            9.67s\n",
            "        70           0.5599            9.15s\n",
            "        80           0.5242            8.62s\n",
            "        90           0.4829            9.42s\n",
            "       100           0.4473            8.71s\n",
            "       200           0.2379            2.71s\n",
            "     iter      loss\n",
            "0       1  0.644018\n",
            "1       2  0.611680\n",
            "2       3  0.590484\n",
            "3       4  0.576736\n",
            "4       5  0.563464\n",
            "..    ...       ...\n",
            "245   246  0.654598\n",
            "246   247  0.655594\n",
            "247   248  0.656287\n",
            "248   249  0.656580\n",
            "249   250  0.657673\n",
            "\n",
            "[250 rows x 2 columns]\n",
            "    iter      loss\n",
            "51    52  0.525905\n",
            "0.1: 0.7454181939353549\n",
            "0.2: 0.7454181939353549\n"
          ]
        },
        {
          "output_type": "execute_result",
          "data": {
            "text/plain": [
              "<matplotlib.legend.Legend at 0x7f5bb1ac91d0>"
            ]
          },
          "metadata": {},
          "execution_count": 188
        },
        {
          "output_type": "display_data",
          "data": {
            "text/plain": [
              "<Figure size 1080x576 with 1 Axes>"
            ],
            "image/png": "[encoded data removed]"
          },
          "metadata": {
            "needs_background": "light"
          }
        },
        {
          "output_type": "display_data",
          "data": {
            "text/plain": [
              "<Figure size 1080x576 with 1 Axes>"
            ],
            "image/png": "[encoded data removed]"
          },
          "metadata": {
            "needs_background": "light"
          }
        },
        {
          "output_type": "display_data",
          "data": {
            "text/plain": [
              "<Figure size 1080x576 with 1 Axes>"
            ],
            "image/png": "[encoded data removed]"
          },
          "metadata": {
            "needs_background": "light"
          }
        },
        {
          "output_type": "display_data",
          "data": {
            "text/plain": [
              "<Figure size 1080x576 with 1 Axes>"
            ],
            "image/png": "[encoded data removed]"
          },
          "metadata": {
            "needs_background": "light"
          }
        },
        {
          "output_type": "display_data",
          "data": {
            "text/plain": [
              "<Figure size 1080x576 with 1 Axes>"
            ],
            "image/png": "[encoded data removed]"
          },
          "metadata": {
            "needs_background": "light"
          }
        },
        {
          "output_type": "display_data",
          "data": {
            "text/plain": [
              "<Figure size 432x288 with 1 Axes>"
            ],
            "image/png": "[encoded data removed]"
          },
          "metadata": {
            "needs_background": "light"
          }
        }
      ]
    },
    {
      "cell_type": "code",
      "source": [
        "test_loss = list()\n",
        "for i, y_pred in enumerate(clf.staged_decision_function(X_test)):\n",
        "    y_pred = 1.0 / (1.0 + np.exp(- y_pred))\n",
        "    test_loss.append([i + 1, log_loss(y_test, y_pred)])\n",
        "print(test_loss)\n",
        "test_loss = pd.DataFrame(test_loss, columns=['iter','loss'])\n",
        "print(test_loss)\n",
        "# Извлечение значения минимального лосса\n",
        "test_loss[test_loss.loss==test_loss.loss.min()]"
      ],
      "metadata": {
        "colab": {
          "base_uri": "https://localhost:8080/",
          "height": 376
        },
        "id": "Rk_59BIzqxZf",
        "outputId": "bb15693b-d842-43b7-fecf-4316b7dcb33c"
      },
      "execution_count": null,
      "outputs": [
        {
          "output_type": "stream",
          "name": "stdout",
          "text": [
            "[[1, 0.6656662128911628], [2, 0.6447849533587623], [3, 0.6278477760517435], [4, 0.6137761219398765], [5, 0.6017685520975675], [6, 0.5922944270203515], [7, 0.5837254785162039], [8, 0.5765260048297186], [9, 0.5685123567920145], [10, 0.5631219163195248], [11, 0.5585927515523713], [12, 0.5554558767572555], [13, 0.552418058527671], [14, 0.5502994078627705], [15, 0.5469910380738718], [16, 0.5443040130406592], [17, 0.5424423134173889], [18, 0.5407036184499988], [19, 0.5397992510703403], [20, 0.538839133951081], [21, 0.5370559815904965], [22, 0.5352165687515567], [23, 0.5332851364614557], [24, 0.5315085881485817], [25, 0.5320979177873476], [26, 0.5308155298007047], [27, 0.5311204137364423], [28, 0.5291303301946163], [29, 0.5284468666589844], [30, 0.5283921178441401], [31, 0.5294045346633199], [32, 0.5293406048654449], [33, 0.5302536836239401], [34, 0.5301584037613137], [35, 0.5307990506799741], [36, 0.5305042323149473], [37, 0.529480047546337], [38, 0.528971953797985], [39, 0.5289773512643281], [40, 0.5286849054135783], [41, 0.5286081333088655], [42, 0.5289583486600263], [43, 0.5285905610953094], [44, 0.5291730710948739], [45, 0.5292582090513027], [46, 0.529460406993112], [47, 0.5289380227345327], [48, 0.5284355765230496], [49, 0.5280768760269703], [50, 0.5266054402313333], [51, 0.5260307017386329], [52, 0.5259049090698129], [53, 0.5262509174499352], [54, 0.526311197377768], [55, 0.5268554650071416], [56, 0.527963691862823], [57, 0.527509801694355], [58, 0.5279850005760464], [59, 0.5281137560333492], [60, 0.5283741848020566], [61, 0.5287644350768494], [62, 0.5294235757205296], [63, 0.5298634915732442], [64, 0.5301800135273201], [65, 0.531117351827207], [66, 0.5307368820455561], [67, 0.5303382332428692], [68, 0.5303541247470085], [69, 0.5296117355591426], [70, 0.5300678471901028], [71, 0.5298579290868376], [72, 0.5296997271996935], [73, 0.5310137038007152], [74, 0.531764968274857], [75, 0.531983807241348], [76, 0.5322794955951068], [77, 0.5323726284811676], [78, 0.5326022187531898], [79, 0.5335085479011406], [80, 0.53369737319443], [81, 0.5338059105377085], [82, 0.5332698401360468], [83, 0.5336646140870995], [84, 0.5331685837272873], [85, 0.5334591019827323], [86, 0.5326025529408352], [87, 0.5330925421667702], [88, 0.5332122265232503], [89, 0.5340199370157311], [90, 0.5339276545111057], [91, 0.5345246351492257], [92, 0.5345960880491899], [93, 0.5352476536629508], [94, 0.5352187471813378], [95, 0.5349428745404337], [96, 0.5349635386935624], [97, 0.5357031352828875], [98, 0.535577760110169], [99, 0.5359223981215259], [100, 0.5364407511512987], [101, 0.5375198917355938], [102, 0.5374803101500514], [103, 0.5372527010066153], [104, 0.5380991653517052], [105, 0.5378852924284561], [106, 0.5382013623375593], [107, 0.5378673853936962], [108, 0.5375791144658184], [109, 0.5379820162059075], [110, 0.5382399939068125], [111, 0.5379599327409627], [112, 0.5395868727674215], [113, 0.5397419413241415], [114, 0.5390876467603667], [115, 0.5394368071118483], [116, 0.5402120887579906], [117, 0.5402318052630457], [118, 0.5405414903018317], [119, 0.5401055578509184], [120, 0.5397849566496246], [121, 0.5393766961907566], [122, 0.5389740882917993], [123, 0.5391843079805516], [124, 0.5393500933175795], [125, 0.5393221834864704], [126, 0.5392423120825707], [127, 0.5391541159794406], [128, 0.5392010333945272], [129, 0.5394756781150988], [130, 0.539912770581127], [131, 0.5395872015540444], [132, 0.5393407084406941], [133, 0.5398325854361733], [134, 0.540152800687979], [135, 0.5407353913060444], [136, 0.5410276353744589], [137, 0.5413090610084264], [138, 0.5408742718978519], [139, 0.5408999191812418], [140, 0.5411884840834686], [141, 0.5413305139794684], [142, 0.5419120252116767], [143, 0.5420677306823568], [144, 0.5423821482110353], [145, 0.5420582905772402], [146, 0.5420745127528489], [147, 0.5419956813059895], [148, 0.5426926467707798], [149, 0.5424583342948291], [150, 0.5425915271372865], [151, 0.543727418642446], [152, 0.544187789165401], [153, 0.54492023961355], [154, 0.5449871743153288], [155, 0.5447251887516935], [156, 0.5447245277394939], [157, 0.5447347897265002], [158, 0.5450613850915057], [159, 0.545366567946957], [160, 0.5453300436075761], [161, 0.5450203995104634], [162, 0.5454784382045227], [163, 0.545846250182735], [164, 0.5457270018148846], [165, 0.5461084924436999], [166, 0.5472704157466131], [167, 0.548330741196116], [168, 0.5487154224205258], [169, 0.5488452159462152], [170, 0.54883091053877], [171, 0.5494998880308188], [172, 0.549696399641222], [173, 0.5499035147921675], [174, 0.5501821799087196], [175, 0.5499695905597567], [176, 0.5500465423193716], [177, 0.5502416342480253], [178, 0.5505902892948413], [179, 0.5505186529408033], [180, 0.550271981972868], [181, 0.5499668649559651], [182, 0.5499900881166162], [183, 0.5498313550447776], [184, 0.5500827029169323], [185, 0.5505283935579627], [186, 0.5501876301843284], [187, 0.5502485131389271], [188, 0.5507753701492811], [189, 0.5507878905084047], [190, 0.5506297732340895], [191, 0.5510092134747596], [192, 0.5514493858313012], [193, 0.5516308074883746], [194, 0.5518526465693854], [195, 0.5523821989318186], [196, 0.5525739367536648], [197, 0.5536781480050289], [198, 0.5541737539890306], [199, 0.5541782297377243], [200, 0.5547962482617717], [201, 0.5549364336057591], [202, 0.5547551969194859], [203, 0.5553840413530511], [204, 0.5553060429737589], [205, 0.555540277396087], [206, 0.5555123468493419], [207, 0.5556519914933068], [208, 0.5560157052770603], [209, 0.5564101734885889], [210, 0.556364297128407], [211, 0.5563104230311914], [212, 0.5564917362318177], [213, 0.5567048610107138], [214, 0.5566043030645974], [215, 0.5571803538417606], [216, 0.5578445214333297], [217, 0.5576802453945414], [218, 0.5576784400147715], [219, 0.5578406005413105], [220, 0.5577893758339931], [221, 0.5582096246210457], [222, 0.5582665093228207], [223, 0.5580760687185066], [224, 0.5583814732117415], [225, 0.5588352273590284], [226, 0.5595603845000983], [227, 0.5600187167003597], [228, 0.5601587626974794], [229, 0.5604024528722471], [230, 0.5605302986901055], [231, 0.5609078765608344], [232, 0.5605994131853289], [233, 0.5608951368287066], [234, 0.5617560791030816], [235, 0.561902860946658], [236, 0.5619366399232535], [237, 0.5626246154756562], [238, 0.5627940654169825], [239, 0.5631665830725797], [240, 0.5636679588309048], [241, 0.5641043450850869], [242, 0.5643283492450969], [243, 0.5645378564939026], [244, 0.56490576474824], [245, 0.5652520120409057], [246, 0.5654068170239029], [247, 0.5662641013117619], [248, 0.5663628351143042], [249, 0.5660147645764828], [250, 0.5666225037988925]]\n",
            "     iter      loss\n",
            "0       1  0.665666\n",
            "1       2  0.644785\n",
            "2       3  0.627848\n",
            "3       4  0.613776\n",
            "4       5  0.601769\n",
            "..    ...       ...\n",
            "245   246  0.565407\n",
            "246   247  0.566264\n",
            "247   248  0.566363\n",
            "248   249  0.566015\n",
            "249   250  0.566623\n",
            "\n",
            "[250 rows x 2 columns]\n"
          ]
        },
        {
          "output_type": "execute_result",
          "data": {
            "text/plain": [
              "    iter      loss\n",
              "51    52  0.525905"
            ],
            "text/html": [
              "\n",
              "  <div id=\"df-8136b968-d965-4bbd-bd60-21d9ae3f1113\">\n",
              "    <div class=\"colab-df-container\">\n",
              "      <div>\n",
              "<style scoped>\n",
              "    .dataframe tbody tr th:only-of-type {\n",
              "        vertical-align: middle;\n",
              "    }\n",
              "\n",
              "    .dataframe tbody tr th {\n",
              "        vertical-align: top;\n",
              "    }\n",
              "\n",
              "    .dataframe thead th {\n",
              "        text-align: right;\n",
              "    }\n",
              "</style>\n",
              "<table border=\"1\" class=\"dataframe\">\n",
              "  <thead>\n",
              "    <tr style=\"text-align: right;\">\n",
              "      <th></th>\n",
              "      <th>iter</th>\n",
              "      <th>loss</th>\n",
              "    </tr>\n",
              "  </thead>\n",
              "  <tbody>\n",
              "    <tr>\n",
              "      <th>51</th>\n",
              "      <td>52</td>\n",
              "      <td>0.525905</td>\n",
              "    </tr>\n",
              "  </tbody>\n",
              "</table>\n",
              "</div>\n",
              "      <button class=\"colab-df-convert\" onclick=\"convertToInteractive('df-8136b968-d965-4bbd-bd60-21d9ae3f1113')\"\n",
              "              title=\"Convert this dataframe to an interactive table.\"\n",
              "              style=\"display:none;\">\n",
              "        \n",
              "  <svg xmlns=\"http://www.w3.org/2000/svg\" height=\"24px\"viewBox=\"0 0 24 24\"\n",
              "       width=\"24px\">\n",
              "    <path d=\"M0 0h24v24H0V0z\" fill=\"none\"/>\n",
              "    <path d=\"M18.56 5.44l.94 2.06.94-2.06 2.06-.94-2.06-.94-.94-2.06-.94 2.06-2.06.94zm-11 1L8.5 8.5l.94-2.06 2.06-.94-2.06-.94L8.5 2.5l-.94 2.06-2.06.94zm10 10l.94 2.06.94-2.06 2.06-.94-2.06-.94-.94-2.06-.94 2.06-2.06.94z\"/><path d=\"M17.41 7.96l-1.37-1.37c-.4-.4-.92-.59-1.43-.59-.52 0-1.04.2-1.43.59L10.3 9.45l-7.72 7.72c-.78.78-.78 2.05 0 2.83L4 21.41c.39.39.9.59 1.41.59.51 0 1.02-.2 1.41-.59l7.78-7.78 2.81-2.81c.8-.78.8-2.07 0-2.86zM5.41 20L4 18.59l7.72-7.72 1.47 1.35L5.41 20z\"/>\n",
              "  </svg>\n",
              "      </button>\n",
              "      \n",
              "  <style>\n",
              "    .colab-df-container {\n",
              "      display:flex;\n",
              "      flex-wrap:wrap;\n",
              "      gap: 12px;\n",
              "    }\n",
              "\n",
              "    .colab-df-convert {\n",
              "      background-color: #E8F0FE;\n",
              "      border: none;\n",
              "      border-radius: 50%;\n",
              "      cursor: pointer;\n",
              "      display: none;\n",
              "      fill: #1967D2;\n",
              "      height: 32px;\n",
              "      padding: 0 0 0 0;\n",
              "      width: 32px;\n",
              "    }\n",
              "\n",
              "    .colab-df-convert:hover {\n",
              "      background-color: #E2EBFA;\n",
              "      box-shadow: 0px 1px 2px rgba(60, 64, 67, 0.3), 0px 1px 3px 1px rgba(60, 64, 67, 0.15);\n",
              "      fill: #174EA6;\n",
              "    }\n",
              "\n",
              "    [theme=dark] .colab-df-convert {\n",
              "      background-color: #3B4455;\n",
              "      fill: #D2E3FC;\n",
              "    }\n",
              "\n",
              "    [theme=dark] .colab-df-convert:hover {\n",
              "      background-color: #434B5C;\n",
              "      box-shadow: 0px 1px 3px 1px rgba(0, 0, 0, 0.15);\n",
              "      filter: drop-shadow(0px 1px 2px rgba(0, 0, 0, 0.3));\n",
              "      fill: #FFFFFF;\n",
              "    }\n",
              "  </style>\n",
              "\n",
              "      <script>\n",
              "        const buttonEl =\n",
              "          document.querySelector('#df-8136b968-d965-4bbd-bd60-21d9ae3f1113 button.colab-df-convert');\n",
              "        buttonEl.style.display =\n",
              "          google.colab.kernel.accessAllowed ? 'block' : 'none';\n",
              "\n",
              "        async function convertToInteractive(key) {\n",
              "          const element = document.querySelector('#df-8136b968-d965-4bbd-bd60-21d9ae3f1113');\n",
              "          const dataTable =\n",
              "            await google.colab.kernel.invokeFunction('convertToInteractive',\n",
              "                                                     [key], {});\n",
              "          if (!dataTable) return;\n",
              "\n",
              "          const docLinkHtml = 'Like what you see? Visit the ' +\n",
              "            '<a target=\"_blank\" href=https://colab.research.google.com/notebooks/data_table.ipynb>data table notebook</a>'\n",
              "            + ' to learn more about interactive tables.';\n",
              "          element.innerHTML = '';\n",
              "          dataTable['output_type'] = 'display_data';\n",
              "          await google.colab.output.renderOutput(dataTable, element);\n",
              "          const docLink = document.createElement('div');\n",
              "          docLink.innerHTML = docLinkHtml;\n",
              "          element.appendChild(docLink);\n",
              "        }\n",
              "      </script>\n",
              "    </div>\n",
              "  </div>\n",
              "  "
            ]
          },
          "metadata": {},
          "execution_count": 173
        }
      ]
    },
    {
      "cell_type": "code",
      "source": [
        "plt.figure(figsize=(15,8))\n",
        "for name, color in [('max','red'), ('high','orange'), ('medium','yellow'), ('low','green'), ('min','blue')]:\n",
        "    plt.plot(trainloglosses[name], color = color, label = name+' train')\n",
        "    plt.plot(testloglosses[name], color = color, linestyle = 'dashed', label = name+' test')\n",
        "plt.legend(loc='upper left')\n",
        "plt.show()"
      ],
      "metadata": {
        "colab": {
          "base_uri": "https://localhost:8080/"
        },
        "id": "JwepeW49Xi0M",
        "outputId": "58478345-c5f8-4233-966f-4150bd0540d6"
      },
      "execution_count": null,
      "outputs": [
        {
          "output_type": "execute_result",
          "data": {
            "text/plain": [
              "array([1., 0., 1., ..., 0., 0., 0.])"
            ]
          },
          "metadata": {},
          "execution_count": 159
        }
      ]
    },
    {
      "cell_type": "code",
      "source": [
        "%%time\n",
        "from sklearn.metrics import log_loss\n",
        "learning_rate=[1, 0.5, 0.3, 0.2, 0.1]\n",
        "for i in range(5):\n",
        "    cf=GradientBoostingClassifier( n_estimators=250, verbose=True, random_state=241,learning_rate=learning_rate[i])\n",
        "    cf.fit(X_train,y_train)\n",
        "    test_loss = np.empty(250)\n",
        "    for m, y_decision in enumerate(cf.staged_decision_function(X_test)):\n",
        "        y_pred_test = 1.0/(1.0 + np.exp(-y_decision))\n",
        "        test_loss[m] = log_loss(y_test, y_pred_test)\n",
        "    print(test_loss.max())\n",
        "    if learning_rate[i]==0.2:\n",
        "        print(min(range(len(test_loss)), key=test_loss.__getitem__))\n",
        "    print(test_loss.min())\n",
        "\n",
        "    plt.figure()\n",
        "    plt.plot(test_loss, 'r', linewidth=2)\n",
        "    plt.show()"
      ],
      "metadata": {
        "colab": {
          "base_uri": "https://localhost:8080/",
          "height": 1000
        },
        "id": "aG4ozJ7xsy0f",
        "outputId": "10ec09fa-85f7-4681-f8c0-8633ca21cdfb"
      },
      "execution_count": null,
      "outputs": [
        {
          "output_type": "stream",
          "name": "stdout",
          "text": [
            "      Iter       Train Loss   Remaining Time \n",
            "         1           1.0190           29.97s\n",
            "         2           0.9192           23.57s\n",
            "         3           0.8272           22.25s\n",
            "         4           0.7834           21.34s\n",
            "         5           0.7109           20.46s\n",
            "         6           0.6368           20.32s\n",
            "         7           0.5797           19.90s\n",
            "         8           0.5610           20.14s\n",
            "         9           0.5185           20.07s\n",
            "        10           0.4984           20.55s\n",
            "        20           0.1999           19.41s\n",
            "        30           0.1313           18.04s\n",
            "        40           0.0790           17.03s\n",
            "        50           0.0511           16.25s\n",
            "        60           0.0352           15.33s\n",
            "        70           0.0245           14.44s\n",
            "        80           0.0162           13.59s\n",
            "        90           0.0114           12.83s\n",
            "       100           0.0077           11.95s\n",
            "       200           0.0002            3.49s\n",
            "1.619595560908127\n",
            "0.5822942594278475\n"
          ]
        },
        {
          "output_type": "display_data",
          "data": {
            "text/plain": [
              "<Figure size 432x288 with 1 Axes>"
            ],
            "image/png": "[encoded data removed]"
          },
          "metadata": {
            "needs_background": "light"
          }
        },
        {
          "output_type": "stream",
          "name": "stdout",
          "text": [
            "      Iter       Train Loss   Remaining Time \n",
            "         1           1.1255           13.01s\n",
            "         2           1.0035           12.62s\n",
            "         3           0.9386           12.38s\n",
            "         4           0.8844           12.48s\n",
            "         5           0.8381           12.43s\n",
            "         6           0.7995           12.46s\n",
            "         7           0.7559           12.47s\n",
            "         8           0.7205           12.51s\n",
            "         9           0.6958           12.41s\n",
            "        10           0.6725           12.38s\n",
            "        20           0.4672           11.67s\n",
            "        30           0.3179           11.07s\n",
            "        40           0.2274           10.57s\n",
            "        50           0.1774           10.03s\n",
            "        60           0.1394            9.50s\n",
            "        70           0.1050            8.94s\n",
            "        80           0.0805            8.40s\n",
            "        90           0.0650            7.89s\n",
            "       100           0.0511            7.39s\n",
            "       200           0.0058            2.48s\n",
            "1.0068705845714534\n",
            "0.5584259973942154\n"
          ]
        },
        {
          "output_type": "display_data",
          "data": {
            "text/plain": [
              "<Figure size 432x288 with 1 Axes>"
            ],
            "image/png": "[encoded data removed]"
          },
          "metadata": {
            "needs_background": "light"
          }
        },
        {
          "output_type": "stream",
          "name": "stdout",
          "text": [
            "      Iter       Train Loss   Remaining Time \n",
            "         1           1.2095           12.63s\n",
            "         2           1.1006           12.20s\n",
            "         3           1.0240           12.01s\n",
            "         4           0.9729           12.35s\n",
            "         5           0.9387           12.28s\n",
            "         6           0.8948           12.27s\n",
            "         7           0.8621           12.16s\n",
            "         8           0.8360           12.16s\n",
            "         9           0.8171           12.16s\n",
            "        10           0.7883           12.13s\n",
            "        20           0.6029           11.66s\n",
            "        30           0.4760           11.04s\n",
            "        40           0.3879           10.43s\n",
            "        50           0.3325           10.00s\n",
            "        60           0.2759            9.46s\n",
            "        70           0.2304            8.96s\n",
            "        80           0.1969            8.47s\n",
            "        90           0.1718            8.00s\n",
            "       100           0.1404            7.48s\n",
            "       200           0.0358            2.48s\n",
            "0.7654076370698525\n",
            "0.5432835808866866\n"
          ]
        },
        {
          "output_type": "display_data",
          "data": {
            "text/plain": [
              "<Figure size 432x288 with 1 Axes>"
            ],
            "image/png": "[encoded data removed]"
          },
          "metadata": {
            "needs_background": "light"
          }
        },
        {
          "output_type": "stream",
          "name": "stdout",
          "text": [
            "      Iter       Train Loss   Remaining Time \n",
            "         1           1.2613           14.86s\n",
            "         2           1.1715           13.42s\n",
            "         3           1.1009           12.85s\n",
            "         4           1.0529           12.82s\n",
            "         5           1.0130           12.76s\n",
            "         6           0.9740           12.74s\n",
            "         7           0.9475           13.29s\n",
            "         8           0.9197           13.14s\n",
            "         9           0.8979           13.05s\n",
            "        10           0.8730           12.83s\n",
            "        20           0.7207           11.97s\n",
            "        30           0.6055           11.32s\n",
            "        40           0.5244           10.68s\n",
            "        50           0.4501           10.22s\n",
            "        60           0.3908            9.64s\n",
            "        70           0.3372            9.09s\n",
            "        80           0.3009            8.56s\n",
            "        90           0.2603            8.05s\n",
            "       100           0.2327            7.53s\n",
            "       200           0.0835            2.46s\n",
            "0.6576733143977536\n",
            "36\n",
            "0.5301645204906471\n"
          ]
        },
        {
          "output_type": "display_data",
          "data": {
            "text/plain": [
              "<Figure size 432x288 with 1 Axes>"
            ],
            "image/png": "[encoded data removed]"
          },
          "metadata": {
            "needs_background": "light"
          }
        },
        {
          "output_type": "stream",
          "name": "stdout",
          "text": [
            "      Iter       Train Loss   Remaining Time \n",
            "         1           1.3199           11.74s\n",
            "         2           1.2645           13.02s\n",
            "         3           1.2170           12.53s\n",
            "         4           1.1775           12.37s\n",
            "         5           1.1404           12.47s\n",
            "         6           1.1106           12.27s\n",
            "         7           1.0844           12.27s\n",
            "         8           1.0617           12.30s\n",
            "         9           1.0411           12.25s\n",
            "        10           1.0223           12.12s\n",
            "        20           0.8864           11.49s\n",
            "        30           0.7844           10.95s\n",
            "        40           0.7176           10.52s\n",
            "        50           0.6590           10.00s\n",
            "        60           0.6120            9.53s\n",
            "        70           0.5599            9.03s\n",
            "        80           0.5242            8.52s\n",
            "        90           0.4829            8.00s\n",
            "       100           0.4473            7.52s\n",
            "       200           0.2379            2.46s\n",
            "0.6656662128911628\n",
            "0.5259049090698129\n"
          ]
        },
        {
          "output_type": "display_data",
          "data": {
            "text/plain": [
              "<Figure size 432x288 with 1 Axes>"
            ],
            "image/png": "[encoded data removed]"
          },
          "metadata": {
            "needs_background": "light"
          }
        },
        {
          "output_type": "stream",
          "name": "stdout",
          "text": [
            "CPU times: user 1min 8s, sys: 148 ms, total: 1min 8s\n",
            "Wall time: 1min 9s\n"
          ]
        }
      ]
    },
    {
      "cell_type": "code",
      "source": [
        "from sklearn.ensemble import RandomForestClassifier\n",
        "\n",
        "for tree in range(1, 60):\n",
        "  rfc = RandomForestClassifier(n_estimators=tree, random_state=241)\n",
        "  rfc.fit(X_train, y_train)\n",
        "  pred = rfc.predict_proba(X_test)\n",
        "\n",
        "  print(f\"{tree}: {log_loss(y_test, pred)}\")"
      ],
      "metadata": {
        "colab": {
          "base_uri": "https://localhost:8080/"
        },
        "id": "dyf1cmlvuPPY",
        "outputId": "cce5aaae-4cfc-49af-de79-0aeda221dc39"
      },
      "execution_count": null,
      "outputs": [
        {
          "output_type": "stream",
          "name": "stdout",
          "text": [
            "1: 13.339034269144113\n",
            "2: 6.440303454669493\n",
            "3: 3.7540892877729592\n",
            "4: 2.5925776929515933\n",
            "5: 1.862274703949069\n",
            "6: 1.4360982706447545\n",
            "7: 1.170783794179871\n",
            "8: 0.9867095832774749\n",
            "9: 0.8926102022939083\n",
            "10: 0.771859181364358\n",
            "11: 0.7152633795251401\n",
            "12: 0.7026116178629582\n",
            "13: 0.660430605613384\n",
            "14: 0.6571797096851264\n",
            "15: 0.6322217284771047\n",
            "16: 0.6076061080224217\n",
            "17: 0.6055924996597513\n",
            "18: 0.6041524106248923\n",
            "19: 0.5996277981242936\n",
            "20: 0.5986550126143775\n",
            "21: 0.5873943455228201\n",
            "22: 0.5879880607311521\n",
            "23: 0.5871788629853046\n",
            "24: 0.5880939878123117\n",
            "25: 0.5862196097476081\n",
            "26: 0.5865273670087151\n",
            "27: 0.575391496335027\n",
            "28: 0.5738314770715547\n",
            "29: 0.5733008731954137\n",
            "30: 0.5745410305988689\n",
            "31: 0.5535519223778129\n",
            "32: 0.5535832358720878\n",
            "33: 0.5433286525556654\n",
            "34: 0.5417833466024389\n",
            "35: 0.5411512358478876\n",
            "36: 0.5415685811957381\n",
            "37: 0.5410941951182815\n",
            "38: 0.5415264498106022\n",
            "39: 0.5420258593344865\n",
            "40: 0.5415745016366916\n",
            "41: 0.542388068158198\n",
            "42: 0.5426615413578021\n",
            "43: 0.541584295345775\n",
            "44: 0.540363346301656\n",
            "45: 0.5403501630837824\n",
            "46: 0.5392205719912855\n",
            "47: 0.5384664876124827\n",
            "48: 0.5389355032814137\n",
            "49: 0.5392745596660302\n",
            "50: 0.5389383699751373\n",
            "51: 0.5390618347947492\n",
            "52: 0.5383402553854034\n",
            "53: 0.5372026778477482\n",
            "54: 0.5363990921062853\n",
            "55: 0.5365382604490865\n",
            "56: 0.5356102586790266\n",
            "57: 0.5365224234346913\n",
            "58: 0.537275329710432\n",
            "59: 0.5358777177967168\n"
          ]
        }
      ]
    },
    {
      "cell_type": "code",
      "source": [
        "with open('1.txt', 'w') as f:\n",
        "  f.write(\"overfitting\")"
      ],
      "metadata": {
        "id": "kFTR3w03ytRv"
      },
      "execution_count": null,
      "outputs": []
    },
    {
      "cell_type": "code",
      "source": [
        "with open('2.txt', 'w') as f:\n",
        "  f.write(\"0.53 36\")"
      ],
      "metadata": {
        "id": "8dP7qE_qy4DS"
      },
      "execution_count": null,
      "outputs": []
    },
    {
      "cell_type": "code",
      "source": [
        "with open('3.txt', 'w') as f:\n",
        "  f.write(\"0.54\")"
      ],
      "metadata": {
        "id": "puyB7WVKy5ud"
      },
      "execution_count": null,
      "outputs": []
    }
  ]
}
